{
 "cells": [
  {
   "cell_type": "markdown",
   "id": "a808656c-c067-407b-9719-23ac269d91ef",
   "metadata": {},
   "source": [
    "## part 1 ##"
   ]
  },
  {
   "cell_type": "code",
   "execution_count": 1,
   "id": "c8853478-a584-46f1-9e61-f3b136ed43de",
   "metadata": {},
   "outputs": [
    {
     "data": {
      "text/plain": [
       "['2199943210', '3987894921', '9856789892', '8767896789', '9899965678']"
      ]
     },
     "execution_count": 1,
     "metadata": {},
     "output_type": "execute_result"
    }
   ],
   "source": [
    "testdata = '''2199943210\n",
    "3987894921\n",
    "9856789892\n",
    "8767896789\n",
    "9899965678'''.split('\\n')\n",
    "testdata"
   ]
  },
  {
   "cell_type": "code",
   "execution_count": 2,
   "id": "45a1e834-f833-4487-8952-4c2b6464231b",
   "metadata": {},
   "outputs": [
    {
     "data": {
      "text/plain": [
       "'7857987631234567934569219865466976521345678967891236987656567943456789999901298798920989323678998989'"
      ]
     },
     "execution_count": 2,
     "metadata": {},
     "output_type": "execute_result"
    }
   ],
   "source": [
    "with open('day9.txt') as fp:\n",
    "    puzzledata = fp.read().split('\\n')[:-1]\n",
    "puzzledata[-1]"
   ]
  },
  {
   "cell_type": "code",
   "execution_count": 3,
   "id": "11532cff-ff80-42a4-9032-81181f66e381",
   "metadata": {},
   "outputs": [],
   "source": [
    "def heightmap(data):\n",
    "    hmap = {}\n",
    "    nrows = len(data)\n",
    "    ncols = len(data[0])\n",
    "    for i, row in enumerate(data):\n",
    "        for j,c in enumerate(row):\n",
    "            height = int(c)\n",
    "            hmap[(i,j)] = height\n",
    "    return nrows, ncols, hmap"
   ]
  },
  {
   "cell_type": "code",
   "execution_count": 4,
   "id": "99ae3ff0-2acd-4248-9fdb-c0dfe3719828",
   "metadata": {},
   "outputs": [],
   "source": [
    "def isnbor(pos, nrows, ncols):\n",
    "    r, c = pos\n",
    "    return (0 <= r < nrows) and (0 <= c < ncols)"
   ]
  },
  {
   "cell_type": "code",
   "execution_count": 5,
   "id": "99ed0156-5c10-4c38-b042-9bc5660b5a8e",
   "metadata": {},
   "outputs": [],
   "source": [
    "def islow(pos, hmap, nrows, ncols):\n",
    "    h = hmap[pos]\n",
    "    row, col = pos\n",
    "    nbors = [(r,c) for (r,c) in [(row-1, col), (row+1, col), (row, col-1), (row, col+1)] \n",
    "             if isnbor((r,c), nrows, ncols)]\n",
    "    return all(hmap[nb] > h for nb in nbors)\n",
    "\n",
    "            "
   ]
  },
  {
   "cell_type": "code",
   "execution_count": 6,
   "id": "fd1b1f3e-a020-4b03-8531-4c2d40340f0d",
   "metadata": {},
   "outputs": [],
   "source": [
    "def lowpts(hmap, nrows, ncols):\n",
    "    return [pos for pos in hmap if islow(pos, hmap, nrows, ncols)]"
   ]
  },
  {
   "cell_type": "code",
   "execution_count": 7,
   "id": "8c300c54-97f4-41e8-83dd-fce3e7d0fc49",
   "metadata": {},
   "outputs": [],
   "source": [
    "def totrisk(pts, hmap):\n",
    "    return sum(hmap[pt]+1 for pt in pts)"
   ]
  },
  {
   "cell_type": "code",
   "execution_count": 8,
   "id": "bbbe9ab2-3f7c-4562-a285-39bc6ce278a6",
   "metadata": {},
   "outputs": [],
   "source": [
    "testrows, testcols, testhmap = heightmap(testdata)"
   ]
  },
  {
   "cell_type": "code",
   "execution_count": 9,
   "id": "9c3346fe-2732-46c9-98a4-53d2da9345a2",
   "metadata": {},
   "outputs": [
    {
     "data": {
      "text/plain": [
       "15"
      ]
     },
     "execution_count": 9,
     "metadata": {},
     "output_type": "execute_result"
    }
   ],
   "source": [
    "totrisk(lowpts(testhmap, testrows, testcols), testhmap)"
   ]
  },
  {
   "cell_type": "code",
   "execution_count": 10,
   "id": "89ed2983-661f-4cf7-987e-e64e527b5180",
   "metadata": {},
   "outputs": [],
   "source": [
    "puzzlerows, puzzlecols, puzzlehmap = heightmap(puzzledata)"
   ]
  },
  {
   "cell_type": "code",
   "execution_count": 11,
   "id": "367ac8ce-dbec-4a6e-b381-c138337366e2",
   "metadata": {},
   "outputs": [
    {
     "data": {
      "text/plain": [
       "548"
      ]
     },
     "execution_count": 11,
     "metadata": {},
     "output_type": "execute_result"
    }
   ],
   "source": [
    "totrisk(lowpts(puzzlehmap, puzzlerows, puzzlecols), puzzlehmap)"
   ]
  },
  {
   "cell_type": "markdown",
   "id": "6241f8fc-146c-4ec0-bca1-e13b8d234f94",
   "metadata": {},
   "source": [
    "## part 2 ##"
   ]
  },
  {
   "cell_type": "code",
   "execution_count": 12,
   "id": "4ead11c3-e25d-4474-93b4-5985cfd65843",
   "metadata": {},
   "outputs": [],
   "source": [
    "def walk(pos, hmap, basin):\n",
    "    r, c = pos\n",
    "    h = hmap[pos]\n",
    "    nbors = [(r-1, c), (r+1, c), (r, c-1), (r, c+1)]\n",
    "    for nb in nbors:\n",
    "        if (nb not in hmap) or (nb in basin):\n",
    "            continue\n",
    "        nbh = hmap[nb]\n",
    "        if nbh == 9:\n",
    "            continue\n",
    "        if (h < nbh):\n",
    "            basin.append(nb)\n",
    "            walk(nb, hmap, basin)\n",
    "    return basin"
   ]
  },
  {
   "cell_type": "code",
   "execution_count": 13,
   "id": "12e64955-13ac-48a7-b135-0aa4934855e5",
   "metadata": {},
   "outputs": [],
   "source": [
    "def getbasin(pt, hmap):\n",
    "    return walk(pt, hmap, [pt])"
   ]
  },
  {
   "cell_type": "code",
   "execution_count": 14,
   "id": "429bfd41-4279-40c7-99f3-9eadfe2e58bf",
   "metadata": {},
   "outputs": [],
   "source": [
    "import math"
   ]
  },
  {
   "cell_type": "code",
   "execution_count": 15,
   "id": "90600fb8-bb2a-4c13-a563-683d8157392d",
   "metadata": {},
   "outputs": [],
   "source": [
    "def solve(hmap, nrows, ncols):\n",
    "    basin_sizes = []\n",
    "    for pt in lowpts(hmap, nrows, ncols):\n",
    "        basin = getbasin(pt, hmap)\n",
    "        basin_sizes.append(len(basin))\n",
    "    return math.prod(sorted(basin_sizes)[-3:])"
   ]
  },
  {
   "cell_type": "code",
   "execution_count": 16,
   "id": "767f299a-8e3d-4261-a9e6-c030478ee1de",
   "metadata": {},
   "outputs": [
    {
     "data": {
      "text/plain": [
       "1134"
      ]
     },
     "execution_count": 16,
     "metadata": {},
     "output_type": "execute_result"
    }
   ],
   "source": [
    "solve(testhmap, testrows, testcols)"
   ]
  },
  {
   "cell_type": "code",
   "execution_count": 17,
   "id": "f8d899b7-34ce-4dd1-9a23-85e441b29fb8",
   "metadata": {},
   "outputs": [
    {
     "data": {
      "text/plain": [
       "786048"
      ]
     },
     "execution_count": 17,
     "metadata": {},
     "output_type": "execute_result"
    }
   ],
   "source": [
    "solve(puzzlehmap, puzzlerows, puzzlecols)"
   ]
  },
  {
   "cell_type": "code",
   "execution_count": null,
   "id": "d6b58aab-b3a0-4abe-aa5c-c7c9211c287e",
   "metadata": {},
   "outputs": [],
   "source": []
  }
 ],
 "metadata": {
  "kernelspec": {
   "display_name": "Python 3",
   "language": "python",
   "name": "python3"
  },
  "language_info": {
   "codemirror_mode": {
    "name": "ipython",
    "version": 3
   },
   "file_extension": ".py",
   "mimetype": "text/x-python",
   "name": "python",
   "nbconvert_exporter": "python",
   "pygments_lexer": "ipython3",
   "version": "3.9.9"
  }
 },
 "nbformat": 4,
 "nbformat_minor": 5
}
