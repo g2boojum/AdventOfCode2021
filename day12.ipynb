{
 "cells": [
  {
   "cell_type": "code",
   "execution_count": 1,
   "id": "62cf327a-8075-43a4-803d-0e3844527c2a",
   "metadata": {},
   "outputs": [],
   "source": [
    "import collections\n",
    "import pathlib"
   ]
  },
  {
   "cell_type": "markdown",
   "id": "3fb781b6-b42d-4995-bc61-5562ef80e557",
   "metadata": {},
   "source": [
    "## part 1 ##"
   ]
  },
  {
   "cell_type": "code",
   "execution_count": 2,
   "id": "ee9d1bfd-5132-4835-9f3f-7f8561088692",
   "metadata": {},
   "outputs": [],
   "source": [
    "testlines = '''start-A\n",
    "start-b\n",
    "A-c\n",
    "A-b\n",
    "b-d\n",
    "A-end\n",
    "b-end'''.splitlines()"
   ]
  },
  {
   "cell_type": "code",
   "execution_count": 3,
   "id": "c0bd5dbd-cc01-479c-86b4-b0a7e88b24e3",
   "metadata": {},
   "outputs": [],
   "source": [
    "puzzlelines = pathlib.Path('day12.txt').read_text().splitlines()"
   ]
  },
  {
   "cell_type": "code",
   "execution_count": 4,
   "id": "c2180e70-db24-45f4-bcf6-2c57f4e00830",
   "metadata": {},
   "outputs": [],
   "source": [
    "def build_graph(lines):\n",
    "    d = collections.defaultdict(list)\n",
    "    big = set()\n",
    "    for line in lines:\n",
    "        lhs, rhs = line.split('-')\n",
    "        d[lhs].append(rhs)\n",
    "        d[rhs].append(lhs)\n",
    "        if lhs == lhs.upper():\n",
    "            big.add(lhs)\n",
    "        if rhs == rhs.upper():\n",
    "            big.add(rhs)\n",
    "    del d['end']\n",
    "    return d, big"
   ]
  },
  {
   "cell_type": "code",
   "execution_count": 5,
   "id": "9a164795-62d2-40f6-a738-067bca327936",
   "metadata": {},
   "outputs": [
    {
     "name": "stdout",
     "output_type": "stream",
     "text": [
      "{'A'}\n"
     ]
    }
   ],
   "source": [
    "testconn, testbig = build_graph(testlines)\n",
    "print(testbig)"
   ]
  },
  {
   "cell_type": "code",
   "execution_count": 6,
   "id": "bfebfb33-e439-4d45-8c5a-2da941086724",
   "metadata": {},
   "outputs": [
    {
     "data": {
      "text/plain": [
       "defaultdict(list,\n",
       "            {'start': ['A', 'b'],\n",
       "             'A': ['start', 'c', 'b', 'end'],\n",
       "             'b': ['start', 'A', 'd', 'end'],\n",
       "             'c': ['A'],\n",
       "             'd': ['b']})"
      ]
     },
     "execution_count": 6,
     "metadata": {},
     "output_type": "execute_result"
    }
   ],
   "source": [
    "testconn"
   ]
  },
  {
   "cell_type": "code",
   "execution_count": 7,
   "id": "245b8bbf-0da3-4659-afd7-dad45f8d1850",
   "metadata": {},
   "outputs": [],
   "source": [
    "def walk(currpaths, finished, conn, big):\n",
    "    if currpaths == [] :\n",
    "        return finished\n",
    "    newpaths = []\n",
    "    for p in currpaths:\n",
    "        lastnode = p[-1]\n",
    "        connected = conn[lastnode]\n",
    "        for c in connected:\n",
    "            if (c in p) and (c not in big):\n",
    "                continue\n",
    "            newp = p + (c,)\n",
    "            if c == 'end':\n",
    "                finished.append(newp)\n",
    "            else:\n",
    "                if newp not in newpaths:\n",
    "                    newpaths.append(newp)\n",
    "    return walk(newpaths, finished, conn, big)"
   ]
  },
  {
   "cell_type": "code",
   "execution_count": 8,
   "id": "602ddaee-ef4a-4dc1-b61e-404fdfbb24f2",
   "metadata": {},
   "outputs": [
    {
     "data": {
      "text/plain": [
       "[('start', 'A', 'end'),\n",
       " ('start', 'b', 'end'),\n",
       " ('start', 'A', 'b', 'end'),\n",
       " ('start', 'b', 'A', 'end'),\n",
       " ('start', 'A', 'c', 'A', 'end'),\n",
       " ('start', 'A', 'b', 'A', 'end'),\n",
       " ('start', 'A', 'c', 'A', 'b', 'end'),\n",
       " ('start', 'b', 'A', 'c', 'A', 'end'),\n",
       " ('start', 'A', 'c', 'A', 'b', 'A', 'end'),\n",
       " ('start', 'A', 'b', 'A', 'c', 'A', 'end')]"
      ]
     },
     "execution_count": 8,
     "metadata": {},
     "output_type": "execute_result"
    }
   ],
   "source": [
    "initpath = ('start',)\n",
    "testpaths = walk([initpath], [], testconn, testbig)\n",
    "testpaths"
   ]
  },
  {
   "cell_type": "code",
   "execution_count": 9,
   "id": "a131392f-79d2-46ca-9f2c-bcf08cb3849d",
   "metadata": {},
   "outputs": [
    {
     "data": {
      "text/plain": [
       "{'AN', 'FK', 'FN'}"
      ]
     },
     "execution_count": 9,
     "metadata": {},
     "output_type": "execute_result"
    }
   ],
   "source": [
    "puzzleconn, puzzlebig = build_graph(puzzlelines)\n",
    "puzzlebig"
   ]
  },
  {
   "cell_type": "code",
   "execution_count": 10,
   "id": "08a271ed-1aca-40c6-81e0-28d54c1d683e",
   "metadata": {},
   "outputs": [
    {
     "data": {
      "text/plain": [
       "defaultdict(list,\n",
       "            {'FK': ['gc', 'start', 'dw', 'yh', 'gn', 'sp'],\n",
       "             'gc': ['FK', 'start', 'dw', 'gn', 'yh'],\n",
       "             'start': ['gc', 'FK', 'yh'],\n",
       "             'dw': ['gc', 'end', 'gn', 'ik', 'FK', 'AN'],\n",
       "             'sp': ['FN', 'AN', 'end', 'gn', 'FK'],\n",
       "             'FN': ['sp'],\n",
       "             'gn': ['dw', 'AN', 'yh', 'gc', 'sp', 'FK'],\n",
       "             'AN': ['gn', 'sp', 'end', 'dw'],\n",
       "             'yh': ['gn', 'start', 'FK', 'gc'],\n",
       "             'ik': ['dw']})"
      ]
     },
     "execution_count": 10,
     "metadata": {},
     "output_type": "execute_result"
    }
   ],
   "source": [
    "puzzleconn"
   ]
  },
  {
   "cell_type": "code",
   "execution_count": 11,
   "id": "97fca1f7-812b-4009-9ada-d2f8046ddb40",
   "metadata": {},
   "outputs": [],
   "source": [
    "puzzlepaths = walk([('start',)], [], puzzleconn, puzzlebig)"
   ]
  },
  {
   "cell_type": "code",
   "execution_count": 12,
   "id": "e06bc59f-a02f-4323-abb9-ad3a9ba053dc",
   "metadata": {},
   "outputs": [
    {
     "data": {
      "text/plain": [
       "3713"
      ]
     },
     "execution_count": 12,
     "metadata": {},
     "output_type": "execute_result"
    }
   ],
   "source": [
    "len(puzzlepaths)"
   ]
  },
  {
   "cell_type": "markdown",
   "id": "3ec26626-955b-4f9f-b599-bec87c026a7d",
   "metadata": {},
   "source": [
    "## part 2 ##"
   ]
  },
  {
   "cell_type": "code",
   "execution_count": 13,
   "id": "51af7327-d4ed-422b-b36f-c19d048ea42b",
   "metadata": {},
   "outputs": [],
   "source": [
    "test2lines = '''dc-end\n",
    "HN-start\n",
    "start-kj\n",
    "dc-start\n",
    "dc-HN\n",
    "LN-dc\n",
    "HN-end\n",
    "kj-sa\n",
    "kj-HN\n",
    "kj-dc'''.splitlines()"
   ]
  },
  {
   "cell_type": "code",
   "execution_count": 14,
   "id": "f7e7a616-0d23-415a-8472-34497ae9b7b7",
   "metadata": {},
   "outputs": [],
   "source": [
    "import collections"
   ]
  },
  {
   "cell_type": "code",
   "execution_count": 15,
   "id": "3cff2bfc-6dd9-4f2e-ba9c-0d3f765f386f",
   "metadata": {},
   "outputs": [],
   "source": [
    "def have_second_lowercase(path):\n",
    "    c = collections.Counter(path)\n",
    "    for node in c:\n",
    "        if node.islower():\n",
    "            if c[node] > 1:\n",
    "                return True\n",
    "    return False"
   ]
  },
  {
   "cell_type": "code",
   "execution_count": 16,
   "id": "448ce18a-9471-4411-9414-f92fdec7d33f",
   "metadata": {},
   "outputs": [],
   "source": [
    "def walk2(currpaths, finished, conn, big):\n",
    "    if currpaths == [] :\n",
    "        return finished\n",
    "    newpaths = []\n",
    "    for p in currpaths:\n",
    "        has_second_lowercase = have_second_lowercase(p)\n",
    "        lastnode = p[-1]\n",
    "        connected = conn[lastnode]\n",
    "        for c in connected:\n",
    "            if c == 'start':\n",
    "                continue\n",
    "            if (c in p) and (c not in big) and has_second_lowercase:\n",
    "                continue\n",
    "            newp = p + (c,)\n",
    "            if c == 'end':\n",
    "                finished.append(newp)\n",
    "            else:\n",
    "                if newp not in newpaths:\n",
    "                    newpaths.append(newp)\n",
    "    return walk2(newpaths, finished, conn, big)"
   ]
  },
  {
   "cell_type": "code",
   "execution_count": 17,
   "id": "1a41275c-fb07-43ff-a8d1-17be8fd08bbb",
   "metadata": {},
   "outputs": [],
   "source": [
    "testpaths2 = walk2([('start',)], [], testconn, testbig)"
   ]
  },
  {
   "cell_type": "code",
   "execution_count": 18,
   "id": "9ffe81fc-9f55-4195-bde1-909ccda1384f",
   "metadata": {},
   "outputs": [
    {
     "data": {
      "text/plain": [
       "36"
      ]
     },
     "execution_count": 18,
     "metadata": {},
     "output_type": "execute_result"
    }
   ],
   "source": [
    "len(testpaths2)"
   ]
  },
  {
   "cell_type": "code",
   "execution_count": 19,
   "id": "a2c72d00-a37c-40f1-a27e-99482176d6b8",
   "metadata": {},
   "outputs": [],
   "source": [
    "test2conn, test2big = build_graph(test2lines)"
   ]
  },
  {
   "cell_type": "code",
   "execution_count": 20,
   "id": "5e0a540e-9373-470c-8cd9-c044fdf195b0",
   "metadata": {},
   "outputs": [],
   "source": [
    "test2paths2 = walk2([('start',)], [], test2conn, test2big)"
   ]
  },
  {
   "cell_type": "code",
   "execution_count": 21,
   "id": "4001bf72-99c3-4871-917f-df16d4b10188",
   "metadata": {},
   "outputs": [
    {
     "data": {
      "text/plain": [
       "103"
      ]
     },
     "execution_count": 21,
     "metadata": {},
     "output_type": "execute_result"
    }
   ],
   "source": [
    "len(test2paths2)"
   ]
  },
  {
   "cell_type": "code",
   "execution_count": 22,
   "id": "d2d7829a-c111-4040-958b-1f5d9ee0db90",
   "metadata": {},
   "outputs": [],
   "source": [
    "puzzlepaths2 = walk2([('start',)], [], puzzleconn, puzzlebig)"
   ]
  },
  {
   "cell_type": "code",
   "execution_count": 23,
   "id": "e75a5e1d-47e1-4ecf-86d1-0ff8c9bb4a59",
   "metadata": {},
   "outputs": [
    {
     "data": {
      "text/plain": [
       "91292"
      ]
     },
     "execution_count": 23,
     "metadata": {},
     "output_type": "execute_result"
    }
   ],
   "source": [
    "len(puzzlepaths2)"
   ]
  },
  {
   "cell_type": "code",
   "execution_count": null,
   "id": "1edf38fe-714f-4065-b91c-6b65a0f035d3",
   "metadata": {},
   "outputs": [],
   "source": []
  }
 ],
 "metadata": {
  "kernelspec": {
   "display_name": "Python 3",
   "language": "python",
   "name": "python3"
  },
  "language_info": {
   "codemirror_mode": {
    "name": "ipython",
    "version": 3
   },
   "file_extension": ".py",
   "mimetype": "text/x-python",
   "name": "python",
   "nbconvert_exporter": "python",
   "pygments_lexer": "ipython3",
   "version": "3.9.9"
  }
 },
 "nbformat": 4,
 "nbformat_minor": 5
}
