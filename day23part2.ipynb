{
 "cells": [
  {
   "cell_type": "code",
   "execution_count": 1,
   "id": "7a7d8ac6-87d6-4654-abf4-6327bc3ad708",
   "metadata": {},
   "outputs": [],
   "source": [
    "import itertools\n",
    "import collections\n",
    "import copy\n",
    "from functools import cache"
   ]
  },
  {
   "cell_type": "code",
   "execution_count": 2,
   "id": "275031fb-a2c1-48d4-80b8-2a1412d4f6da",
   "metadata": {},
   "outputs": [],
   "source": [
    "# from https://bradfieldcs.com/algos/graphs/dijkstras-algorithm/\n",
    "import heapq\n",
    "\n",
    "\n",
    "def calculate_distances(graph, starting_vertex):\n",
    "    distances = {vertex: float('infinity') for vertex in graph}\n",
    "    distances[starting_vertex] = 0\n",
    "\n",
    "    pq = [(0, starting_vertex)]\n",
    "    while len(pq) > 0:\n",
    "        current_distance, current_vertex = heapq.heappop(pq)\n",
    "\n",
    "        # Nodes can get added to the priority queue multiple times. We only\n",
    "        # process a vertex the first time we remove it from the priority queue.\n",
    "        if current_distance > distances[current_vertex]:\n",
    "            continue\n",
    "\n",
    "        for neighbor, weight in graph[current_vertex].items():\n",
    "            distance = current_distance + weight\n",
    "\n",
    "            # Only consider this new path if it's better than any path we've\n",
    "            # already found.\n",
    "            if distance < distances[neighbor]:\n",
    "                distances[neighbor] = distance\n",
    "                heapq.heappush(pq, (distance, neighbor))\n",
    "\n",
    "    return distances"
   ]
  },
  {
   "cell_type": "markdown",
   "id": "c12ddc5b-353a-43fb-892f-499e68b79b79",
   "metadata": {},
   "source": [
    "## part 2 ##\n",
    "\n",
    "    e---f---g---h---i---j---k (hallway)\n",
    "         \\ / \\ / \\ / \\ / \n",
    "          a3  b3  c3  d3 (rooms)\n",
    "          |   |   |   |\n",
    "          a2  b2  c2  d2\n",
    "          |   |   |   |\n",
    "          a1  b1  c1  d1\n",
    "          |   |   |   |\n",
    "          a0  bO  cO  dO\n",
    "          \n",
    "Weights are 1 for e-f, j-k, in between rooms (a0-a2-a3-a1, etc), and 2 for all others.\n",
    "The weights of 2 make it so we don't have to have rules about not stopping on a hallway \n",
    "space above one of the rooms.\n"
   ]
  },
  {
   "cell_type": "code",
   "execution_count": 3,
   "id": "09c679ed-76ff-4d98-83cc-4c4a56c828c3",
   "metadata": {},
   "outputs": [],
   "source": [
    "graph  = {'a0': {'a1': 1},\n",
    "          'b0': {'b1': 1},\n",
    "          'c0': {'c1': 1},\n",
    "          'd0': {'d1': 1},\n",
    "          'a1': {'a0': 1, 'a2': 1},\n",
    "          'b1': {'b0': 1, 'b2': 1},\n",
    "          'c1': {'c0': 1, 'c2': 1},\n",
    "          'd1': {'d0': 1, 'd2': 1},\n",
    "          'a2': {'a1': 1, 'a3': 1},\n",
    "          'b2': {'b1': 1, 'b3': 1},\n",
    "          'c2': {'c1': 1, 'c3': 1},\n",
    "          'd2': {'d1': 1, 'd3': 1},\n",
    "          'a3': {'a2': 1, 'f': 2, 'g': 2},\n",
    "          'b3': {'b2': 1, 'g': 2, 'h': 2},\n",
    "          'c3': {'c2': 1, 'h': 2, 'i': 2},\n",
    "          'd3': {'d2': 1, 'i': 2, 'j': 2},\n",
    "          'e': {'f': 1},\n",
    "          'f': {'e': 1, 'a3': 2, 'g': 2},\n",
    "          'g': {'f': 2, 'h': 2, 'a3': 2, 'b3': 2},\n",
    "          'h': {'g': 2, 'i': 2, 'b3': 2, 'c3': 2},\n",
    "          'i': {'h': 2, 'j': 2, 'c3': 2, 'd3': 2},\n",
    "          'j': {'i': 2, 'k': 1, 'd3': 2},\n",
    "          'k': {'j': 1},\n",
    "        }\n",
    "nodes = graph.keys()\n",
    "nodeidx = {val:i for i,val in enumerate(nodes)}\n",
    "hallway = ['e', 'f', 'g', 'h', 'i', 'j', 'k']\n",
    "rooms  = [''.join(p) for p in itertools.product('abcd','0123')]\n",
    "move_cost = {'A': 1, 'B': 10, 'C': 100, 'D': 1000}"
   ]
  },
  {
   "cell_type": "code",
   "execution_count": 4,
   "id": "f9773f47-9553-4269-ba6a-b64b22fc5460",
   "metadata": {},
   "outputs": [],
   "source": [
    "example_start = {'a3': 'B', 'b3': 'C', 'c3': 'B', 'd3': 'D',\n",
    "                 'a2': 'D', 'b2': 'C', 'c2': 'B', 'd2': 'A',\n",
    "                 'a1': 'D', 'b1': 'B', 'c1': 'A', 'd1': 'C',\n",
    "                 'a0': 'A', 'b0': 'D', 'c0': 'C', 'd0': 'A'}\n",
    "puzzle_start =  {'a3': 'D', 'b3': 'B', 'c3': 'C', 'd3': 'A',\n",
    "                 'a2': 'D', 'b2': 'C', 'c2': 'B', 'd2': 'A',\n",
    "                 'a1': 'D', 'b1': 'B', 'c1': 'A', 'd1': 'C',\n",
    "                 'a0': 'C', 'b0': 'A', 'c0': 'D', 'd0': 'B'}\n",
    "Positions = collections.namedtuple('Positions', nodes)\n",
    "for node in hallway:\n",
    "    example_start[node] = None\n",
    "    puzzle_start[node] = None\n",
    "example_init = Positions(*[example_start[node] for node in nodes])\n",
    "puzzle_init = Positions(*[puzzle_start[node] for node in nodes])"
   ]
  },
  {
   "cell_type": "code",
   "execution_count": 5,
   "id": "55d6eb4c-d7fa-4311-a099-ebc4aa46f3fa",
   "metadata": {},
   "outputs": [],
   "source": [
    "def is_finished(pos):\n",
    "    for node in rooms:\n",
    "        col = node[0]\n",
    "        val = pos[nodeidx[node]]\n",
    "        if (val is None) or (val.lower() != col):\n",
    "            return False\n",
    "    return True"
   ]
  },
  {
   "cell_type": "code",
   "execution_count": 6,
   "id": "aa2b5f8f-2f6b-43f0-a1a2-30a4716e2066",
   "metadata": {},
   "outputs": [
    {
     "data": {
      "text/plain": [
       "(True, False, False)"
      ]
     },
     "execution_count": 6,
     "metadata": {},
     "output_type": "execute_result"
    }
   ],
   "source": [
    "finished_ex = Positions(*itertools.chain(*itertools.repeat('ABCD', 4), itertools.repeat(None, len(hallway))))\n",
    "is_finished(finished_ex), is_finished(example_init), is_finished(puzzle_init)"
   ]
  },
  {
   "cell_type": "code",
   "execution_count": 7,
   "id": "c31c6be5-774f-4321-8028-9b9b567a1918",
   "metadata": {},
   "outputs": [],
   "source": [
    "def find_valid_rooms(pos):\n",
    "    valid = []\n",
    "    for col in 'abcd':\n",
    "        empty = None\n",
    "        for row in reversed(range(4)):\n",
    "            loc = f'{col}{row}'\n",
    "            val = pos[nodeidx[loc]]\n",
    "            if val is None:\n",
    "                empty = row\n",
    "        if empty == 0:\n",
    "            valid.append(f'{col}{empty}')\n",
    "            continue\n",
    "        if empty is None:\n",
    "            continue\n",
    "        if all(pos[nodeidx[f'{col}{row}']].lower() == col for row in reversed(range(empty))):\n",
    "            valid.append(f'{col}{empty}')\n",
    "    return valid"
   ]
  },
  {
   "cell_type": "code",
   "execution_count": 8,
   "id": "ad2460f3-47ee-4a58-a4e6-a9c6742dc038",
   "metadata": {},
   "outputs": [],
   "source": [
    "valid_test = Positions(a0='B', b0='B', c0='C', d0=None, a1=None, b1='B', c1='C', d1=None, a2=None, b2='B', c2='C', d2=None, a3=None, b3='B', c3=None, d3=None, e=None, f=None, g=None, h=None, i=None, j=None, k=None)"
   ]
  },
  {
   "cell_type": "code",
   "execution_count": 9,
   "id": "e03ee5b6-2f8c-46b7-90e5-3c73666bc9f1",
   "metadata": {},
   "outputs": [
    {
     "data": {
      "text/plain": [
       "(['c3', 'd0'], [])"
      ]
     },
     "execution_count": 9,
     "metadata": {},
     "output_type": "execute_result"
    }
   ],
   "source": [
    "find_valid_rooms(valid_test), find_valid_rooms(example_init)"
   ]
  },
  {
   "cell_type": "code",
   "execution_count": 10,
   "id": "887d5096-6d9c-4ba9-935f-edeef7635655",
   "metadata": {},
   "outputs": [],
   "source": [
    "@cache\n",
    "def find_topmost_moveable(pos):\n",
    "    can_move = []\n",
    "    for col in 'abcd':\n",
    "        for row in reversed(range(4)):\n",
    "            loc = f'{col}{row}'\n",
    "            val = pos[nodeidx[loc]]\n",
    "            if val:\n",
    "                if any(pos[nodeidx[f'{col}{r}']].lower() != col for r in reversed(range(row+1))):\n",
    "                    can_move.append(loc)\n",
    "                break\n",
    "    return can_move"
   ]
  },
  {
   "cell_type": "code",
   "execution_count": 11,
   "id": "08946dae-daea-4809-be85-6d89b729c5cd",
   "metadata": {},
   "outputs": [
    {
     "data": {
      "text/plain": [
       "(['a0'], [], ['a3', 'b3', 'c3', 'd3'])"
      ]
     },
     "execution_count": 11,
     "metadata": {},
     "output_type": "execute_result"
    }
   ],
   "source": [
    "find_topmost_moveable(valid_test), find_topmost_moveable(finished_ex), find_topmost_moveable(example_init)"
   ]
  },
  {
   "cell_type": "code",
   "execution_count": 12,
   "id": "4a98da84-2b47-4f13-8793-bcb870c60907",
   "metadata": {},
   "outputs": [],
   "source": [
    "@cache\n",
    "def traversal_costs(pos, startnode):\n",
    "    newgraph = copy.deepcopy(graph)\n",
    "    for node in graph:\n",
    "        for endpt in graph[node]:\n",
    "            if pos[nodeidx[endpt]] is not None:\n",
    "                newgraph[node][endpt] = float('infinity')\n",
    "    return calculate_distances(newgraph, startnode)"
   ]
  },
  {
   "cell_type": "code",
   "execution_count": 13,
   "id": "25c9e6e9-e9af-4fd6-a774-9a60f976acb3",
   "metadata": {},
   "outputs": [],
   "source": [
    "def allowed_moves(pos, currcost):\n",
    "    topmost = find_topmost_moveable(pos)\n",
    "    hallway_occ = [node for node in hallway if pos[nodeidx[node]] is not None]\n",
    "    # see if anything can move into it's final position\n",
    "    end_rooms = find_valid_rooms(pos)\n",
    "    for end_room in end_rooms:\n",
    "        col = end_room[0]\n",
    "        for loc in (topmost + hallway_occ):\n",
    "            val = pos[nodeidx[loc]]\n",
    "            home_col = val.lower()\n",
    "            if home_col != col:\n",
    "                continue\n",
    "            tcosts = traversal_costs(pos, loc)\n",
    "            tcost = tcosts[end_room]\n",
    "            if tcost < float('infinity'):\n",
    "                # can move to home room\n",
    "                newpos = list(pos)\n",
    "                newpos[nodeidx[end_room]] = val\n",
    "                newpos[nodeidx[loc]] = None\n",
    "                cost = tcost*move_cost[val] + currcost\n",
    "                yield Positions(*newpos), cost\n",
    "                # don't generate any other alternatives, just do this move\n",
    "                return\n",
    "    # no moves to home, so generate all possible moves from the rooms into the hallway\n",
    "    hallway_empty = [node for node in hallway if pos[nodeidx[node]] is None]\n",
    "    for toprm, hall in itertools.product(topmost, hallway_empty):\n",
    "        tcosts = traversal_costs(pos, toprm)\n",
    "        tcost = tcosts[hall]\n",
    "        if tcost < float('infinity'):\n",
    "            # can make the move\n",
    "            val = pos[nodeidx[toprm]]\n",
    "            newpos = list(pos)\n",
    "            newpos[nodeidx[hall]] = val\n",
    "            newpos[nodeidx[toprm]] = None\n",
    "            cost = tcost*move_cost[val] + currcost\n",
    "            yield Positions(*newpos), cost"
   ]
  },
  {
   "cell_type": "code",
   "execution_count": 14,
   "id": "095f5d67-e6b3-4a77-8675-38a9067a64c7",
   "metadata": {},
   "outputs": [],
   "source": [
    "def solve(startpos):\n",
    "    curr_costs = {startpos: 0}\n",
    "    curr_positions = [startpos]\n",
    "    finished_costs = []\n",
    "    while curr_positions:\n",
    "        new_positions = set()\n",
    "        for pos in curr_positions:\n",
    "            currcost = curr_costs[pos]\n",
    "            for allowedpos, cost in allowed_moves(pos, currcost):\n",
    "                if is_finished(allowedpos):\n",
    "                    finished_costs.append(cost)\n",
    "                    continue\n",
    "                if allowedpos in curr_costs:\n",
    "                    if cost < curr_costs[allowedpos]:\n",
    "                        curr_costs[allowedpos] = cost\n",
    "                        new_positions.add(allowedpos)\n",
    "                else:\n",
    "                    curr_costs[allowedpos] = cost\n",
    "                    new_positions.add(allowedpos)\n",
    "        curr_positions = new_positions\n",
    "        print(len(curr_positions))\n",
    "    print('min cost = ', min(finished_costs))\n",
    "                        "
   ]
  },
  {
   "cell_type": "code",
   "execution_count": 15,
   "id": "d6a30b66-4a77-4251-8b26-fd6e907f7d9a",
   "metadata": {},
   "outputs": [
    {
     "name": "stdout",
     "output_type": "stream",
     "text": [
      "28\n",
      "331\n",
      "2202\n",
      "8527\n",
      "18830\n",
      "22350\n",
      "12813\n",
      "4200\n",
      "2860\n",
      "1997\n",
      "1430\n",
      "1008\n",
      "802\n",
      "574\n",
      "359\n",
      "175\n",
      "70\n",
      "37\n",
      "17\n",
      "10\n",
      "7\n",
      "2\n",
      "0\n",
      "min cost =  44169\n"
     ]
    }
   ],
   "source": [
    "solve(example_init)"
   ]
  },
  {
   "cell_type": "code",
   "execution_count": 16,
   "id": "c41d69e3-e669-4522-a8e9-35435a08bb57",
   "metadata": {},
   "outputs": [
    {
     "name": "stdout",
     "output_type": "stream",
     "text": [
      "28\n",
      "355\n",
      "2487\n",
      "10250\n",
      "24337\n",
      "30845\n",
      "17511\n",
      "3822\n",
      "3144\n",
      "2105\n",
      "1215\n",
      "505\n",
      "151\n",
      "78\n",
      "35\n",
      "20\n",
      "8\n",
      "7\n",
      "6\n",
      "5\n",
      "5\n",
      "5\n",
      "4\n",
      "3\n",
      "2\n",
      "0\n",
      "min cost =  47064\n"
     ]
    }
   ],
   "source": [
    "solve(puzzle_init)"
   ]
  },
  {
   "cell_type": "code",
   "execution_count": null,
   "id": "2dbe9458-e22e-416c-bc25-3934e08ef067",
   "metadata": {},
   "outputs": [],
   "source": []
  }
 ],
 "metadata": {
  "kernelspec": {
   "display_name": "Python 3",
   "language": "python",
   "name": "python3"
  },
  "language_info": {
   "codemirror_mode": {
    "name": "ipython",
    "version": 3
   },
   "file_extension": ".py",
   "mimetype": "text/x-python",
   "name": "python",
   "nbconvert_exporter": "python",
   "pygments_lexer": "ipython3",
   "version": "3.9.9"
  }
 },
 "nbformat": 4,
 "nbformat_minor": 5
}
