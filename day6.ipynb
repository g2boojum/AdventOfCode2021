{
 "cells": [
  {
   "cell_type": "markdown",
   "id": "f1614875-cc8a-4e48-8fd7-c21ee0e03eff",
   "metadata": {},
   "source": [
    "## part 1 ##"
   ]
  },
  {
   "cell_type": "code",
   "execution_count": 1,
   "id": "ad4c600a-2e2d-4e7a-ac47-e99bd6df88cb",
   "metadata": {},
   "outputs": [],
   "source": [
    "testdata = [3,4,3,1,2]"
   ]
  },
  {
   "cell_type": "code",
   "execution_count": 2,
   "id": "e491c32b-a428-4aa8-b242-36cac6d2bada",
   "metadata": {},
   "outputs": [],
   "source": [
    "with open('day6.txt') as fp:\n",
    "    puzzledata = [int(s) for s in fp.read().split(',')]"
   ]
  },
  {
   "cell_type": "code",
   "execution_count": 14,
   "id": "d02dc57f-c273-4357-a1aa-a5f0994433a8",
   "metadata": {},
   "outputs": [],
   "source": [
    "def advance_day(timers):\n",
    "    new_fish = []\n",
    "    new_timers = []\n",
    "    for t in timers:\n",
    "        newt = t - 1\n",
    "        if newt < 0:\n",
    "            new_timers.append(6)\n",
    "            new_fish.append(8)\n",
    "        else:\n",
    "            new_timers.append(newt)\n",
    "    new_timers.extend(new_fish)\n",
    "    return new_timers"
   ]
  },
  {
   "cell_type": "code",
   "execution_count": 15,
   "id": "a9609347-f9d4-4a7d-a101-98449594d236",
   "metadata": {},
   "outputs": [
    {
     "name": "stdout",
     "output_type": "stream",
     "text": [
      "[2, 3, 2, 0, 1]\n",
      "[1, 2, 1, 6, 0, 8]\n",
      "[0, 1, 0, 5, 6, 7, 8]\n",
      "[6, 0, 6, 4, 5, 6, 7, 8, 8]\n",
      "[5, 6, 5, 3, 4, 5, 6, 7, 7, 8]\n"
     ]
    }
   ],
   "source": [
    "newtimers = testdata.copy()\n",
    "for i in range(5):\n",
    "    newtimers = advance_day(newtimers)\n",
    "    print(newtimers)"
   ]
  },
  {
   "cell_type": "code",
   "execution_count": 16,
   "id": "90162cf7-c072-4c7b-9230-53158adbe3da",
   "metadata": {},
   "outputs": [],
   "source": [
    "def advance_days(timers, days):\n",
    "    newtimers = timers.copy()\n",
    "    for i in range(days):\n",
    "        newtimers = advance_day(newtimers)\n",
    "    return newtimers"
   ]
  },
  {
   "cell_type": "code",
   "execution_count": 18,
   "id": "c946ab76-79c2-41d5-bbfd-6cba53f4dc91",
   "metadata": {},
   "outputs": [
    {
     "data": {
      "text/plain": [
       "5934"
      ]
     },
     "execution_count": 18,
     "metadata": {},
     "output_type": "execute_result"
    }
   ],
   "source": [
    "len(advance_days(testdata, 80))"
   ]
  },
  {
   "cell_type": "code",
   "execution_count": 19,
   "id": "aea55feb-d02e-472b-b8f3-76bca023ee1c",
   "metadata": {},
   "outputs": [
    {
     "data": {
      "text/plain": [
       "352195"
      ]
     },
     "execution_count": 19,
     "metadata": {},
     "output_type": "execute_result"
    }
   ],
   "source": [
    "len(advance_days(puzzledata, 80))"
   ]
  },
  {
   "cell_type": "markdown",
   "id": "396261b0-c2d4-400a-901d-4e9f6a2d8183",
   "metadata": {},
   "source": [
    "## part 2 ##"
   ]
  },
  {
   "cell_type": "code",
   "execution_count": 26,
   "id": "c3e43b15-4ebd-4bff-a396-d27747d059ad",
   "metadata": {},
   "outputs": [],
   "source": [
    "import collections"
   ]
  },
  {
   "cell_type": "code",
   "execution_count": 24,
   "id": "e4c61476-3e14-4732-a4a6-65ae8e106afe",
   "metadata": {},
   "outputs": [
    {
     "data": {
      "text/plain": [
       "Counter({3: 2, 4: 1, 1: 1, 2: 1})"
      ]
     },
     "execution_count": 24,
     "metadata": {},
     "output_type": "execute_result"
    }
   ],
   "source": [
    "c = collections.Counter(testdata)\n",
    "c"
   ]
  },
  {
   "cell_type": "code",
   "execution_count": 27,
   "id": "840afa54-9c96-4402-b1aa-6270502be41d",
   "metadata": {},
   "outputs": [],
   "source": [
    "def bin_timers(timers):\n",
    "    c = collections.Counter(timers)\n",
    "    return c"
   ]
  },
  {
   "cell_type": "code",
   "execution_count": 31,
   "id": "8bf539e1-916d-46f8-b6e4-32bff9b7e714",
   "metadata": {},
   "outputs": [],
   "source": [
    "def advance_day2(fishcnt):\n",
    "    newcnt = {}\n",
    "    for i in range(8, 0, -1):\n",
    "        newcnt[i-1] = fishcnt.get(i, 0)\n",
    "    newfish = fishcnt.get(0,0)\n",
    "    newcnt[6] += newfish\n",
    "    newcnt[8] = newfish\n",
    "    return newcnt\n"
   ]
  },
  {
   "cell_type": "code",
   "execution_count": 32,
   "id": "72aade28-d9ef-4dc1-b22c-d6cb90df0c69",
   "metadata": {},
   "outputs": [
    {
     "data": {
      "text/plain": [
       "{7: 0, 6: 0, 5: 0, 4: 0, 3: 1, 2: 2, 1: 1, 0: 1, 8: 0}"
      ]
     },
     "execution_count": 32,
     "metadata": {},
     "output_type": "execute_result"
    }
   ],
   "source": [
    "advance_day2(collections.Counter(testdata))"
   ]
  },
  {
   "cell_type": "code",
   "execution_count": 33,
   "id": "ef26e467-9b56-4a29-8ab8-6dede7819f30",
   "metadata": {},
   "outputs": [],
   "source": [
    "def advance_days2(timers, days):\n",
    "    newcnt = collections.Counter(timers)\n",
    "    for i in range(days):\n",
    "        newcnt = advance_day2(newcnt)\n",
    "    return newcnt"
   ]
  },
  {
   "cell_type": "code",
   "execution_count": null,
   "id": "493be23e-2fd4-471e-82fb-47abc3c611de",
   "metadata": {},
   "outputs": [],
   "source": [
    "sum(advance_days2(testdata, 89))"
   ]
  }
 ],
 "metadata": {
  "kernelspec": {
   "display_name": "Python 3",
   "language": "python",
   "name": "python3"
  },
  "language_info": {
   "codemirror_mode": {
    "name": "ipython",
    "version": 3
   },
   "file_extension": ".py",
   "mimetype": "text/x-python",
   "name": "python",
   "nbconvert_exporter": "python",
   "pygments_lexer": "ipython3",
   "version": "3.9.9"
  }
 },
 "nbformat": 4,
 "nbformat_minor": 5
}
