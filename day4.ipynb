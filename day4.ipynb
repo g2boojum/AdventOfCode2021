{
 "cells": [
  {
   "cell_type": "markdown",
   "id": "ff6a26b5-c0a0-41db-90f1-f1dd7468b3e7",
   "metadata": {},
   "source": [
    "## part 1 ##"
   ]
  },
  {
   "cell_type": "code",
   "execution_count": 1,
   "id": "a31463ac-53fa-4c1d-8f86-8cbc7c3c124e",
   "metadata": {},
   "outputs": [],
   "source": [
    "import numpy as np"
   ]
  },
  {
   "cell_type": "code",
   "execution_count": 2,
   "id": "7d370df2-7abd-466c-b690-6413e8185b87",
   "metadata": {},
   "outputs": [
    {
     "data": {
      "text/plain": [
       "' 2  0 12  3  7'"
      ]
     },
     "execution_count": 2,
     "metadata": {},
     "output_type": "execute_result"
    }
   ],
   "source": [
    "testlines = '''7,4,9,5,11,17,23,2,0,14,21,24,10,16,13,6,15,25,12,22,18,20,8,19,3,26,1\n",
    "\n",
    "22 13 17 11  0\n",
    " 8  2 23  4 24\n",
    "21  9 14 16  7\n",
    " 6 10  3 18  5\n",
    " 1 12 20 15 19\n",
    "\n",
    " 3 15  0  2 22\n",
    " 9 18 13 17  5\n",
    "19  8  7 25 23\n",
    "20 11 10 24  4\n",
    "14 21 16 12  6\n",
    "\n",
    "14 21 17 24  4\n",
    "10 16 15  9 19\n",
    "18  8 23 26 20\n",
    "22 11 13  6  5\n",
    " 2  0 12  3  7'''.split('\\n')\n",
    "testlines[-1]"
   ]
  },
  {
   "cell_type": "code",
   "execution_count": 3,
   "id": "77a289c9-a572-497c-9907-9e7f6bba43c2",
   "metadata": {},
   "outputs": [
    {
     "data": {
      "text/plain": [
       "'84 69 99 19 74'"
      ]
     },
     "execution_count": 3,
     "metadata": {},
     "output_type": "execute_result"
    }
   ],
   "source": [
    "with open('day4.txt') as fp:\n",
    "    puzzlelines = fp.read().split('\\n')[:-1]\n",
    "puzzlelines[-1]"
   ]
  },
  {
   "cell_type": "code",
   "execution_count": 4,
   "id": "4b34691a-0c78-47b4-82b0-ac42140f0a0d",
   "metadata": {},
   "outputs": [],
   "source": [
    "def parse_lines(lines):\n",
    "    draws = [int(n) for n in lines[0].split(',')]\n",
    "    size = len(lines[2].split())\n",
    "    num_cards = (len(lines) - 1) // (size + 1)\n",
    "    cards = []\n",
    "    for n in range(num_cards):\n",
    "        card = np.zeros((size, size), int)\n",
    "        first_line = n*(size + 1) + 2\n",
    "        for i, line in enumerate(lines[first_line:first_line+size]):\n",
    "            card[i, :] = [int(s) for s in line.split()]\n",
    "        cards.append(card)\n",
    "    return draws, size, cards"
   ]
  },
  {
   "cell_type": "code",
   "execution_count": 5,
   "id": "b42f7480-6d2b-4ba5-822d-288a3256835e",
   "metadata": {},
   "outputs": [],
   "source": [
    "test_draws, test_size, test_cards = parse_lines(testlines)"
   ]
  },
  {
   "cell_type": "code",
   "execution_count": 6,
   "id": "82bedca5-9e10-488c-ab4a-92d5892fa593",
   "metadata": {},
   "outputs": [],
   "source": [
    "puzzle_draws, puzzle_size, puzzle_cards = parse_lines(puzzlelines)"
   ]
  },
  {
   "cell_type": "code",
   "execution_count": 7,
   "id": "fb35af9a-92db-48b1-9518-e4d2ab2f2bda",
   "metadata": {},
   "outputs": [],
   "source": [
    "def check_card(card, drawn):\n",
    "    size = card[0,:].size\n",
    "    for row in range(size):\n",
    "        if all(i in drawn for i in card[row,:]):\n",
    "            return True\n",
    "    for col in range(size):\n",
    "        if all(j in drawn for j in card[:, col]):\n",
    "            return True\n",
    "    return False"
   ]
  },
  {
   "cell_type": "code",
   "execution_count": 8,
   "id": "9bf1961b-d2d9-4b51-9c5c-e82d131ffb99",
   "metadata": {},
   "outputs": [],
   "source": [
    "def score(card, drawn):\n",
    "    return sum(i for i in np.nditer(card) if i not in drawn)*drawn[-1]"
   ]
  },
  {
   "cell_type": "code",
   "execution_count": 9,
   "id": "741e6728-79e9-46d4-a5ee-a2ee706a9316",
   "metadata": {},
   "outputs": [],
   "source": [
    "def process(draws, cards):\n",
    "    curr = []\n",
    "    for num in draws:\n",
    "        curr.append(num)\n",
    "        for card in cards:\n",
    "            if check_card(card, curr):\n",
    "                return score(card, curr)\n",
    "    return None"
   ]
  },
  {
   "cell_type": "code",
   "execution_count": 10,
   "id": "2c9b83a4-707a-4c9b-92ed-89c777f0bb79",
   "metadata": {},
   "outputs": [
    {
     "data": {
      "text/plain": [
       "4512"
      ]
     },
     "execution_count": 10,
     "metadata": {},
     "output_type": "execute_result"
    }
   ],
   "source": [
    "process(test_draws, test_cards)"
   ]
  },
  {
   "cell_type": "code",
   "execution_count": 11,
   "id": "b83f981d-f855-406e-906a-0223aa86d74c",
   "metadata": {},
   "outputs": [
    {
     "data": {
      "text/plain": [
       "65325"
      ]
     },
     "execution_count": 11,
     "metadata": {},
     "output_type": "execute_result"
    }
   ],
   "source": [
    "process(puzzle_draws, puzzle_cards)"
   ]
  },
  {
   "cell_type": "markdown",
   "id": "a1085cfd-e0df-481f-b7dd-1fcacaa9a224",
   "metadata": {},
   "source": [
    "## part 2 ##"
   ]
  },
  {
   "cell_type": "code",
   "execution_count": 12,
   "id": "7dfb5123-fa54-4896-ada3-26c4812c467f",
   "metadata": {},
   "outputs": [],
   "source": [
    "def process2(draws, cards):\n",
    "    curr = []\n",
    "    winning_cards = []\n",
    "    for num in draws:\n",
    "        curr.append(num)\n",
    "        for i, card in enumerate(cards):\n",
    "            if i in winning_cards:\n",
    "                continue\n",
    "            if check_card(card, curr):\n",
    "                winning_cards.append(i)\n",
    "                if len(winning_cards) == len(cards):\n",
    "                    return score(card, curr)\n",
    "    return None\n",
    "                "
   ]
  },
  {
   "cell_type": "code",
   "execution_count": 13,
   "id": "496f32ed-b17a-4cf8-b6bc-72f5ca1a29cb",
   "metadata": {},
   "outputs": [
    {
     "data": {
      "text/plain": [
       "1924"
      ]
     },
     "execution_count": 13,
     "metadata": {},
     "output_type": "execute_result"
    }
   ],
   "source": [
    "process2(test_draws, test_cards)"
   ]
  },
  {
   "cell_type": "code",
   "execution_count": 14,
   "id": "c0148301-403e-4d77-9126-5a5d6fbb47ca",
   "metadata": {},
   "outputs": [
    {
     "data": {
      "text/plain": [
       "4624"
      ]
     },
     "execution_count": 14,
     "metadata": {},
     "output_type": "execute_result"
    }
   ],
   "source": [
    "process2(puzzle_draws, puzzle_cards)"
   ]
  },
  {
   "cell_type": "code",
   "execution_count": null,
   "id": "544e7ade-d9d4-4b7c-b1e5-0d85aa482a3d",
   "metadata": {},
   "outputs": [],
   "source": []
  }
 ],
 "metadata": {
  "kernelspec": {
   "display_name": "Python 3",
   "language": "python",
   "name": "python3"
  },
  "language_info": {
   "codemirror_mode": {
    "name": "ipython",
    "version": 3
   },
   "file_extension": ".py",
   "mimetype": "text/x-python",
   "name": "python",
   "nbconvert_exporter": "python",
   "pygments_lexer": "ipython3",
   "version": "3.9.9"
  }
 },
 "nbformat": 4,
 "nbformat_minor": 5
}
