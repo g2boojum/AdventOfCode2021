{
 "cells": [
  {
   "cell_type": "markdown",
   "id": "5b25f27b-e92e-4996-816c-864c3d61d542",
   "metadata": {},
   "source": [
    "## part 1 ##"
   ]
  },
  {
   "cell_type": "code",
   "execution_count": 1,
   "id": "4fd69ff2-6431-4f67-92db-20a615e42aec",
   "metadata": {},
   "outputs": [],
   "source": [
    "testlines = '''5483143223\n",
    "2745854711\n",
    "5264556173\n",
    "6141336146\n",
    "6357385478\n",
    "4167524645\n",
    "2176841721\n",
    "6882881134\n",
    "4846848554\n",
    "5283751526'''.splitlines()"
   ]
  },
  {
   "cell_type": "code",
   "execution_count": 2,
   "id": "c892828a-da67-4056-b51e-99f342bf818f",
   "metadata": {},
   "outputs": [],
   "source": [
    "puzzlelines = '''1443582148\n",
    "6553734851\n",
    "1451741246\n",
    "8835218864\n",
    "1662317262\n",
    "1731656623\n",
    "1128178367\n",
    "5842351665\n",
    "6677326843\n",
    "7381433267\n",
    "'''.splitlines()"
   ]
  },
  {
   "cell_type": "code",
   "execution_count": 3,
   "id": "f41d9a73-2aea-47c6-94ea-4c6ce4bfae3d",
   "metadata": {},
   "outputs": [],
   "source": [
    "nrows, ncols = 10, 10"
   ]
  },
  {
   "cell_type": "code",
   "execution_count": 4,
   "id": "577f5bbb-6cd0-4fa6-abe9-66d651d487e0",
   "metadata": {},
   "outputs": [],
   "source": [
    "def build_grid(lines):\n",
    "    grid = {}\n",
    "    for i, row in enumerate(lines):\n",
    "        for j,c in enumerate(row):\n",
    "            energy = int(c)\n",
    "            grid[(i,j)] = energy\n",
    "    return grid    "
   ]
  },
  {
   "cell_type": "code",
   "execution_count": 5,
   "id": "18cfb388-73e6-44c3-87ed-c3f06498b48c",
   "metadata": {},
   "outputs": [],
   "source": [
    "def print_grid(grid):\n",
    "    for row in range(nrows):\n",
    "        line = ''.join(str(grid[(row,col)]) for col in range(ncols))\n",
    "        print(line)            "
   ]
  },
  {
   "cell_type": "code",
   "execution_count": 6,
   "id": "cb695c10-b92a-4803-ba0e-a77483ebe3ff",
   "metadata": {},
   "outputs": [],
   "source": [
    "def step(grid):\n",
    "    flashed = []\n",
    "    num_flashed = 0\n",
    "    for pos in grid:\n",
    "        grid[pos] += 1\n",
    "    while True:\n",
    "        for pos in grid:\n",
    "            if pos in flashed:\n",
    "                continue\n",
    "            if grid[pos] > 9:\n",
    "                flashed.append(pos)\n",
    "                r, c = pos\n",
    "                for row in (r-1, r, r+1):\n",
    "                    for col in (c-1, c, c+1):\n",
    "                        if (row, col) == pos:\n",
    "                            continue\n",
    "                        if (row, col) not in grid:\n",
    "                            continue\n",
    "                        grid[(row, col)] += 1\n",
    "        if len(flashed) > num_flashed:\n",
    "            num_flashed = len(flashed)\n",
    "        else:\n",
    "            break\n",
    "    for pos in flashed:\n",
    "        grid[pos] = 0\n",
    "    return num_flashed"
   ]
  },
  {
   "cell_type": "code",
   "execution_count": 7,
   "id": "a0361179-daf8-4254-9462-0b644691bffd",
   "metadata": {},
   "outputs": [
    {
     "data": {
      "text/plain": [
       "1656"
      ]
     },
     "execution_count": 7,
     "metadata": {},
     "output_type": "execute_result"
    }
   ],
   "source": [
    "testgrid = build_grid(testlines)\n",
    "sum(step(testgrid) for i in range(100))"
   ]
  },
  {
   "cell_type": "code",
   "execution_count": 8,
   "id": "5a269f36-9b2a-4630-b180-15fc05d8660f",
   "metadata": {},
   "outputs": [
    {
     "data": {
      "text/plain": [
       "1717"
      ]
     },
     "execution_count": 8,
     "metadata": {},
     "output_type": "execute_result"
    }
   ],
   "source": [
    "puzzlegrid = build_grid(puzzlelines)\n",
    "sum(step(puzzlegrid) for i in range(100))"
   ]
  },
  {
   "cell_type": "markdown",
   "id": "e000ec90-03a6-4d19-a3e9-8b88b934f090",
   "metadata": {},
   "source": [
    "## part 2 ##"
   ]
  },
  {
   "cell_type": "code",
   "execution_count": 9,
   "id": "62b277c8-d907-4255-8943-7beafb129d8b",
   "metadata": {},
   "outputs": [],
   "source": [
    "testgrid = build_grid(testlines)"
   ]
  },
  {
   "cell_type": "code",
   "execution_count": 10,
   "id": "1c40701d-7fb9-4732-bd30-9bb03618dc60",
   "metadata": {},
   "outputs": [
    {
     "name": "stdout",
     "output_type": "stream",
     "text": [
      "195\n"
     ]
    }
   ],
   "source": [
    "i = 0\n",
    "while True:\n",
    "    num = step(testgrid)\n",
    "    i += 1\n",
    "    if num == nrows*ncols:\n",
    "        break\n",
    "print(i)"
   ]
  },
  {
   "cell_type": "code",
   "execution_count": 11,
   "id": "34902174-0897-48ce-8438-3c99eda07413",
   "metadata": {},
   "outputs": [],
   "source": [
    "def solve(lines):\n",
    "    grid = build_grid(lines)\n",
    "    i = 0\n",
    "    while True:\n",
    "        num = step(grid)\n",
    "        i += 1\n",
    "        if num == nrows*ncols:\n",
    "            break\n",
    "        if i%1000 == 0:\n",
    "            print(f'   not yet: i={i}')\n",
    "    return i"
   ]
  },
  {
   "cell_type": "code",
   "execution_count": 12,
   "id": "8dd55706-85f1-4c18-aca1-3cf4294ddae4",
   "metadata": {},
   "outputs": [
    {
     "data": {
      "text/plain": [
       "195"
      ]
     },
     "execution_count": 12,
     "metadata": {},
     "output_type": "execute_result"
    }
   ],
   "source": [
    "solve(testlines)"
   ]
  },
  {
   "cell_type": "code",
   "execution_count": 13,
   "id": "2810df9d-1bf0-475d-b395-5696fc5e493e",
   "metadata": {},
   "outputs": [
    {
     "data": {
      "text/plain": [
       "476"
      ]
     },
     "execution_count": 13,
     "metadata": {},
     "output_type": "execute_result"
    }
   ],
   "source": [
    "solve(puzzlelines)"
   ]
  },
  {
   "cell_type": "code",
   "execution_count": null,
   "id": "59936836-9d4c-4467-ac62-70d6b163193b",
   "metadata": {},
   "outputs": [],
   "source": []
  }
 ],
 "metadata": {
  "kernelspec": {
   "display_name": "Python 3",
   "language": "python",
   "name": "python3"
  },
  "language_info": {
   "codemirror_mode": {
    "name": "ipython",
    "version": 3
   },
   "file_extension": ".py",
   "mimetype": "text/x-python",
   "name": "python",
   "nbconvert_exporter": "python",
   "pygments_lexer": "ipython3",
   "version": "3.9.9"
  }
 },
 "nbformat": 4,
 "nbformat_minor": 5
}
