{
 "cells": [
  {
   "cell_type": "markdown",
   "id": "50aca2c2-efac-40e9-9f7e-44823c03f9de",
   "metadata": {},
   "source": [
    "## part 1 ##"
   ]
  },
  {
   "cell_type": "code",
   "execution_count": 2,
   "id": "df4fae8e-da60-4d19-9eb2-f1149fd92d9f",
   "metadata": {},
   "outputs": [],
   "source": [
    "testlines = '''[({(<(())[]>[[{[]{<()<>>\n",
    "[(()[<>])]({[<{<<[]>>(\n",
    "{([(<{}[<>[]}>{[]{[(<()>\n",
    "(((({<>}<{<{<>}{[]{[]{}\n",
    "[[<[([]))<([[{}[[()]]]\n",
    "[{[{({}]{}}([{[{{{}}([]\n",
    "{<[[]]>}<{[{[{[]{()[[[]\n",
    "[<(<(<(<{}))><([]([]()\n",
    "<{([([[(<>()){}]>(<<{{\n",
    "<{([{{}}[<[[[<>{}]]]>[]]'''.splitlines()"
   ]
  },
  {
   "cell_type": "code",
   "execution_count": 3,
   "id": "b11a5eb3-75db-4ef2-b588-2043e9251dbd",
   "metadata": {},
   "outputs": [
    {
     "data": {
      "text/plain": [
       "'{[[<{({[<(<((<{}[]>){[{}[]]})[{[{}{}]({}())}]>(<{{()<>}(<><>)}[(<><>)<[]{}]]><{<()[]>([][])'"
      ]
     },
     "execution_count": 3,
     "metadata": {},
     "output_type": "execute_result"
    }
   ],
   "source": [
    "import pathlib\n",
    "puzzlelines = pathlib.Path('day10.txt').read_text().splitlines()\n",
    "puzzlelines[-1]"
   ]
  },
  {
   "cell_type": "code",
   "execution_count": 14,
   "id": "842e2b03-690e-4f4a-9fd6-25c3ad98aea0",
   "metadata": {},
   "outputs": [],
   "source": [
    "opener = {'>': '<',\n",
    "          ')': '(',\n",
    "          ']': '[',\n",
    "          '}': '{'}\n",
    "closers = opener.keys()\n",
    "openers = opener.values()"
   ]
  },
  {
   "cell_type": "code",
   "execution_count": 15,
   "id": "2e903072-4b82-4dad-a29b-f4a60e3189b8",
   "metadata": {},
   "outputs": [],
   "source": [
    "def corruptchar(line):\n",
    "    stack = []\n",
    "    for c in line:\n",
    "        if c in openers:\n",
    "            stack.append(c)\n",
    "        elif c in closers:\n",
    "            if opener[c] != stack.pop():\n",
    "                return c\n",
    "    return ''"
   ]
  },
  {
   "cell_type": "code",
   "execution_count": 17,
   "id": "2ba30a59-d93a-4e7c-97d8-7ea34b8fbafe",
   "metadata": {},
   "outputs": [],
   "source": [
    "score = {'>': 25137,\n",
    "          ')': 3,\n",
    "          ']': 57,\n",
    "          '}': 1197,\n",
    "          '': 0}"
   ]
  },
  {
   "cell_type": "code",
   "execution_count": 20,
   "id": "b234c0d0-9308-4080-9484-b5011c242d19",
   "metadata": {},
   "outputs": [],
   "source": [
    "def getscore(lines):\n",
    "    return sum(score[corruptchar(line)] for line in lines)"
   ]
  },
  {
   "cell_type": "code",
   "execution_count": 21,
   "id": "6d38231a-a1a2-43da-88d3-b84ef26375ff",
   "metadata": {},
   "outputs": [
    {
     "data": {
      "text/plain": [
       "26397"
      ]
     },
     "execution_count": 21,
     "metadata": {},
     "output_type": "execute_result"
    }
   ],
   "source": [
    "getscore(testlines)"
   ]
  },
  {
   "cell_type": "code",
   "execution_count": 22,
   "id": "d5d26a7b-c86a-47d7-ae78-4b6fa5c57d87",
   "metadata": {},
   "outputs": [
    {
     "data": {
      "text/plain": [
       "344193"
      ]
     },
     "execution_count": 22,
     "metadata": {},
     "output_type": "execute_result"
    }
   ],
   "source": [
    "getscore(puzzlelines)"
   ]
  },
  {
   "cell_type": "markdown",
   "id": "2918ab1c-d240-419d-aac4-948cb2d702a7",
   "metadata": {},
   "source": [
    "## part 2 ##"
   ]
  },
  {
   "cell_type": "code",
   "execution_count": 28,
   "id": "a08d4d78-3958-4916-8b0f-0c14ea7ec658",
   "metadata": {},
   "outputs": [],
   "source": [
    "score2 = {')': 1,\n",
    "          ']': 2,\n",
    "          '}': 3,\n",
    "          '>': 4}\n",
    "closer = {'<': '>',\n",
    "          '(': ')',\n",
    "          '[': ']',\n",
    "          '{': '}'}"
   ]
  },
  {
   "cell_type": "code",
   "execution_count": 40,
   "id": "0ac9ed43-fe83-46b0-9ccf-af90b5ce4199",
   "metadata": {},
   "outputs": [],
   "source": [
    "def complete(line):\n",
    "    stack = []\n",
    "    for c in line:\n",
    "        if c in openers:\n",
    "            stack.append(c)\n",
    "        elif c in closers:\n",
    "            if opener[c] != stack.pop():\n",
    "                return ''\n",
    "        else:\n",
    "            raise ValueError(f'Invalid character: {c}')\n",
    "    return list(reversed([closer[c] for c in stack]))\n",
    "    "
   ]
  },
  {
   "cell_type": "code",
   "execution_count": 41,
   "id": "c63e92d2-68d0-4ee3-9477-25fe839fa6c4",
   "metadata": {},
   "outputs": [
    {
     "data": {
      "text/plain": [
       "['}', '}', ']', ']', ')', '}', ')', ']']"
      ]
     },
     "execution_count": 41,
     "metadata": {},
     "output_type": "execute_result"
    }
   ],
   "source": [
    "complete('[({(<(())[]>[[{[]{<()<>>')"
   ]
  },
  {
   "cell_type": "code",
   "execution_count": 44,
   "id": "ad662c00-56e5-499b-aaff-a1661d1d8cc9",
   "metadata": {},
   "outputs": [],
   "source": [
    "def score_completion(cmp):\n",
    "    tot = 0\n",
    "    for c in cmp:\n",
    "        tot *= 5\n",
    "        tot += score2[c]\n",
    "    return tot"
   ]
  },
  {
   "cell_type": "code",
   "execution_count": 45,
   "id": "bdfb2c62-dc79-4769-8b8e-928fbecfd3dc",
   "metadata": {},
   "outputs": [
    {
     "data": {
      "text/plain": [
       "294"
      ]
     },
     "execution_count": 45,
     "metadata": {},
     "output_type": "execute_result"
    }
   ],
   "source": [
    "score_completion('])}>')"
   ]
  },
  {
   "cell_type": "code",
   "execution_count": 46,
   "id": "d211fd87-d917-457e-9fe0-2a4f9638b8a0",
   "metadata": {},
   "outputs": [],
   "source": [
    "import statistics"
   ]
  },
  {
   "cell_type": "code",
   "execution_count": null,
   "id": "72700029-b24d-4616-b9f6-42610ad5ebad",
   "metadata": {},
   "outputs": [],
   "source": [
    "def getscore2(lines):\n",
    "    scores = []\n",
    "    for line in lines:\n",
    "        cmp = complete(line)\n",
    "        if cmp == '':\n",
    "            continue\n",
    "        scores.append(score_completion(cmp))\n",
    "    for line in lines:\n",
    "        stack = []\n",
    "        for c in line:\n",
    "            if c in openers:\n",
    "                stack.append(c)\n",
    "            elif c in closers:\n",
    "                "
   ]
  }
 ],
 "metadata": {
  "kernelspec": {
   "display_name": "Python 3",
   "language": "python",
   "name": "python3"
  },
  "language_info": {
   "codemirror_mode": {
    "name": "ipython",
    "version": 3
   },
   "file_extension": ".py",
   "mimetype": "text/x-python",
   "name": "python",
   "nbconvert_exporter": "python",
   "pygments_lexer": "ipython3",
   "version": "3.9.9"
  }
 },
 "nbformat": 4,
 "nbformat_minor": 5
}
