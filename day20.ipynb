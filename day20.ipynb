{
 "cells": [
  {
   "cell_type": "code",
   "execution_count": 1,
   "id": "d13bc65e-a1e8-4798-85a8-bf8b93587983",
   "metadata": {},
   "outputs": [],
   "source": [
    "import pathlib\n",
    "import itertools\n",
    "import collections"
   ]
  },
  {
   "cell_type": "markdown",
   "id": "775b50b7-b760-4fec-87a8-b7378a14c36d",
   "metadata": {},
   "source": [
    "## part 1 ##"
   ]
  },
  {
   "cell_type": "code",
   "execution_count": 2,
   "id": "b52ae824-4bf3-4e2b-a3ba-bf049612f5d6",
   "metadata": {},
   "outputs": [],
   "source": [
    "testlines = '''..#.#..#####.#.#.#.###.##.....###.##.#..###.####..#####..#....#..#..##..###..######.###...####..#..#####..##..#.#####...##.#.#..#.##..#.#......#.###.######.###.####...#.##.##..#..#..#####.....#.#....###..#.##......#.....#..#..#..##..#...##.######.####.####.#.#...#.......#..#.#.#...####.##.#......#..#...##.#.##..#...##.#.##..###.#......#.#.......#.#.#.####.###.##...#.....####.#..#..#.##.#....##..#.####....##...##..#...#......#.#.......#.......##..####..#...#.#.#...##..#.#..###..#####........#..####......#..#\n",
    "\n",
    "#..#.\n",
    "#....\n",
    "##..#\n",
    "..#..\n",
    "..###'''.splitlines()"
   ]
  },
  {
   "cell_type": "code",
   "execution_count": 3,
   "id": "00e107c7-9d4d-453d-b55e-c46c72167e57",
   "metadata": {},
   "outputs": [],
   "source": [
    "puzzlelines = pathlib.Path('day20.txt').read_text().splitlines()"
   ]
  },
  {
   "cell_type": "code",
   "execution_count": 4,
   "id": "469cd638-897b-406e-a8ec-ac380a2c9908",
   "metadata": {},
   "outputs": [],
   "source": [
    "def parse_input(lines):\n",
    "    key = lines[0]\n",
    "    imglines = lines[2:]\n",
    "    img = {}\n",
    "    for i,row in enumerate(imglines):\n",
    "        for j, c in enumerate(row):\n",
    "            if c == '#':\n",
    "                img[(i,j)] = 1\n",
    "            elif c == '.':\n",
    "                img[(i,j)] = 0\n",
    "            else:\n",
    "                raise ValueError(f'Bad input: {c}')\n",
    "    return key, img"
   ]
  },
  {
   "cell_type": "code",
   "execution_count": 5,
   "id": "772300e2-e9f2-4168-8174-c6925a7253ba",
   "metadata": {},
   "outputs": [],
   "source": [
    "def newpixel(x, y, img, key, outside=0):\n",
    "    # outside is the value of points outside the current image\n",
    "    indices = itertools.product((x-1, x, x+1),(y-1, y, y+1))\n",
    "    bits = []\n",
    "    for idx in indices:\n",
    "        if idx in img:\n",
    "            bits.append(str(img[idx]))\n",
    "        else:\n",
    "            bits.append(str(outside))\n",
    "    keyindx = int(''.join(bits), 2)\n",
    "    keyval = key[keyindx]\n",
    "    if keyval == '#':\n",
    "        return 1\n",
    "    else:\n",
    "        return 0"
   ]
  },
  {
   "cell_type": "code",
   "execution_count": 6,
   "id": "09768c7a-f8aa-4a1c-b7d7-554083b820ca",
   "metadata": {},
   "outputs": [],
   "source": [
    "def enhance(img, key, outside):\n",
    "    minx = min(x for x,y in img)\n",
    "    maxx = max(x for x,y in img)\n",
    "    miny = min(y for x,y in img)\n",
    "    maxy = max(y for x,y in img)\n",
    "    newimg = {}\n",
    "    for x in range(minx-2, maxx+3):\n",
    "        for y in range(miny-2, maxy+3):\n",
    "            newimg[(x,y)] = newpixel(x, y, img, key, outside)\n",
    "    return newimg  "
   ]
  },
  {
   "cell_type": "code",
   "execution_count": 7,
   "id": "d2d05bb2-574a-472c-b33c-bf33ef0e0eb5",
   "metadata": {},
   "outputs": [],
   "source": [
    "def solve(lines, iterations):\n",
    "    key, imgin = parse_input(lines)\n",
    "    if key[0] == '.':\n",
    "        outside_always_dark = True\n",
    "    elif key[0] == '#':\n",
    "        outside_always_dark = False\n",
    "        if key[int('111111111', 2)] != '.':\n",
    "            raise ValueError('Infinite brightness after enhancement(s)')\n",
    "    else:\n",
    "        raise ValueError('Unexpectedly bad key')\n",
    "    img = imgin.copy()\n",
    "    outside = 0\n",
    "    for i in range(iterations):\n",
    "        if not outside_always_dark:\n",
    "            outside = i%2\n",
    "        img = enhance(img, key, outside)\n",
    "    return sum(1 for idx in img if img[idx] == 1)"
   ]
  },
  {
   "cell_type": "code",
   "execution_count": 8,
   "id": "48ef4635-0e83-403c-8e82-eec74c7ce442",
   "metadata": {},
   "outputs": [
    {
     "data": {
      "text/plain": [
       "35"
      ]
     },
     "execution_count": 8,
     "metadata": {},
     "output_type": "execute_result"
    }
   ],
   "source": [
    "solve(testlines, 2)"
   ]
  },
  {
   "cell_type": "code",
   "execution_count": 9,
   "id": "f71b12a8-5ca9-44c8-8325-cd420f27c757",
   "metadata": {},
   "outputs": [],
   "source": [
    "def printimg(img):\n",
    "    minx = min(x for x,y in img)\n",
    "    maxx = max(x for x,y in img)\n",
    "    miny = min(y for x,y in img)\n",
    "    maxy = max(y for x,y in img)\n",
    "    for x in range(minx, maxx+1):\n",
    "        line = []\n",
    "        for y in range(miny, maxy+1):\n",
    "            v = img[(x,y)]\n",
    "            if v == 1:\n",
    "                line.append('#')\n",
    "            elif v == 0:\n",
    "                line.append('.')\n",
    "            else:\n",
    "                raise ValueError(f'Bad image value: {v}')\n",
    "        print(''.join(line))"
   ]
  },
  {
   "cell_type": "code",
   "execution_count": 10,
   "id": "f36b6638-1738-488b-a115-ca3da5e37b20",
   "metadata": {},
   "outputs": [
    {
     "data": {
      "text/plain": [
       "5846"
      ]
     },
     "execution_count": 10,
     "metadata": {},
     "output_type": "execute_result"
    }
   ],
   "source": [
    "solve(puzzlelines, 2)"
   ]
  },
  {
   "cell_type": "markdown",
   "id": "770b4fe8-fe6f-42cd-9ae1-ab94c7b66227",
   "metadata": {},
   "source": [
    "## part 2 ##"
   ]
  },
  {
   "cell_type": "code",
   "execution_count": 11,
   "id": "f5b523ed-5b29-4bdd-b0f1-e373f4e65a1d",
   "metadata": {},
   "outputs": [
    {
     "data": {
      "text/plain": [
       "3351"
      ]
     },
     "execution_count": 11,
     "metadata": {},
     "output_type": "execute_result"
    }
   ],
   "source": [
    "solve(testlines, 50)"
   ]
  },
  {
   "cell_type": "code",
   "execution_count": 12,
   "id": "c7679e60-b197-4d74-aed4-66f9f4939693",
   "metadata": {},
   "outputs": [
    {
     "data": {
      "text/plain": [
       "21149"
      ]
     },
     "execution_count": 12,
     "metadata": {},
     "output_type": "execute_result"
    }
   ],
   "source": [
    "solve(puzzlelines, 50)"
   ]
  },
  {
   "cell_type": "code",
   "execution_count": null,
   "id": "acd99cbd-5f0d-4b8e-8b14-745d946a4c12",
   "metadata": {},
   "outputs": [],
   "source": []
  }
 ],
 "metadata": {
  "kernelspec": {
   "display_name": "Python 3",
   "language": "python",
   "name": "python3"
  },
  "language_info": {
   "codemirror_mode": {
    "name": "ipython",
    "version": 3
   },
   "file_extension": ".py",
   "mimetype": "text/x-python",
   "name": "python",
   "nbconvert_exporter": "python",
   "pygments_lexer": "ipython3",
   "version": "3.9.9"
  }
 },
 "nbformat": 4,
 "nbformat_minor": 5
}
