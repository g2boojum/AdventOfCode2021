{
 "cells": [
  {
   "cell_type": "code",
   "execution_count": 1,
   "id": "f38122c5-1996-40b0-b51c-07450ce572a3",
   "metadata": {},
   "outputs": [],
   "source": [
    "%matplotlib inline\n",
    "import numpy as np\n",
    "import matplotlib.pyplot as plt\n",
    "import pandas as pd\n",
    "import itertools"
   ]
  },
  {
   "cell_type": "code",
   "execution_count": 2,
   "id": "829c459c-c01e-4209-949d-0c041bb4d5b9",
   "metadata": {},
   "outputs": [],
   "source": [
    "testdata = 'target area: x=20..30, y=-10..-5'\n",
    "puzzledata = 'target area: x=88..125, y=-157..-103'"
   ]
  },
  {
   "cell_type": "markdown",
   "id": "2b56d049-8257-400c-8a9d-ae850b44ed29",
   "metadata": {},
   "source": [
    "## part 1 ##"
   ]
  },
  {
   "cell_type": "code",
   "execution_count": 3,
   "id": "861d6f4d-4136-46da-a33d-9e603def66e4",
   "metadata": {},
   "outputs": [],
   "source": [
    "def parse_target(s):\n",
    "    xlim, zlim = s[12:].split(',')\n",
    "    xnums = xlim.split('=')[1]\n",
    "    xmin, xmax = xnums.split('..')\n",
    "    znums = zlim.split('=')[1]\n",
    "    zmin, zmax = znums.split('..')\n",
    "    return int(xmin), int(xmax), int(zmin), int(zmax)"
   ]
  },
  {
   "cell_type": "code",
   "execution_count": 4,
   "id": "b0cd92e4-9217-415a-b58d-fde27aaeae8c",
   "metadata": {},
   "outputs": [
    {
     "data": {
      "text/plain": [
       "(20, 30, -10, -5)"
      ]
     },
     "execution_count": 4,
     "metadata": {},
     "output_type": "execute_result"
    }
   ],
   "source": [
    "parse_target(testdata)"
   ]
  },
  {
   "cell_type": "code",
   "execution_count": 5,
   "id": "df7de02a-7106-42b2-be65-4271b44ce1a9",
   "metadata": {},
   "outputs": [],
   "source": [
    "def xtraj(vx0, steps):\n",
    "    x, vx = 0, vx0\n",
    "    xpts = [x]\n",
    "    for j in range(steps):\n",
    "        if vx > 0:\n",
    "            x += vx\n",
    "            vx -= 1\n",
    "        else:\n",
    "            pass\n",
    "        xpts.append(x)\n",
    "    return xpts\n",
    "    \n",
    "def ztraj(vz0, steps):\n",
    "    z, vz = 0, vz0\n",
    "    zpts = [z]\n",
    "    for j in range(steps):\n",
    "        z += vz\n",
    "        vz -= 1\n",
    "        zpts.append(z)\n",
    "    return zpts\n",
    "\n",
    "def traj(vx0, vz0, steps):\n",
    "    return list(zip(xtraj(vx0, steps), ztraj(vz0, steps)))"
   ]
  },
  {
   "cell_type": "code",
   "execution_count": 6,
   "id": "2657db52-2517-4125-816d-8242a626c597",
   "metadata": {},
   "outputs": [],
   "source": [
    "def find_valid_vx0(target_xmin, target_xmax):\n",
    "    valid = []\n",
    "    for vx0 in range(1, target_xmax+1):\n",
    "        xpts = xtraj(vx0, target_xmin)\n",
    "        if any(target_xmin <= x <= target_xmax for x in xpts):\n",
    "            valid.append(vx0)\n",
    "    return valid"
   ]
  },
  {
   "cell_type": "code",
   "execution_count": 7,
   "id": "14530e81-7ad8-49c7-b74f-1cc931cb661e",
   "metadata": {},
   "outputs": [],
   "source": [
    "bignum = 1000\n",
    "def find_valid_vz0(target_zmin, target_zmax):\n",
    "    valid = []\n",
    "    for vz0 in range(1, bignum):\n",
    "        zpts = ztraj(vz0, bignum)\n",
    "        if any(target_zmin <= z <= target_zmax for z in zpts):\n",
    "            valid.append(vz0)\n",
    "    return valid"
   ]
  },
  {
   "cell_type": "code",
   "execution_count": 8,
   "id": "71af1b9f-1e35-4ae2-8e6a-da08a18f46be",
   "metadata": {},
   "outputs": [],
   "source": [
    "def step(x, z, vx, vz):\n",
    "    if vx > 0:\n",
    "        x += vx\n",
    "        vx -= 1\n",
    "    z += vz\n",
    "    vz -= 1\n",
    "    return x, z, vx, vz"
   ]
  },
  {
   "cell_type": "code",
   "execution_count": 9,
   "id": "882c3e86-e1df-463d-8b91-3adc6e90c9df",
   "metadata": {},
   "outputs": [],
   "source": [
    "def solve(data):\n",
    "    target_xmin, target_xmax, target_zmin, target_zmax = parse_target(data)\n",
    "    initconds = itertools.product(find_valid_vx0(target_xmin, target_xmax),\n",
    "                                  find_valid_vz0(target_zmin, target_zmax))\n",
    "    maxz = 0\n",
    "    maxz_conds = None\n",
    "    for vx0, vz0 in initconds:\n",
    "        x, z = 0, 0\n",
    "        vx, vz = vx0, vz0\n",
    "        curr_max_z = 0\n",
    "        hit_target = False\n",
    "        while True:\n",
    "            x, z, vx, vz = step(x, z, vx, vz)\n",
    "            if z > curr_max_z:\n",
    "                curr_max_z = z\n",
    "            if x > target_xmax:\n",
    "                break\n",
    "            if z < target_zmin:\n",
    "                break\n",
    "            if (target_xmin <= x <= target_xmax) and (target_zmin <= z <= target_zmax):\n",
    "                hit_target = True\n",
    "        if hit_target:\n",
    "            if curr_max_z > maxz:\n",
    "                maxz = curr_max_z\n",
    "                maxz_conds = vx0, vz0\n",
    "    return maxz, maxz_conds"
   ]
  },
  {
   "cell_type": "code",
   "execution_count": 10,
   "id": "2a121cfc-baa9-4b52-bda5-37ad58e66bb7",
   "metadata": {},
   "outputs": [
    {
     "data": {
      "text/plain": [
       "(45, (6, 9))"
      ]
     },
     "execution_count": 10,
     "metadata": {},
     "output_type": "execute_result"
    }
   ],
   "source": [
    "solve(testdata)"
   ]
  },
  {
   "cell_type": "code",
   "execution_count": 11,
   "id": "5a2e28b7-7709-411e-a7be-b6c180376791",
   "metadata": {},
   "outputs": [
    {
     "data": {
      "text/plain": [
       "(12246, (13, 156))"
      ]
     },
     "execution_count": 11,
     "metadata": {},
     "output_type": "execute_result"
    }
   ],
   "source": [
    "solve(puzzledata)"
   ]
  },
  {
   "cell_type": "markdown",
   "id": "f686f377-e9ad-4047-b44e-d6521514d70c",
   "metadata": {},
   "source": [
    "## part 2 ##"
   ]
  },
  {
   "cell_type": "code",
   "execution_count": 12,
   "id": "91a62e60-e7f6-48af-84f0-17cb2e546075",
   "metadata": {},
   "outputs": [],
   "source": [
    "bignum = 1000\n",
    "def find_valid_vz0_2(target_zmin, target_zmax):\n",
    "    # negative vz0 will work, now. Lower limit is target_zmin, since 1\n",
    "    valid = []\n",
    "    for vz0 in range(target_zmin, bignum):\n",
    "        zpts = ztraj(vz0, bignum)\n",
    "        if any(target_zmin <= z <= target_zmax for z in zpts):\n",
    "            valid.append(vz0)\n",
    "    return valid"
   ]
  },
  {
   "cell_type": "code",
   "execution_count": 13,
   "id": "2de2a171-3b59-40d6-b29b-ae277fc5a3e7",
   "metadata": {},
   "outputs": [],
   "source": [
    "def solve2(data):\n",
    "    target_xmin, target_xmax, target_zmin, target_zmax = parse_target(data)\n",
    "    initconds = itertools.product(find_valid_vx0(target_xmin, target_xmax),\n",
    "                                  find_valid_vz0_2(target_zmin, target_zmax))\n",
    "    valid = []\n",
    "    for vx0, vz0 in initconds:\n",
    "        x, z = 0, 0\n",
    "        vx, vz = vx0, vz0\n",
    "        hit_target = False\n",
    "        while True:\n",
    "            x, z, vx, vz = step(x, z, vx, vz)\n",
    "            if x > target_xmax:\n",
    "                break\n",
    "            if z < target_zmin:\n",
    "                break\n",
    "            if (target_xmin <= x <= target_xmax) and (target_zmin <= z <= target_zmax):\n",
    "                hit_target = True\n",
    "                valid.append((vx0, vz0))\n",
    "                break\n",
    "    return len(valid)"
   ]
  },
  {
   "cell_type": "code",
   "execution_count": 14,
   "id": "73b83853-900a-4910-8be6-21ae3b8a0a41",
   "metadata": {},
   "outputs": [
    {
     "data": {
      "text/plain": [
       "112"
      ]
     },
     "execution_count": 14,
     "metadata": {},
     "output_type": "execute_result"
    }
   ],
   "source": [
    "solve2(testdata)"
   ]
  },
  {
   "cell_type": "code",
   "execution_count": 15,
   "id": "fe70eb5c-716b-45c5-b1ae-347c993c3fb8",
   "metadata": {},
   "outputs": [
    {
     "data": {
      "text/plain": [
       "3528"
      ]
     },
     "execution_count": 15,
     "metadata": {},
     "output_type": "execute_result"
    }
   ],
   "source": [
    "solve2(puzzledata)"
   ]
  },
  {
   "cell_type": "code",
   "execution_count": null,
   "id": "ca3d1122-e9cf-4f06-ba86-47bd9d5fe4a4",
   "metadata": {},
   "outputs": [],
   "source": []
  }
 ],
 "metadata": {
  "kernelspec": {
   "display_name": "Python 3",
   "language": "python",
   "name": "python3"
  },
  "language_info": {
   "codemirror_mode": {
    "name": "ipython",
    "version": 3
   },
   "file_extension": ".py",
   "mimetype": "text/x-python",
   "name": "python",
   "nbconvert_exporter": "python",
   "pygments_lexer": "ipython3",
   "version": "3.9.9"
  }
 },
 "nbformat": 4,
 "nbformat_minor": 5
}
