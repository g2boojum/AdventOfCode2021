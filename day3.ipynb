{
 "cells": [
  {
   "cell_type": "code",
   "execution_count": 8,
   "id": "4dbdca66-d281-4fa4-8012-7567e45d7a71",
   "metadata": {},
   "outputs": [],
   "source": [
    "import collections"
   ]
  },
  {
   "cell_type": "markdown",
   "id": "8b43fb6f-ec22-403b-836e-6011ce968f8a",
   "metadata": {},
   "source": [
    "## part 1 ##"
   ]
  },
  {
   "cell_type": "code",
   "execution_count": 2,
   "id": "5bd93738-35db-454e-a602-7e889a75d8a7",
   "metadata": {},
   "outputs": [],
   "source": [
    "testlines = '''00100\n",
    "11110\n",
    "10110\n",
    "10111\n",
    "10101\n",
    "01111\n",
    "00111\n",
    "11100\n",
    "10000\n",
    "11001\n",
    "00010\n",
    "01010'''.split('\\n')"
   ]
  },
  {
   "cell_type": "code",
   "execution_count": 20,
   "id": "df5c43ef-ecee-4f05-9861-0cfb9b63d9f4",
   "metadata": {},
   "outputs": [],
   "source": [
    "with open('day3.txt') as fp:\n",
    "    puzzlelines = fp.read().split('\\n')\n",
    "puzzlelines = puzzlelines[:-1]"
   ]
  },
  {
   "cell_type": "code",
   "execution_count": 25,
   "id": "9b42ab05-656d-4bf0-a4f9-308c5497ad94",
   "metadata": {},
   "outputs": [
    {
     "data": {
      "text/plain": [
       "(1, 0)"
      ]
     },
     "execution_count": 25,
     "metadata": {},
     "output_type": "execute_result"
    }
   ],
   "source": [
    "def most_least_common_bit(bits):\n",
    "    ranked = collections.Counter(bits).most_common()\n",
    "    return ranked[0][0], ranked[-1][0]\n",
    "most_least_common_bit([0, 1, 1, 0, 1])"
   ]
  },
  {
   "cell_type": "code",
   "execution_count": 15,
   "id": "b2bc8e42-ef07-4f65-9974-bd0ef84ec35f",
   "metadata": {},
   "outputs": [],
   "source": [
    "def bitpop(lines):\n",
    "    if '' == lines[0]:\n",
    "        return None, None\n",
    "    bits = []\n",
    "    remainder = []\n",
    "    for line in lines:\n",
    "        bits.append(line[0])\n",
    "        remainder.append(line[1:])\n",
    "    return bits, remainder"
   ]
  },
  {
   "cell_type": "code",
   "execution_count": 16,
   "id": "8392d4fd-4f6d-4a2b-91a6-bf0f94b7d71b",
   "metadata": {},
   "outputs": [
    {
     "data": {
      "text/plain": [
       "(['0', '1', '1', '1', '1', '0', '0', '1', '1', '1', '0', '0'],\n",
       " ['0100',\n",
       "  '1110',\n",
       "  '0110',\n",
       "  '0111',\n",
       "  '0101',\n",
       "  '1111',\n",
       "  '0111',\n",
       "  '1100',\n",
       "  '0000',\n",
       "  '1001',\n",
       "  '0010',\n",
       "  '1010'])"
      ]
     },
     "execution_count": 16,
     "metadata": {},
     "output_type": "execute_result"
    }
   ],
   "source": [
    "bitpop(testlines)"
   ]
  },
  {
   "cell_type": "code",
   "execution_count": 26,
   "id": "4b9b6fbc-003c-4b99-85bc-ae00a258f1d5",
   "metadata": {},
   "outputs": [],
   "source": [
    "def process(lines):\n",
    "    most_common_bits = []\n",
    "    least_common_bits = []\n",
    "    remainder = lines.copy()\n",
    "    while True:\n",
    "        bits, remainder = bitpop(remainder)\n",
    "        if bits is None:\n",
    "            break\n",
    "        most, least = most_least_common_bit(bits)\n",
    "        most_common_bits.append(most)\n",
    "        least_common_bits.append(least)\n",
    "    binary_str_most = ''.join(most_common_bits)\n",
    "    binary_str_least = ''.join(least_common_bits)\n",
    "    print(binary_str_most, binary_str_least)\n",
    "    most_num = int(binary_str_most, 2)\n",
    "    least_num = int(binary_str_least, 2)\n",
    "    return most_num, least_num, most_num*least_num"
   ]
  },
  {
   "cell_type": "code",
   "execution_count": 27,
   "id": "70eb3b11-9833-4cdf-b43c-42f42208a953",
   "metadata": {},
   "outputs": [
    {
     "name": "stdout",
     "output_type": "stream",
     "text": [
      "10110 01001\n"
     ]
    },
    {
     "data": {
      "text/plain": [
       "(22, 9, 198)"
      ]
     },
     "execution_count": 27,
     "metadata": {},
     "output_type": "execute_result"
    }
   ],
   "source": [
    "process(testlines)"
   ]
  },
  {
   "cell_type": "code",
   "execution_count": 28,
   "id": "228356c2-e449-4931-9871-40535eff8370",
   "metadata": {},
   "outputs": [
    {
     "name": "stdout",
     "output_type": "stream",
     "text": [
      "101001100111 010110011000\n"
     ]
    },
    {
     "data": {
      "text/plain": [
       "(2663, 1432, 3813416)"
      ]
     },
     "execution_count": 28,
     "metadata": {},
     "output_type": "execute_result"
    }
   ],
   "source": [
    "process(puzzlelines)"
   ]
  },
  {
   "cell_type": "markdown",
   "id": "df5f2d3a-781c-4dbb-bbe0-d9c1cc808709",
   "metadata": {},
   "source": [
    "## part 2 ##"
   ]
  },
  {
   "cell_type": "code",
   "execution_count": 30,
   "id": "7caea0d0-5115-43fa-81f2-137e4cd0906d",
   "metadata": {},
   "outputs": [],
   "source": [
    "def filt(lines, common='most'):\n",
    "    remainder = lines.copy()\n",
    "    cur_bit = 0\n",
    "    while len(remainder) > 1:\n",
    "        bits = [line[cur_bit] for line in remainder]\n",
    "        counts = collections.Counter(bits)\n",
    "        num0, num1 = counts['0'], counts['1']\n",
    "        if common == 'most':\n",
    "            if num0 == num1:\n",
    "                most = '1'\n",
    "            elif num0 > num1:\n",
    "                most = '0'\n",
    "            else:\n",
    "                most = '1'\n",
    "            remainder = [line for line in remainder if line[cur_bit] == most]\n",
    "        elif common == 'least':\n",
    "            if num0 == num1:\n",
    "                least = '0'\n",
    "            elif num0 < num1:\n",
    "                least = '0'\n",
    "            else:\n",
    "                least = '1'\n",
    "            remainder = [line for line in remainder if line[cur_bit] == least]\n",
    "        else:\n",
    "            raise ValueError(f'bad value of common: {common}')\n",
    "        cur_bit += 1\n",
    "    return(int(remainder, 2)"
   ]
  },
  {
   "cell_type": "code",
   "execution_count": 31,
   "id": "ad096068-367e-427c-b934-eaab12d4c309",
   "metadata": {},
   "outputs": [
    {
     "name": "stdout",
     "output_type": "stream",
     "text": [
      "['11110', '10110', '10111', '10101', '11100', '10000', '11001']\n",
      "['10110', '10111', '10101', '10000']\n",
      "['10110', '10111', '10101']\n",
      "['10110', '10111']\n",
      "['10111']\n"
     ]
    },
    {
     "data": {
      "text/plain": [
       "['10111']"
      ]
     },
     "execution_count": 31,
     "metadata": {},
     "output_type": "execute_result"
    }
   ],
   "source": [
    "filt(testlines)"
   ]
  },
  {
   "cell_type": "code",
   "execution_count": 32,
   "id": "77bdc0a6-d987-4cdd-8c48-a8f457e5d3f7",
   "metadata": {},
   "outputs": [
    {
     "name": "stdout",
     "output_type": "stream",
     "text": [
      "['00100', '01111', '00111', '00010', '01010']\n",
      "['01111', '01010']\n",
      "['01010']\n"
     ]
    },
    {
     "data": {
      "text/plain": [
       "['01010']"
      ]
     },
     "execution_count": 32,
     "metadata": {},
     "output_type": "execute_result"
    }
   ],
   "source": [
    "filt(testlines, 'least')"
   ]
  },
  {
   "cell_type": "code",
   "execution_count": null,
   "id": "60295ba3-a045-4f80-ad3b-bf1c9da23433",
   "metadata": {},
   "outputs": [],
   "source": []
  }
 ],
 "metadata": {
  "kernelspec": {
   "display_name": "Python 3",
   "language": "python",
   "name": "python3"
  },
  "language_info": {
   "codemirror_mode": {
    "name": "ipython",
    "version": 3
   },
   "file_extension": ".py",
   "mimetype": "text/x-python",
   "name": "python",
   "nbconvert_exporter": "python",
   "pygments_lexer": "ipython3",
   "version": "3.9.9"
  }
 },
 "nbformat": 4,
 "nbformat_minor": 5
}
