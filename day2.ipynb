{
  "nbformat": 4,
  "nbformat_minor": 0,
  "metadata": {
    "colab": {
      "name": "Day2ipynb",
      "provenance": [],
      "authorship_tag": "ABX9TyOimhcj/EeMvQj0FGHbL0rx",
      "include_colab_link": true
    },
    "kernelspec": {
      "name": "python3",
      "display_name": "Python 3"
    },
    "language_info": {
      "name": "python"
    }
  },
  "cells": [
    {
      "cell_type": "markdown",
      "metadata": {
        "id": "view-in-github",
        "colab_type": "text"
      },
      "source": [
        "<a href=\"https://colab.research.google.com/github/g2boojum/AdventOfCode2021/blob/main/Day2ipynb.ipynb\" target=\"_parent\"><img src=\"https://colab.research.google.com/assets/colab-badge.svg\" alt=\"Open In Colab\"/></a>"
      ]
    },
    {
      "cell_type": "code",
      "metadata": {
        "id": "hc5IirJWcQX9",
        "colab": {
          "base_uri": "https://localhost:8080/"
        },
        "outputId": "a0550adc-d750-4fe9-e465-27fe6ed18581"
      },
      "source": [
        "from google.colab import drive\n",
        "drive.mount('/content/drive')"
      ],
      "execution_count": 1,
      "outputs": [
        {
          "output_type": "stream",
          "name": "stdout",
          "text": [
            "Drive already mounted at /content/drive; to attempt to forcibly remount, call drive.mount(\"/content/drive\", force_remount=True).\n"
          ]
        }
      ]
    },
    {
      "cell_type": "code",
      "metadata": {
        "id": "ZSf_sWiZa3em"
      },
      "source": [
        "with open('/content/drive/MyDrive/AoC2021/day2.txt') as fp:\n",
        "  lines = fp.read().split('\\n')"
      ],
      "execution_count": 2,
      "outputs": []
    },
    {
      "cell_type": "code",
      "metadata": {
        "colab": {
          "base_uri": "https://localhost:8080/"
        },
        "id": "hb6gef865xyx",
        "outputId": "b476f09b-abdd-4215-c227-77cbe08ccd72"
      },
      "source": [
        "lines[:5]"
      ],
      "execution_count": 3,
      "outputs": [
        {
          "output_type": "execute_result",
          "data": {
            "text/plain": [
              "['forward 2', 'forward 6', 'forward 8', 'forward 7', 'down 5']"
            ]
          },
          "metadata": {},
          "execution_count": 3
        }
      ]
    },
    {
      "cell_type": "code",
      "metadata": {
        "id": "4M2PQE93GLH6"
      },
      "source": [
        "dirs = {'forward': (+1,0),'down': (0,+1),'up': (0,-1)}"
      ],
      "execution_count": 4,
      "outputs": []
    },
    {
      "cell_type": "code",
      "metadata": {
        "id": "8Pk4yLQknTur"
      },
      "source": [
        "def move(direc, amt, pos):\n",
        "  x,d = pos\n",
        "  stepx, stepd = dirs[direc]\n",
        "  return x+stepx*amt, d+stepd*amt"
      ],
      "execution_count": 5,
      "outputs": []
    },
    {
      "cell_type": "code",
      "metadata": {
        "id": "aLom6UN2pWmq"
      },
      "source": [
        "def part1(lines):\n",
        "  x,d =0,0\n",
        "  for line in lines:\n",
        "    if not line.strip():\n",
        "      continue\n",
        "    direc, amt = line.split()\n",
        "    amt = int(amt)\n",
        "    x,d = move(direc, amt, (x,d))\n",
        "  return x,d,x*d"
      ],
      "execution_count": 6,
      "outputs": []
    },
    {
      "cell_type": "code",
      "metadata": {
        "colab": {
          "base_uri": "https://localhost:8080/"
        },
        "id": "QaP7pOfyvmjt",
        "outputId": "48477bc8-aeed-4ab8-b6dd-c45732a1e9bd"
      },
      "source": [
        "testlines = '''forward 5\n",
        "down 5\n",
        "forward 8\n",
        "up 3\n",
        "down 8\n",
        "forward 2'''.split('\\n')\n",
        "testlines"
      ],
      "execution_count": 7,
      "outputs": [
        {
          "output_type": "execute_result",
          "data": {
            "text/plain": [
              "['forward 5', 'down 5', 'forward 8', 'up 3', 'down 8', 'forward 2']"
            ]
          },
          "metadata": {},
          "execution_count": 7
        }
      ]
    },
    {
      "cell_type": "code",
      "metadata": {
        "colab": {
          "base_uri": "https://localhost:8080/"
        },
        "id": "c5-0qucuQi1N",
        "outputId": "69e77994-703d-4ccf-9461-860048b09037"
      },
      "source": [
        "part1(testlines)"
      ],
      "execution_count": 8,
      "outputs": [
        {
          "output_type": "execute_result",
          "data": {
            "text/plain": [
              "(15, 10, 150)"
            ]
          },
          "metadata": {},
          "execution_count": 8
        }
      ]
    },
    {
      "cell_type": "code",
      "metadata": {
        "colab": {
          "base_uri": "https://localhost:8080/"
        },
        "id": "mO57_UTBQn2p",
        "outputId": "9ab26a9e-0375-4fed-fc2b-6702fb0efc1a"
      },
      "source": [
        "part1(lines)"
      ],
      "execution_count": 9,
      "outputs": [
        {
          "output_type": "execute_result",
          "data": {
            "text/plain": [
              "(2165, 933, 2019945)"
            ]
          },
          "metadata": {},
          "execution_count": 9
        }
      ]
    },
    {
      "cell_type": "code",
      "metadata": {
        "id": "wcNOSOzZRDVY"
      },
      "source": [
        "def move2(direc, amt, pos):\n",
        "  x,d,aim = pos\n",
        "  if 'forward' in direc:\n",
        "    x += amt\n",
        "    d += aim*amt\n",
        "  elif 'down' in direc:\n",
        "    aim += amt\n",
        "  elif 'up' in direc:\n",
        "    aim -= amt\n",
        "  else:\n",
        "    raise ValueError('bad direction')\n",
        "  return x,d,aim"
      ],
      "execution_count": 10,
      "outputs": []
    },
    {
      "cell_type": "code",
      "metadata": {
        "id": "yEtra5siglCk"
      },
      "source": [
        "\n",
        "def part2(lines):\n",
        "  x,d,aim =0,0,0\n",
        "  for line in lines:\n",
        "    if not line.strip():\n",
        "      continue\n",
        "    direc, amt = line.split()\n",
        "    amt = int(amt)\n",
        "    x,d,aim = move2(direc, amt, (x,d,aim))\n",
        "  return x,d,aim,x*d"
      ],
      "execution_count": 11,
      "outputs": []
    },
    {
      "cell_type": "code",
      "metadata": {
        "colab": {
          "base_uri": "https://localhost:8080/"
        },
        "id": "RgeeiVRoon0g",
        "outputId": "efd5e61a-4f0b-4a4f-e7bd-218c6a15ccc7"
      },
      "source": [
        "part2(testlines)"
      ],
      "execution_count": 12,
      "outputs": [
        {
          "output_type": "execute_result",
          "data": {
            "text/plain": [
              "(15, 60, 10, 900)"
            ]
          },
          "metadata": {},
          "execution_count": 12
        }
      ]
    },
    {
      "cell_type": "code",
      "metadata": {
        "colab": {
          "base_uri": "https://localhost:8080/"
        },
        "id": "99xzBaTXo8u8",
        "outputId": "1ad6cca7-b53a-4b5b-dd0e-f7b60a252ac8"
      },
      "source": [
        "part2(lines)"
      ],
      "execution_count": 13,
      "outputs": [
        {
          "output_type": "execute_result",
          "data": {
            "text/plain": [
              "(2165, 738712, 933, 1599311480)"
            ]
          },
          "metadata": {},
          "execution_count": 13
        }
      ]
    }
  ]
}