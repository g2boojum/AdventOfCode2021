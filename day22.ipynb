{
 "cells": [
  {
   "cell_type": "code",
   "execution_count": 5,
   "id": "d519b104-db9a-4e82-a609-02dc092d70da",
   "metadata": {},
   "outputs": [],
   "source": [
    "import itertools\n",
    "import collections\n",
    "import pathlib"
   ]
  },
  {
   "cell_type": "markdown",
   "id": "232cb041-32fc-4cbd-a5b7-9145990a1030",
   "metadata": {},
   "source": [
    "## part 1 ##\n",
    "\n",
    "Current plan is to start w/ the first rule, which creates a box of on voxels. Then after each rule, look at\n",
    "intersections and unions to create a non-overlapping set of on boxes after each rule. From those boxes, it's\n",
    "trivial to compute the total number of on voxels."
   ]
  },
  {
   "cell_type": "code",
   "execution_count": 2,
   "id": "14ddbee0-6667-4da0-b2ed-877ba97f053c",
   "metadata": {},
   "outputs": [],
   "source": [
    "testlines = '''on x=-20..26,y=-36..17,z=-47..7\n",
    "on x=-20..33,y=-21..23,z=-26..28\n",
    "on x=-22..28,y=-29..23,z=-38..16\n",
    "on x=-46..7,y=-6..46,z=-50..-1\n",
    "on x=-49..1,y=-3..46,z=-24..28\n",
    "on x=2..47,y=-22..22,z=-23..27\n",
    "on x=-27..23,y=-28..26,z=-21..29\n",
    "on x=-39..5,y=-6..47,z=-3..44\n",
    "on x=-30..21,y=-8..43,z=-13..34\n",
    "on x=-22..26,y=-27..20,z=-29..19\n",
    "off x=-48..-32,y=26..41,z=-47..-37\n",
    "on x=-12..35,y=6..50,z=-50..-2\n",
    "off x=-48..-32,y=-32..-16,z=-15..-5\n",
    "on x=-18..26,y=-33..15,z=-7..46\n",
    "off x=-40..-22,y=-38..-28,z=23..41\n",
    "on x=-16..35,y=-41..10,z=-47..6\n",
    "off x=-32..-23,y=11..30,z=-14..3\n",
    "on x=-49..-5,y=-3..45,z=-29..18\n",
    "off x=18..30,y=-20..-8,z=-3..13\n",
    "on x=-41..9,y=-7..43,z=-33..15\n",
    "on x=-54112..-39298,y=-85059..-49293,z=-27449..7877\n",
    "on x=967..23432,y=45373..81175,z=27513..53682'''.splitlines()"
   ]
  },
  {
   "cell_type": "code",
   "execution_count": 6,
   "id": "438a9f69-f209-4556-b068-7611b16888b8",
   "metadata": {},
   "outputs": [],
   "source": [
    "puzzlelines = pathlib.Path('day22.txt').read_text().splitlines()"
   ]
  },
  {
   "cell_type": "code",
   "execution_count": 12,
   "id": "71246dc3-7ff5-432f-a08b-28deb88c2ce3",
   "metadata": {},
   "outputs": [],
   "source": [
    "def parselines(lines):\n",
    "    rules = []\n",
    "    for line in lines:\n",
    "        status, locs = line.split()\n",
    "        xinfo, yinfo, zinfo = locs.split(',')\n",
    "        xmin, xmax = xinfo[2:].split('..')\n",
    "        ymin, ymax = yinfo[2:].split('..')\n",
    "        zmin, zmax = zinfo[2:].split('..')\n",
    "        rules.append((status, (int(xmin), int(xmax),\n",
    "                               int(ymin), int(ymax),\n",
    "                               int(zmin), int(zmax))\n",
    "                     ))\n",
    "    return rules"
   ]
  },
  {
   "cell_type": "code",
   "execution_count": 13,
   "id": "a3b3705e-3804-4850-8075-85349a8517aa",
   "metadata": {},
   "outputs": [],
   "source": [
    "testrules = parselines(testlines)"
   ]
  },
  {
   "cell_type": "code",
   "execution_count": 15,
   "id": "34af8c1b-ba0d-4a04-9b90-dd4682bf937c",
   "metadata": {},
   "outputs": [],
   "source": [
    "def box_overlap(box1, box2):\n",
    "    x1min, x1max, y1min, y1max, z1min, z1max = box1\n",
    "    x2min, x2max, y2min, y2max, z2min, z2max = box2\n",
    "    xomin = max(x1min, x2min)\n",
    "    xomax = min(x1max, x2max)\n",
    "    if xomin > xomax:\n",
    "        return None\n",
    "    yomin = max(y1min, y2min)\n",
    "    yomax = min(y1max, y2max)\n",
    "    if yomin > yomax:\n",
    "        return None\n",
    "    zomin = max(z1min, z2min)\n",
    "    zomax = min(z1max, z2max)\n",
    "    if zomin > zomax:\n",
    "        return None\n",
    "    return (xomin, xomax, yomin, yomax, zomin, zomax)\n",
    "    "
   ]
  },
  {
   "cell_type": "code",
   "execution_count": 16,
   "id": "5f21bc35-c0b4-42fd-9820-4bb349d6b08e",
   "metadata": {},
   "outputs": [
    {
     "data": {
      "text/plain": [
       "(-20, 26, -21, 17, -26, 7)"
      ]
     },
     "execution_count": 16,
     "metadata": {},
     "output_type": "execute_result"
    }
   ],
   "source": [
    "box_overlap(testrules[0][1], testrules[1][1])"
   ]
  },
  {
   "cell_type": "code",
   "execution_count": null,
   "id": "2dbea44f-59e4-4fe4-9e2b-77321b8fd560",
   "metadata": {},
   "outputs": [],
   "source": []
  }
 ],
 "metadata": {
  "kernelspec": {
   "display_name": "Python 3",
   "language": "python",
   "name": "python3"
  },
  "language_info": {
   "codemirror_mode": {
    "name": "ipython",
    "version": 3
   },
   "file_extension": ".py",
   "mimetype": "text/x-python",
   "name": "python",
   "nbconvert_exporter": "python",
   "pygments_lexer": "ipython3",
   "version": "3.9.9"
  }
 },
 "nbformat": 4,
 "nbformat_minor": 5
}
