{
 "cells": [
  {
   "cell_type": "code",
   "execution_count": 1,
   "id": "d519b104-db9a-4e82-a609-02dc092d70da",
   "metadata": {},
   "outputs": [],
   "source": [
    "import itertools\n",
    "import collections\n",
    "import pathlib"
   ]
  },
  {
   "cell_type": "markdown",
   "id": "232cb041-32fc-4cbd-a5b7-9145990a1030",
   "metadata": {},
   "source": [
    "## part 1 ##\n",
    "\n",
    "Use what is essentially a line-sweep algorithm. Stolen from https://work.njae.me.uk/2021/12/29/advent-of-code-2021-day-22/,\n",
    "although I didn't steal any of the code there since I don't know any Haskell. I just took the basic idea. A real line-sweep\n",
    "algorithm would be a lot more complicated than this code actually is. \n",
    "\n",
    "The clever part about this is that it focuses on boundaries where something changes. For the smallest example, those\n",
    "boundaries are one cube thick, so that doesn't save a lot of time, but for the bigger problems that's no longer\n",
    "the case, so this speeds things up a lot."
   ]
  },
  {
   "cell_type": "code",
   "execution_count": 2,
   "id": "c27b77eb-a5b9-4733-9458-30be3f711019",
   "metadata": {},
   "outputs": [],
   "source": [
    "smalltestlines = '''on x=10..12,y=10..12,z=10..12\n",
    "on x=11..13,y=11..13,z=11..13\n",
    "off x=9..11,y=9..11,z=9..11\n",
    "on x=10..10,y=10..10,z=10..10'''.splitlines()"
   ]
  },
  {
   "cell_type": "code",
   "execution_count": 3,
   "id": "14ddbee0-6667-4da0-b2ed-877ba97f053c",
   "metadata": {},
   "outputs": [],
   "source": [
    "testlines = '''on x=-20..26,y=-36..17,z=-47..7\n",
    "on x=-20..33,y=-21..23,z=-26..28\n",
    "on x=-22..28,y=-29..23,z=-38..16\n",
    "on x=-46..7,y=-6..46,z=-50..-1\n",
    "on x=-49..1,y=-3..46,z=-24..28\n",
    "on x=2..47,y=-22..22,z=-23..27\n",
    "on x=-27..23,y=-28..26,z=-21..29\n",
    "on x=-39..5,y=-6..47,z=-3..44\n",
    "on x=-30..21,y=-8..43,z=-13..34\n",
    "on x=-22..26,y=-27..20,z=-29..19\n",
    "off x=-48..-32,y=26..41,z=-47..-37\n",
    "on x=-12..35,y=6..50,z=-50..-2\n",
    "off x=-48..-32,y=-32..-16,z=-15..-5\n",
    "on x=-18..26,y=-33..15,z=-7..46\n",
    "off x=-40..-22,y=-38..-28,z=23..41\n",
    "on x=-16..35,y=-41..10,z=-47..6\n",
    "off x=-32..-23,y=11..30,z=-14..3\n",
    "on x=-49..-5,y=-3..45,z=-29..18\n",
    "off x=18..30,y=-20..-8,z=-3..13\n",
    "on x=-41..9,y=-7..43,z=-33..15\n",
    "on x=-54112..-39298,y=-85059..-49293,z=-27449..7877\n",
    "on x=967..23432,y=45373..81175,z=27513..53682'''.splitlines()"
   ]
  },
  {
   "cell_type": "code",
   "execution_count": 4,
   "id": "e6922f77-093b-4dea-b54c-962a3d09c854",
   "metadata": {},
   "outputs": [],
   "source": [
    "partbtestlines = pathlib.Path('day22_sampleb.txt').read_text().splitlines()"
   ]
  },
  {
   "cell_type": "code",
   "execution_count": 5,
   "id": "438a9f69-f209-4556-b068-7611b16888b8",
   "metadata": {},
   "outputs": [],
   "source": [
    "puzzlelines = pathlib.Path('day22.txt').read_text().splitlines()"
   ]
  },
  {
   "cell_type": "code",
   "execution_count": 6,
   "id": "71246dc3-7ff5-432f-a08b-28deb88c2ce3",
   "metadata": {},
   "outputs": [],
   "source": [
    "Rule = collections.namedtuple('Rule', ['lvl', 'status', 'xmin', 'xmax', 'ymin', 'ymax', 'zmin', 'zmax'])\n",
    "def parselines(lines):\n",
    "    rules = []\n",
    "    for i,line in enumerate(lines):\n",
    "        status, locs = line.split()\n",
    "        xinfo, yinfo, zinfo = locs.split(',')\n",
    "        xmin, xmax = xinfo[2:].split('..')\n",
    "        ymin, ymax = yinfo[2:].split('..')\n",
    "        zmin, zmax = zinfo[2:].split('..')\n",
    "        rule = Rule(i, status, int(xmin), int(xmax), int(ymin), int(ymax), int(zmin), int(zmax))\n",
    "        rules.append(rule)\n",
    "    return rules"
   ]
  },
  {
   "cell_type": "code",
   "execution_count": 7,
   "id": "04b48da9-d928-4ad3-b592-a94bd41e6817",
   "metadata": {},
   "outputs": [],
   "source": [
    "offsets = {'x': 2, 'y': 4, 'z': 6}\n",
    "def get_boundaries(axis, rules):\n",
    "    offset = offsets[axis]\n",
    "    bdrys = collections.defaultdict(list)\n",
    "    for rule in rules:\n",
    "        bdrys[rule[offset]].append(rule.lvl)\n",
    "        bdrys[rule[offset+1]+1].append(rule.lvl)\n",
    "    return bdrys  "
   ]
  },
  {
   "cell_type": "code",
   "execution_count": 8,
   "id": "0532121e-b8ff-4ed6-8307-f46283be5ec9",
   "metadata": {},
   "outputs": [],
   "source": [
    "def solve(lines):\n",
    "    rules = parselines(lines)\n",
    "    on = 0\n",
    "    zactive = set()\n",
    "    zbdrys = get_boundaries('z', rules)\n",
    "    zs = sorted(zbdrys.keys())\n",
    "    for zlayer in zip(zs, zs[1:]):\n",
    "        zcurr = zlayer[0]\n",
    "        zthick = zlayer[1] - zlayer[0]\n",
    "        for rulenum in zbdrys[zcurr]:\n",
    "            if rules[rulenum].zmin == zcurr:\n",
    "                zactive.add(rulenum)\n",
    "            else:\n",
    "                zactive.remove(rulenum)\n",
    "        currzrules = [rules[rule] for rule in zactive]\n",
    "        xbdrys = get_boundaries('x', currzrules)\n",
    "        xs = sorted(xbdrys.keys())\n",
    "        xactive = set()\n",
    "        for xlayer in zip(xs, xs[1:]):\n",
    "            xcurr = xlayer[0]\n",
    "            xthick = xlayer[1] - xlayer[0]\n",
    "            for rulenum in xbdrys[xcurr]:\n",
    "                if rules[rulenum].xmin == xcurr:\n",
    "                    xactive.add(rulenum)\n",
    "                else:\n",
    "                    xactive.remove(rulenum)\n",
    "            currxrules = [rules[rule] for rule in xactive]\n",
    "            ybdrys = get_boundaries('y', currxrules)\n",
    "            ys = sorted(ybdrys.keys())\n",
    "            yactive = set()\n",
    "            for ylayer in zip(ys, ys[1:]):\n",
    "                ycurr = ylayer[0]\n",
    "                ythick = ylayer[1] - ylayer[0]\n",
    "                for rulenum in ybdrys[ycurr]:\n",
    "                    if rules[rulenum].ymin == ycurr:\n",
    "                        yactive.add(rulenum)\n",
    "                    else:\n",
    "                        yactive.remove(rulenum)\n",
    "                active_rules = zactive & xactive & yactive\n",
    "                if active_rules:\n",
    "                    active = max(active_rules)\n",
    "                    if rules[active].status == 'on':\n",
    "                        on += zthick*xthick*ythick\n",
    "    return on"
   ]
  },
  {
   "cell_type": "code",
   "execution_count": 9,
   "id": "e0604c9e-ed98-4bda-9ec0-bfdf8946ed7f",
   "metadata": {},
   "outputs": [
    {
     "data": {
      "text/plain": [
       "39"
      ]
     },
     "execution_count": 9,
     "metadata": {},
     "output_type": "execute_result"
    }
   ],
   "source": [
    "solve(smalltestlines)"
   ]
  },
  {
   "cell_type": "markdown",
   "id": "ae8cfd7d-e9e0-49af-8864-4008d48db958",
   "metadata": {},
   "source": [
    "I really don't want to write code just to leave out the cubes outside -50 to 50. Just pass in the appropriate lines."
   ]
  },
  {
   "cell_type": "code",
   "execution_count": 10,
   "id": "ec015d76-d2af-476b-bbb1-2390628355c0",
   "metadata": {},
   "outputs": [
    {
     "data": {
      "text/plain": [
       "590784"
      ]
     },
     "execution_count": 10,
     "metadata": {},
     "output_type": "execute_result"
    }
   ],
   "source": [
    "solve(testlines[:-2])"
   ]
  },
  {
   "cell_type": "code",
   "execution_count": 11,
   "id": "019d10ae-8678-4ccf-9aa6-e7d9f603637c",
   "metadata": {},
   "outputs": [
    {
     "data": {
      "text/plain": [
       "615869"
      ]
     },
     "execution_count": 11,
     "metadata": {},
     "output_type": "execute_result"
    }
   ],
   "source": [
    "solve(puzzlelines[:20])"
   ]
  },
  {
   "cell_type": "markdown",
   "id": "c872e725-39bb-4c02-a365-6ff5ded73272",
   "metadata": {},
   "source": [
    "## part 2 ##"
   ]
  },
  {
   "cell_type": "code",
   "execution_count": 12,
   "id": "309e2665-20c1-4d4c-b3fe-c5801701c735",
   "metadata": {},
   "outputs": [
    {
     "data": {
      "text/plain": [
       "2758514936282235"
      ]
     },
     "execution_count": 12,
     "metadata": {},
     "output_type": "execute_result"
    }
   ],
   "source": [
    "solve(partbtestlines)"
   ]
  },
  {
   "cell_type": "code",
   "execution_count": 13,
   "id": "ce20578c-aab0-431e-9a34-151cd9a7b8ff",
   "metadata": {},
   "outputs": [
    {
     "data": {
      "text/plain": [
       "1323862415207825"
      ]
     },
     "execution_count": 13,
     "metadata": {},
     "output_type": "execute_result"
    }
   ],
   "source": [
    "solve(puzzlelines)"
   ]
  },
  {
   "cell_type": "code",
   "execution_count": null,
   "id": "0d6acf4e-dc4c-49f6-ac0d-455968d3eea3",
   "metadata": {},
   "outputs": [],
   "source": []
  }
 ],
 "metadata": {
  "kernelspec": {
   "display_name": "Python 3",
   "language": "python",
   "name": "python3"
  },
  "language_info": {
   "codemirror_mode": {
    "name": "ipython",
    "version": 3
   },
   "file_extension": ".py",
   "mimetype": "text/x-python",
   "name": "python",
   "nbconvert_exporter": "python",
   "pygments_lexer": "ipython3",
   "version": "3.9.9"
  }
 },
 "nbformat": 4,
 "nbformat_minor": 5
}
