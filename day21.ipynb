{
 "cells": [
  {
   "cell_type": "code",
   "execution_count": 1,
   "id": "b267bef7-8433-4ebc-b90e-7c7266c0ba27",
   "metadata": {},
   "outputs": [],
   "source": [
    "import collections\n",
    "import itertools\n",
    "import pathlib"
   ]
  },
  {
   "cell_type": "markdown",
   "id": "aea15e7c-707d-4e40-af41-99f52f115a25",
   "metadata": {},
   "source": [
    "## part 1 ##"
   ]
  },
  {
   "cell_type": "code",
   "execution_count": 2,
   "id": "7a1ec5d9-3896-4dc0-982b-8be13a3a726d",
   "metadata": {},
   "outputs": [],
   "source": [
    "test_start = (4, 8)\n",
    "puzzle_start = (5, 9)\n",
    "board_size = 10"
   ]
  },
  {
   "cell_type": "code",
   "execution_count": 3,
   "id": "37ab03dc-3a6a-4a92-83e1-7a9df7b9edef",
   "metadata": {},
   "outputs": [],
   "source": [
    "def new_deterministic_die(num_sides):\n",
    "    return itertools.cycle(range(1, num_sides+1))"
   ]
  },
  {
   "cell_type": "code",
   "execution_count": 4,
   "id": "434a92c5-1012-45e0-8cee-ce007c1e9b2c",
   "metadata": {},
   "outputs": [],
   "source": [
    "def take(n, iterable):\n",
    "    \"Return first n items of the iterable as a list\"\n",
    "    return list(itertools.islice(iterable, n))"
   ]
  },
  {
   "cell_type": "code",
   "execution_count": 5,
   "id": "827b4a72-6293-43d4-be3c-473d62d5b823",
   "metadata": {},
   "outputs": [],
   "source": [
    "def move_player(loc, score, die):\n",
    "    s = sum(take(3, die))\n",
    "    loc = (loc + s) % board_size # positions labeled 0, 1, .., 9\n",
    "    score += loc + 1 # add 1 because true board values are 1, 2, ..., 10\n",
    "    return loc, score, die"
   ]
  },
  {
   "cell_type": "code",
   "execution_count": 6,
   "id": "1ffb785b-793b-4bba-ae36-e6e6ad7d745e",
   "metadata": {},
   "outputs": [],
   "source": [
    "def rolls(loc1, loc2, score1, score2, numrolls, die):\n",
    "    s1 = sum(take(3, die))\n",
    "    s2 = sum(take(3, die))\n",
    "    print(s1, s2)\n",
    "    loc1 = (loc1 + s1) % board_size # positions labeled 0, 1, ..., 9\n",
    "    loc2 = (loc2 + s2) % board_size\n",
    "    score1 += loc1 + 1 # add 1 because true board values are 1, 2, ..., 10\n",
    "    score2 += loc2 + 1\n",
    "    numrolls += 3 + 3\n",
    "    return loc1, loc2, score1, score2, numrolls, die"
   ]
  },
  {
   "cell_type": "code",
   "execution_count": 7,
   "id": "464f70ff-0e3c-4e0d-8877-964b6a8b4bf9",
   "metadata": {},
   "outputs": [],
   "source": [
    "def solve(starting_pos):\n",
    "    loc1 = starting_pos[0] - 1 # board positions labeled 0, 1, ..., 9\n",
    "    loc2 = starting_pos[1] - 1\n",
    "    die = new_deterministic_die(100)\n",
    "    score1, score2 = 0, 0\n",
    "    numrolls = 0\n",
    "    while True:\n",
    "        loc1, score1, die = move_player(loc1, score1, die)\n",
    "        numrolls += 3\n",
    "        if score1 >= 1000:\n",
    "            break\n",
    "        loc2, score2, die = move_player(loc2, score2, die)\n",
    "        numrolls += 3\n",
    "        if score2 >= 1000:\n",
    "            break\n",
    "    return min(score1, score2)*numrolls\n"
   ]
  },
  {
   "cell_type": "code",
   "execution_count": 8,
   "id": "3044e06e-9523-4f41-8e8f-e4ae139994d8",
   "metadata": {},
   "outputs": [
    {
     "data": {
      "text/plain": [
       "739785"
      ]
     },
     "execution_count": 8,
     "metadata": {},
     "output_type": "execute_result"
    }
   ],
   "source": [
    "solve(test_start)"
   ]
  },
  {
   "cell_type": "code",
   "execution_count": 9,
   "id": "40066b68-48f1-4b89-b136-474cc251db96",
   "metadata": {},
   "outputs": [
    {
     "data": {
      "text/plain": [
       "989352"
      ]
     },
     "execution_count": 9,
     "metadata": {},
     "output_type": "execute_result"
    }
   ],
   "source": [
    "solve(puzzle_start)"
   ]
  },
  {
   "cell_type": "markdown",
   "id": "aac4c44a-2e19-428d-9aff-e767fb849ef0",
   "metadata": {},
   "source": [
    "## part 2 ##\n",
    "\n",
    "Each \"universe\" has a state (l1, s1, l2, s2), where l and s correspond to the location and the score\n",
    "of players 1 and 2. A move is 3 dice rolls, and each die roll splits a state into 3 new states, were\n",
    "one of them has a die role of +1, one w/ +2, and onw w/ +3. After 3 rolls, there will be 27 new states:\n",
    "\n",
    "    +3, +4, +5\n",
    "        +4, +5, +6\n",
    "            +5, +6, +7\n",
    "        +4, +5, +6\n",
    "            +5, +6, +7\n",
    "                +6, +7, +8\n",
    "            +5, +6, +7\n",
    "                +6, +7, +8\n",
    "                    +7, +8, +9\n",
    "                \n",
    "So +3 (1x), +4 (3x), +5 (6x), +6 (7x), +7 (6x), +8 (3x), +9 (1x).\n",
    "        "
   ]
  },
  {
   "cell_type": "code",
   "execution_count": 10,
   "id": "cb43e964-d5c4-41cd-8c91-d83ce1f90821",
   "metadata": {},
   "outputs": [],
   "source": [
    "newcases = {+3: 1, +4: 3, +5: 6, +6: 7, +7: 6, +8: 3, +9: 1}"
   ]
  },
  {
   "cell_type": "code",
   "execution_count": 11,
   "id": "d3a01e34-55d2-451a-9e77-f9154907fbf0",
   "metadata": {},
   "outputs": [
    {
     "data": {
      "text/plain": [
       "{3: 1, 4: 3, 5: 6, 6: 7, 7: 6, 8: 3, 9: 1}"
      ]
     },
     "execution_count": 11,
     "metadata": {},
     "output_type": "execute_result"
    }
   ],
   "source": [
    "newcases"
   ]
  },
  {
   "cell_type": "code",
   "execution_count": 12,
   "id": "f6b4ac75-6c0e-42fc-ae30-19f7f613cbbb",
   "metadata": {},
   "outputs": [],
   "source": [
    "def solve2(starting_pos):\n",
    "    l1, l2 = starting_pos\n",
    "    states = {(l1-1, 0, l2-1, 0): 1}\n",
    "    wins1, wins2 = 0, 0\n",
    "    while True:\n",
    "        if len(states) == 0:\n",
    "            break\n",
    "        newstates = collections.defaultdict(int)\n",
    "        # player 1 rolls\n",
    "        for (l1, s1, l2, s2), replicas in states.items():\n",
    "            for offset, cnt in newcases.items():\n",
    "                newl1 = (l1 + offset) % board_size\n",
    "                news1 = s1 + (newl1 + 1)\n",
    "                if news1 >= 21:\n",
    "                    wins1 += replicas*cnt\n",
    "                else:\n",
    "                    newstates[(newl1, news1, l2, s2)] += replicas*cnt\n",
    "        states = newstates\n",
    "        if len(states) == 0:\n",
    "            break\n",
    "        newstates = collections.defaultdict(int)\n",
    "        # player 2 rolls\n",
    "        for (l1, s1, l2, s2), replicas in states.items():\n",
    "            for offset, cnt in newcases.items():\n",
    "                newl2 = (l2 + offset) % board_size\n",
    "                news2 = s2 + (newl2 + 1)\n",
    "                if news2 >= 21:\n",
    "                    wins2 += replicas*cnt\n",
    "                else:\n",
    "                    newstates[(l1, s1, newl2, news2)] += replicas*cnt\n",
    "        states = newstates\n",
    "    return max(wins1, wins2)"
   ]
  },
  {
   "cell_type": "code",
   "execution_count": 13,
   "id": "f0c87797-00a0-4494-9524-3f765298088a",
   "metadata": {},
   "outputs": [
    {
     "data": {
      "text/plain": [
       "444356092776315"
      ]
     },
     "execution_count": 13,
     "metadata": {},
     "output_type": "execute_result"
    }
   ],
   "source": [
    "solve2(test_start)"
   ]
  },
  {
   "cell_type": "code",
   "execution_count": 14,
   "id": "6ee35f69-1b2a-4e21-ac83-d7debb604485",
   "metadata": {},
   "outputs": [
    {
     "data": {
      "text/plain": [
       "430229563871565"
      ]
     },
     "execution_count": 14,
     "metadata": {},
     "output_type": "execute_result"
    }
   ],
   "source": [
    "solve2(puzzle_start)"
   ]
  },
  {
   "cell_type": "code",
   "execution_count": null,
   "id": "33471d72-97e7-40fe-910e-43df64abd5a8",
   "metadata": {},
   "outputs": [],
   "source": []
  }
 ],
 "metadata": {
  "kernelspec": {
   "display_name": "Python 3",
   "language": "python",
   "name": "python3"
  },
  "language_info": {
   "codemirror_mode": {
    "name": "ipython",
    "version": 3
   },
   "file_extension": ".py",
   "mimetype": "text/x-python",
   "name": "python",
   "nbconvert_exporter": "python",
   "pygments_lexer": "ipython3",
   "version": "3.9.9"
  }
 },
 "nbformat": 4,
 "nbformat_minor": 5
}
