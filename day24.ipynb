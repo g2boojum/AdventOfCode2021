{
 "cells": [
  {
   "cell_type": "code",
   "execution_count": 1,
   "id": "a3b7e9f7-3091-4471-ae2d-87d46b857332",
   "metadata": {},
   "outputs": [],
   "source": [
    "%matplotlib inline\n",
    "import numpy as np\n",
    "import matplotlib.pyplot as plt\n",
    "import pathlib\n",
    "import collections"
   ]
  },
  {
   "cell_type": "markdown",
   "id": "676e02c2-493c-4f44-9935-43c218ae69d5",
   "metadata": {},
   "source": [
    "## part 1 ##"
   ]
  },
  {
   "cell_type": "code",
   "execution_count": 2,
   "id": "bc91adb4-b8d4-48da-bf3f-5350ff488a97",
   "metadata": {},
   "outputs": [],
   "source": [
    "puzzlelines = pathlib.Path('day24.txt').read_text().splitlines()"
   ]
  },
  {
   "cell_type": "code",
   "execution_count": 3,
   "id": "87662ac5-fc91-4a53-b05d-c8b9ecb1f1a5",
   "metadata": {},
   "outputs": [
    {
     "data": {
      "text/plain": [
       "[0, 18, 36, 54, 72, 90, 108, 126, 144, 162, 180, 198, 216, 234]"
      ]
     },
     "execution_count": 3,
     "metadata": {},
     "output_type": "execute_result"
    }
   ],
   "source": [
    "inplines = []\n",
    "for i,line in enumerate(puzzlelines):\n",
    "    if 'inp' in line:\n",
    "        inplines.append(i)\n",
    "inplines"
   ]
  },
  {
   "cell_type": "code",
   "execution_count": 4,
   "id": "65cbb212-11d5-437b-89f4-c11ce1f0025e",
   "metadata": {},
   "outputs": [],
   "source": [
    "stanzas = {}\n",
    "stanza_length = 18\n",
    "for i, inpline in enumerate(inplines):\n",
    "    stanzas[i] = puzzlelines[inpline:inpline+stanza_length]\n",
    "    "
   ]
  },
  {
   "cell_type": "code",
   "execution_count": 5,
   "id": "a916d475-1ce7-4238-8fdc-2e77bdf093aa",
   "metadata": {},
   "outputs": [
    {
     "data": {
      "text/plain": [
       "['inp w',\n",
       " 'mul x 0',\n",
       " 'add x z',\n",
       " 'mod x 26',\n",
       " 'div z 1',\n",
       " 'add x 12',\n",
       " 'eql x w',\n",
       " 'eql x 0',\n",
       " 'mul y 0',\n",
       " 'add y 25',\n",
       " 'mul y x',\n",
       " 'add y 1',\n",
       " 'mul z y',\n",
       " 'mul y 0',\n",
       " 'add y w',\n",
       " 'add y 4',\n",
       " 'mul y x',\n",
       " 'add z y']"
      ]
     },
     "execution_count": 5,
     "metadata": {},
     "output_type": "execute_result"
    }
   ],
   "source": [
    "ref_stanza = stanzas[0]\n",
    "ref_stanza"
   ]
  },
  {
   "cell_type": "code",
   "execution_count": 6,
   "id": "74e99f6d-8d54-4937-b591-522e6a222004",
   "metadata": {},
   "outputs": [],
   "source": [
    "not_the_same = {}\n",
    "for i, line in enumerate(ref_stanza):\n",
    "    cmplines = [stanzas[j][i] for j in range(len(stanzas))]\n",
    "    if all(cmpline == line for cmpline in cmplines):\n",
    "        continue\n",
    "    not_the_same[i] = cmplines"
   ]
  },
  {
   "cell_type": "code",
   "execution_count": 7,
   "id": "6ece68ce-9293-42b7-85b6-c67593121145",
   "metadata": {},
   "outputs": [
    {
     "data": {
      "text/plain": [
       "{4: ['div z 1',\n",
       "  'div z 1',\n",
       "  'div z 1',\n",
       "  'div z 26',\n",
       "  'div z 1',\n",
       "  'div z 26',\n",
       "  'div z 1',\n",
       "  'div z 1',\n",
       "  'div z 26',\n",
       "  'div z 1',\n",
       "  'div z 26',\n",
       "  'div z 26',\n",
       "  'div z 26',\n",
       "  'div z 26'],\n",
       " 5: ['add x 12',\n",
       "  'add x 15',\n",
       "  'add x 11',\n",
       "  'add x -14',\n",
       "  'add x 12',\n",
       "  'add x -10',\n",
       "  'add x 11',\n",
       "  'add x 13',\n",
       "  'add x -7',\n",
       "  'add x 10',\n",
       "  'add x -2',\n",
       "  'add x -1',\n",
       "  'add x -4',\n",
       "  'add x -12'],\n",
       " 15: ['add y 4',\n",
       "  'add y 11',\n",
       "  'add y 7',\n",
       "  'add y 2',\n",
       "  'add y 11',\n",
       "  'add y 13',\n",
       "  'add y 9',\n",
       "  'add y 12',\n",
       "  'add y 6',\n",
       "  'add y 2',\n",
       "  'add y 11',\n",
       "  'add y 12',\n",
       "  'add y 3',\n",
       "  'add y 13']}"
      ]
     },
     "execution_count": 7,
     "metadata": {},
     "output_type": "execute_result"
    }
   ],
   "source": [
    "not_the_same"
   ]
  },
  {
   "cell_type": "code",
   "execution_count": 8,
   "id": "f05e96f9-2ff8-42b9-a016-2116bfb4e214",
   "metadata": {},
   "outputs": [
    {
     "data": {
      "text/plain": [
       "[1, 1, 1, 26, 1, 26, 1, 1, 26, 1, 26, 26, 26, 26]"
      ]
     },
     "execution_count": 8,
     "metadata": {},
     "output_type": "execute_result"
    }
   ],
   "source": [
    "divzs = [int(line.split()[2]) for line in not_the_same[4]]\n",
    "addxs = [int(line.split()[2]) for line in not_the_same[5]]\n",
    "addys = [int(line.split()[2]) for line in not_the_same[15]]\n",
    "divzs"
   ]
  },
  {
   "cell_type": "code",
   "execution_count": 9,
   "id": "45bcc1ae-6ed6-4948-a58f-4062e304889a",
   "metadata": {},
   "outputs": [
    {
     "data": {
      "text/plain": [
       "[12, 15, 11, -14, 12, -10, 11, 13, -7, 10, -2, -1, -4, -12]"
      ]
     },
     "execution_count": 9,
     "metadata": {},
     "output_type": "execute_result"
    }
   ],
   "source": [
    "addxs"
   ]
  },
  {
   "cell_type": "code",
   "execution_count": 10,
   "id": "5be2307d-aafe-4e6f-83d1-01ccce4dfff1",
   "metadata": {},
   "outputs": [
    {
     "data": {
      "text/plain": [
       "[4, 11, 7, 2, 11, 13, 9, 12, 6, 2, 11, 12, 3, 13]"
      ]
     },
     "execution_count": 10,
     "metadata": {},
     "output_type": "execute_result"
    }
   ],
   "source": [
    "addys"
   ]
  },
  {
   "cell_type": "markdown",
   "id": "6ce0f019-61ed-4347-ad03-00954fd4df6a",
   "metadata": {},
   "source": [
    "$$\n",
    "\\require{cases}\n",
    "$$\n",
    "\n",
    "Each digit has the same processing, except for lines 4, 5, and 15 (indexing from 0):\n",
    "\n",
    "    inp w\n",
    "    mul x 0\n",
    "    add x z\n",
    "    mod x 26\n",
    "    div z [1, 1, 1, 26, 1, 26, 1, 1, 26, 1, 26, 26, 26, 26]\n",
    "    add x [12, 15, 11, -14, 12, -10, 11, 13, -7, 10, -2, -1, -4, -12]\n",
    "    eql x w\n",
    "    eql x 0\n",
    "    mul y 0\n",
    "    add y 25\n",
    "    mul y x\n",
    "    add y 1\n",
    "    mul z y\n",
    "    mul y 0\n",
    "    add y w\n",
    "    add y [4, 11, 7, 2, 11, 13, 9, 12, 6, 2, 11, 12, 3, 13]\n",
    "    mul y x\n",
    "    add z y\n",
    "\n",
    "w, x, y, and z are set to zero for the first run digit input. After the first digit, the non-w\n",
    "registers have whatever value is left over from the previous digit. In reality, though, x and y are\n",
    "cleared to 0 before being used, so the only register that persists is z.\n",
    "\n",
    "    inp w <-- set digit w from input\n",
    "\n",
    "    mul x 0 <-- x is cleared to 0, so doesn't depend on previous stanza\n",
    "    add x z\n",
    "    mod x 26 <-- set x to z_prev%26\n",
    "\n",
    "    div z z* <-- set z to z_prev//z*, where z* depends on which stanza is being run\n",
    "\n",
    "So, at this point: $z_j = z_{j-1}//z^*_j$ and $x_j = z_{j-1}%26$.\n",
    "\n",
    "    add x x*\n",
    "    eql x w\n",
    "    eql x 0 <-- 1 if w == z_prev%26 + x*, and 0 if w != z_prev%26 + x*\n",
    "    \n",
    "$x = \\begin{cases} 0, & z_{j-1}\\% 26 = w - x^*_j \\\\ 1, & z_{j-1}\\% 26 \\neq w - x^*_j \\end{cases} $\n",
    "\n",
    "    mul y 0 <-- y is cleared, so doesn't depend on previous stanza\n",
    "    add y 25\n",
    "    mul y x\n",
    "    add y 1 <-- y = 25*x + 1, so y = 1 if w == z_prev%26 + x*, and y = 26 if w != z_prev%26 + x*\n",
    "\n",
    "$y = \\begin{cases} 1, & z_{j-1}\\% 26 = w - x^*_j \\\\ 26, & z_{j-1}\\% 26 \\neq w - x^*_j \\end{cases} $\n",
    "\n",
    "    mul z y <-- z is unchanged if w == z_prev%26 + x*, and z is multiplied by 26 if w != z_prev%26 + x*\n",
    "\n",
    "$z_j = \\begin{cases} z_{j-1}//z^*_j, & z_{j-1}\\% 26 = w - x^*_j \\\\ \n",
    "                     26\\cdot(z_{j-1}//z^*_j), & z_{j-1}\\% 26 \\neq w - x^*_j \\end{cases} $\n",
    "\n",
    "    mul y 0 <-- clear y to 0\n",
    "    add y w\n",
    "    add y y*\n",
    "    mul y x\n",
    "    add z y <-- z is unchanged if w == z%26 + x*, z += w + y* if w != z%26 + x*\n",
    "\n",
    "$z_j = \\begin{cases} z_{j-1}//z^*_j, & z_{j-1}\\% 26 = w - x^*_j \\\\ \n",
    "                     26\\cdot(z_{j-1}//z^*_j) + w + y^*_j, & z_{j-1}\\% 26 \\neq w - x^*_j \\end{cases} $\n",
    "\n"
   ]
  },
  {
   "cell_type": "code",
   "execution_count": 11,
   "id": "e36f1671-128f-4f6e-b0cb-bbff5182c10e",
   "metadata": {},
   "outputs": [],
   "source": [
    "def run_stanza(w, zprev, j):\n",
    "    z = zprev//divzs[j]\n",
    "    if w == zprev%26 + addxs[j]:\n",
    "        return z\n",
    "    z *= 26\n",
    "    z += w + addys[j]\n",
    "    return z"
   ]
  },
  {
   "cell_type": "code",
   "execution_count": 12,
   "id": "28a1a261-15a5-4fe8-bbaa-54e363bf201a",
   "metadata": {},
   "outputs": [],
   "source": [
    "def full_run(digits):\n",
    "    z = 0\n",
    "    for j, w in enumerate(digits):\n",
    "        z = run_stanza(w, z, j)\n",
    "    return z"
   ]
  },
  {
   "cell_type": "code",
   "execution_count": 13,
   "id": "a0f19527-0544-4ac0-a9de-f3e9a6405414",
   "metadata": {},
   "outputs": [
    {
     "data": {
      "text/plain": [
       "Text(0.5, 1.0, 'Last digit')"
      ]
     },
     "execution_count": 13,
     "metadata": {},
     "output_type": "execute_result"
    },
    {
     "data": {
      "image/png": "[encoded data removed]",
      "text/plain": [
       "<Figure size 432x288 with 1 Axes>"
      ]
     },
     "metadata": {
      "needs_background": "light"
     },
     "output_type": "display_data"
    }
   ],
   "source": [
    "fig,ax = plt.subplots()\n",
    "for w in range(1,10):\n",
    "    zprevs = range(0, 131)\n",
    "    ax.plot(zprevs, [run_stanza(w, zprev, 13) for zprev in zprevs], '.', label=w)\n",
    "plt.legend()\n",
    "ax.set_xlabel(r'$z_{j-1}$')\n",
    "ax.set_ylabel('$z_j$')\n",
    "ax.set_title('Last digit')"
   ]
  },
  {
   "cell_type": "markdown",
   "id": "e4ee2a8b-bd42-414e-8953-055494317d02",
   "metadata": {},
   "source": [
    "Thinking is hard. How about we just brute-force it?  Starting w/ z=0, what values of z are possible for each digit? That's likely to be far less than $9^{14}$."
   ]
  },
  {
   "cell_type": "code",
   "execution_count": 14,
   "id": "d08acb7b-9692-4bcd-a93c-28d0fd16d799",
   "metadata": {},
   "outputs": [
    {
     "name": "stdout",
     "output_type": "stream",
     "text": [
      "1 81\n",
      "2 729\n",
      "3 810\n",
      "4 7290\n",
      "5 8100\n",
      "6 72900\n",
      "7 656100\n",
      "8 703728\n",
      "9 6333552\n",
      "10 6733044\n",
      "11 6394302\n",
      "12 6626691\n",
      "13 6401629\n"
     ]
    }
   ],
   "source": [
    "zvals = collections.defaultdict(set)\n",
    "zvals[0] = set([run_stanza(w, 0, 0) for w in range(1,10)])\n",
    "for digit in range(1, 14):\n",
    "    zvals[digit] = set([run_stanza(w, zprev, digit) for w in range(1, 10) for zprev in zvals[digit-1]])\n",
    "    print(digit, len(zvals[digit]))"
   ]
  },
  {
   "cell_type": "markdown",
   "id": "d7f7b8c3-292d-43a3-a16d-f0adb50ee872",
   "metadata": {},
   "source": [
    "Now work backwards. What previous values of z for the last digit will give me 0?"
   ]
  },
  {
   "cell_type": "code",
   "execution_count": 15,
   "id": "aeb27579-5de2-4714-96ee-9a6721afeaa9",
   "metadata": {},
   "outputs": [
    {
     "name": "stdout",
     "output_type": "stream",
     "text": [
      "1 13\n"
     ]
    }
   ],
   "source": [
    "for w in range(1, 10):\n",
    "    for zprev in zvals[12]:\n",
    "        if run_stanza(w, zprev, 13) == 0:\n",
    "            print(w, zprev)"
   ]
  },
  {
   "cell_type": "markdown",
   "id": "d9dfbd7a-d892-410e-91aa-d7846db4bb5e",
   "metadata": {},
   "source": [
    "Similarly for the penultimate digit, only now the z I want is the one that will give me 0 for the next digit."
   ]
  },
  {
   "cell_type": "code",
   "execution_count": 16,
   "id": "5e3a560e-b71c-4216-99e4-0a78c0b3eacb",
   "metadata": {},
   "outputs": [
    {
     "name": "stdout",
     "output_type": "stream",
     "text": [
      "8 350\n",
      "9 351\n"
     ]
    }
   ],
   "source": [
    "for w in range(1, 10):\n",
    "    for zprev in zvals[11]:\n",
    "        if run_stanza(w, zprev, 12) == 13:\n",
    "            print(w, zprev)"
   ]
  },
  {
   "cell_type": "markdown",
   "id": "af3f2f1e-c07d-4584-8f81-8fbda3db4ede",
   "metadata": {},
   "source": [
    "Here there are two possible values of w that have an associated value of z that would work.\n",
    "We want the biggest number, so pick the larger value of w."
   ]
  },
  {
   "cell_type": "code",
   "execution_count": 17,
   "id": "c334ff55-706b-4b8f-aa00-1c52bdf233ac",
   "metadata": {},
   "outputs": [
    {
     "name": "stdout",
     "output_type": "stream",
     "text": [
      "9 9136\n"
     ]
    }
   ],
   "source": [
    "for w in range(1, 10):\n",
    "    for zprev in zvals[10]:\n",
    "        if run_stanza(w, zprev, 11) == 351:\n",
    "            print(w, zprev)"
   ]
  },
  {
   "cell_type": "markdown",
   "id": "1526e079-ff84-4e5c-91b5-1e81c7776bd5",
   "metadata": {},
   "source": [
    "Okay, it's slow, but doable, to do this for all of the digits."
   ]
  },
  {
   "cell_type": "code",
   "execution_count": 18,
   "id": "97b3fc14-b084-4d95-9dd9-105e20464436",
   "metadata": {},
   "outputs": [
    {
     "name": "stdout",
     "output_type": "stream",
     "text": [
      "13 defaultdict(<class 'int'>, {1: 13})\n",
      "12 defaultdict(<class 'int'>, {8: 350, 9: 351})\n",
      "11 defaultdict(<class 'int'>, {9: 9136})\n",
      "10 defaultdict(<class 'int'>, {1: 237539, 2: 237540, 3: 237541, 4: 237542, 5: 237543, 6: 237544, 7: 237545, 8: 237546, 9: 237547})\n",
      "9 defaultdict(<class 'int'>, {9: 9136})\n",
      "8 defaultdict(<class 'int'>, {6: 237549, 7: 237550, 8: 237551, 9: 237552})\n",
      "7 defaultdict(<class 'int'>, {4: 9136})\n",
      "6 defaultdict(<class 'int'>, {1: 351})\n",
      "5 defaultdict(<class 'int'>, {2: 9138, 3: 9139, 4: 9140, 5: 9141, 6: 9142, 7: 9143, 8: 9144, 9: 9145})\n",
      "4 defaultdict(<class 'int'>, {8: 351})\n",
      "3 defaultdict(<class 'int'>, {1: 9141, 2: 9142})\n",
      "2 defaultdict(<class 'int'>, {9: 351})\n",
      "1 defaultdict(<class 'int'>, {2: 13})\n"
     ]
    }
   ],
   "source": [
    "maxvals = []\n",
    "next_z = 0\n",
    "for digit in reversed(range(1, 14)):\n",
    "    valid = collections.defaultdict(int)\n",
    "    for w in range(1, 10):\n",
    "        for zprev in zvals[digit-1]:\n",
    "            if run_stanza(w, zprev, digit) == next_z:\n",
    "                valid[w] = zprev\n",
    "    print(digit, valid)\n",
    "    maxdig = max(valid.keys())\n",
    "    maxvals.append(maxdig)\n",
    "    next_z = valid[maxdig]\n",
    "for w in range(1, 10):\n",
    "    if run_stanza(w, 0, 0) == next_z:\n",
    "        w0 = w\n",
    "        break\n",
    "maxvals.append(w0)"
   ]
  },
  {
   "cell_type": "code",
   "execution_count": 19,
   "id": "33f58194-b8ba-4981-9cc4-13799dfd122b",
   "metadata": {},
   "outputs": [
    {
     "data": {
      "text/plain": [
       "0"
      ]
     },
     "execution_count": 19,
     "metadata": {},
     "output_type": "execute_result"
    }
   ],
   "source": [
    "full_run(reversed(maxvals))"
   ]
  },
  {
   "cell_type": "code",
   "execution_count": 20,
   "id": "f06e6919-c85f-4686-859d-f45f8b969127",
   "metadata": {},
   "outputs": [
    {
     "data": {
      "text/plain": [
       "'992928914999991'"
      ]
     },
     "execution_count": 20,
     "metadata": {},
     "output_type": "execute_result"
    }
   ],
   "source": [
    "''.join(str(i) for i in reversed(maxvals + [w0]))"
   ]
  },
  {
   "cell_type": "markdown",
   "id": "2d07d47a-3090-4b15-910d-8f7b7c22e050",
   "metadata": {},
   "source": [
    "## part 2 ##"
   ]
  },
  {
   "cell_type": "code",
   "execution_count": 21,
   "id": "3997d83b-09bb-4473-b45e-9bbaceb000a4",
   "metadata": {},
   "outputs": [
    {
     "name": "stdout",
     "output_type": "stream",
     "text": [
      "13 defaultdict(<class 'int'>, {1: 13})\n",
      "12 defaultdict(<class 'int'>, {8: 350, 9: 351})\n",
      "11 defaultdict(<class 'int'>, {9: 9110})\n",
      "10 defaultdict(<class 'int'>, {1: 236863, 2: 236864, 3: 236865, 4: 236866, 5: 236867, 6: 236868, 7: 236869, 8: 236870, 9: 236871})\n",
      "9 defaultdict(<class 'int'>, {1: 9110})\n",
      "8 defaultdict(<class 'int'>, {6: 236873, 7: 236874, 8: 236875, 9: 236876})\n",
      "7 defaultdict(<class 'int'>, {1: 9110})\n",
      "6 defaultdict(<class 'int'>, {1: 350})\n",
      "5 defaultdict(<class 'int'>, {2: 9112, 3: 9113, 4: 9114, 5: 9115, 6: 9116, 7: 9117, 8: 9118, 9: 9119})\n",
      "4 defaultdict(<class 'int'>, {1: 350})\n",
      "3 defaultdict(<class 'int'>, {1: 9115, 2: 9116})\n",
      "2 defaultdict(<class 'int'>, {8: 350})\n",
      "1 defaultdict(<class 'int'>, {1: 13})\n",
      "<list_reverseiterator object at 0x1523ecf1b610>\n"
     ]
    }
   ],
   "source": [
    "minvals = []\n",
    "next_z = 0\n",
    "for digit in reversed(range(1, 14)):\n",
    "    valid = collections.defaultdict(int)\n",
    "    for w in range(1, 10):\n",
    "        for zprev in zvals[digit-1]:\n",
    "            if run_stanza(w, zprev, digit) == next_z:\n",
    "                valid[w] = zprev\n",
    "    print(digit, valid)\n",
    "    mindig = min(valid.keys())\n",
    "    minvals.append(mindig)\n",
    "    next_z = valid[mindig]\n",
    "for w in range(1, 10):\n",
    "    if run_stanza(w, 0, 0) == next_z:\n",
    "        w0 = w\n",
    "        break\n",
    "minvals.append(w0)\n",
    "print(reversed(minvals))"
   ]
  },
  {
   "cell_type": "code",
   "execution_count": 22,
   "id": "9ea27c40-f647-4f2d-9b5c-9ef0013cbebe",
   "metadata": {},
   "outputs": [
    {
     "data": {
      "text/plain": [
       "'91811211611981'"
      ]
     },
     "execution_count": 22,
     "metadata": {},
     "output_type": "execute_result"
    }
   ],
   "source": [
    "''.join(str(c) for c in reversed(minvals))"
   ]
  },
  {
   "cell_type": "code",
   "execution_count": 23,
   "id": "6372fde3-d333-4083-b246-d9ac32afd72a",
   "metadata": {},
   "outputs": [
    {
     "data": {
      "text/plain": [
       "0"
      ]
     },
     "execution_count": 23,
     "metadata": {},
     "output_type": "execute_result"
    }
   ],
   "source": [
    "full_run(reversed(minvals))"
   ]
  },
  {
   "cell_type": "code",
   "execution_count": null,
   "id": "2557c943-b715-4e8f-91c5-cf64ad83bb98",
   "metadata": {},
   "outputs": [],
   "source": []
  }
 ],
 "metadata": {
  "kernelspec": {
   "display_name": "Python 3",
   "language": "python",
   "name": "python3"
  },
  "language_info": {
   "codemirror_mode": {
    "name": "ipython",
    "version": 3
   },
   "file_extension": ".py",
   "mimetype": "text/x-python",
   "name": "python",
   "nbconvert_exporter": "python",
   "pygments_lexer": "ipython3",
   "version": "3.9.9"
  }
 },
 "nbformat": 4,
 "nbformat_minor": 5
}
