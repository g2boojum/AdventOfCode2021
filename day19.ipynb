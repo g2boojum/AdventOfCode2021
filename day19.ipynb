{
 "cells": [
  {
   "cell_type": "code",
   "execution_count": 1,
   "id": "4c3774e6-dcca-48fa-a71a-cdf6296ab1ca",
   "metadata": {},
   "outputs": [],
   "source": [
    "import pathlib\n",
    "import collections\n",
    "import math\n",
    "import numpy as np\n",
    "import itertools"
   ]
  },
  {
   "cell_type": "code",
   "execution_count": 2,
   "id": "660d5008-a4e4-4544-a873-e487814e7827",
   "metadata": {},
   "outputs": [],
   "source": [
    "testlines = pathlib.Path('day19sample.txt').read_text().splitlines()"
   ]
  },
  {
   "cell_type": "code",
   "execution_count": 3,
   "id": "596bb36d-93ee-45c2-a35d-6a80c20f64e7",
   "metadata": {},
   "outputs": [],
   "source": [
    "puzzlelines = pathlib.Path('day19.txt').read_text().splitlines()"
   ]
  },
  {
   "cell_type": "markdown",
   "id": "9dc066e1-aa4d-49af-b2e5-fb86ec1909a6",
   "metadata": {},
   "source": [
    "## part 1 ##"
   ]
  },
  {
   "cell_type": "code",
   "execution_count": 4,
   "id": "8f649b96-c6d8-4569-8230-bc0bc58cc316",
   "metadata": {},
   "outputs": [],
   "source": [
    "def parse(lines):\n",
    "    scanners = collections.defaultdict(list)\n",
    "    for line in lines:\n",
    "        if '--' in line:\n",
    "            _, _, num, _ = line.split()\n",
    "            curr_scanner = int(num)\n",
    "        elif line:\n",
    "            x, y, z = line.split(',')\n",
    "            scanners[curr_scanner].append((int(x), int(y), int(z)))\n",
    "        else:\n",
    "            continue\n",
    "    return scanners"
   ]
  },
  {
   "cell_type": "code",
   "execution_count": 5,
   "id": "6f58477d-9550-45fa-aaf1-66cf5bdc3b9d",
   "metadata": {},
   "outputs": [],
   "source": [
    "def distance(pt1, pt2):\n",
    "    return sum(abs(pt1[i]-pt2[i]) for i in range(3))"
   ]
  },
  {
   "cell_type": "code",
   "execution_count": 6,
   "id": "dbe3f9b6-c167-41f9-80e1-73e1a58b446a",
   "metadata": {},
   "outputs": [],
   "source": [
    "def get_all_pair_distances(pts):\n",
    "    numpts = len(pts)\n",
    "    d = collections.defaultdict(dict)\n",
    "    for i in range(numpts-1):\n",
    "        ipt = pts[i]\n",
    "        for j in range(i+1, numpts):\n",
    "            jpt = pts[j]\n",
    "            distij = distance(ipt, jpt)\n",
    "            d[ipt][jpt] = distij\n",
    "            d[jpt][ipt] = distij\n",
    "    return d        "
   ]
  },
  {
   "cell_type": "code",
   "execution_count": 7,
   "id": "6da341ed-952a-4189-8e12-5da6384c7137",
   "metadata": {},
   "outputs": [],
   "source": [
    "def get_nearest_neighbor_distances(pairdict):\n",
    "    nndists = set()\n",
    "    for pt in pairdict:\n",
    "        nndists.add(min(pairdict[pt].values()))\n",
    "    return nndists"
   ]
  },
  {
   "cell_type": "code",
   "execution_count": 8,
   "id": "92fbcda6-fde5-403c-8bb7-3cf3550d98d2",
   "metadata": {},
   "outputs": [],
   "source": [
    "def neighbors(scanners):\n",
    "    nlist = {}\n",
    "    for scanner in scanners:\n",
    "        pairdict = get_all_pair_distances(scanners[scanner])\n",
    "        nlist[scanner] = get_nearest_neighbor_distances(pairdict)\n",
    "    return nlist"
   ]
  },
  {
   "cell_type": "code",
   "execution_count": 9,
   "id": "82bdaef5-9d9f-46b1-aed3-bef955116c23",
   "metadata": {},
   "outputs": [],
   "source": [
    "scanners = parse(testlines)"
   ]
  },
  {
   "cell_type": "code",
   "execution_count": 10,
   "id": "8c45e196-8e67-4cf5-882f-9ebd02a3d95d",
   "metadata": {},
   "outputs": [],
   "source": [
    "nlist = neighbors(scanners)"
   ]
  },
  {
   "cell_type": "code",
   "execution_count": 11,
   "id": "57c50e0a-f131-4d66-9294-cc9383226b3d",
   "metadata": {},
   "outputs": [
    {
     "name": "stdout",
     "output_type": "stream",
     "text": [
      "1 8\n",
      "2 2\n",
      "3 0\n",
      "4 4\n"
     ]
    }
   ],
   "source": [
    "num_scanners = len(nlist)\n",
    "for i in range(1,num_scanners):\n",
    "    print(i, len(set.intersection(nlist[0], nlist[i])))"
   ]
  },
  {
   "cell_type": "code",
   "execution_count": 12,
   "id": "678622d3-429e-4f3a-ac30-a2e92fa74e9e",
   "metadata": {},
   "outputs": [
    {
     "name": "stdout",
     "output_type": "stream",
     "text": [
      "2 5\n",
      "3 8\n",
      "4 8\n"
     ]
    }
   ],
   "source": [
    "for i in range(2,num_scanners):\n",
    "    print(i, len(set.intersection(nlist[1], nlist[i])))"
   ]
  },
  {
   "cell_type": "code",
   "execution_count": 13,
   "id": "e7ae17ed-28c6-49f0-90d1-fac6e60e4a26",
   "metadata": {},
   "outputs": [
    {
     "data": {
      "text/plain": [
       "{75, 95, 97, 141, 183, 190, 209, 245}"
      ]
     },
     "execution_count": 13,
     "metadata": {},
     "output_type": "execute_result"
    }
   ],
   "source": [
    "shared = set.intersection(nlist[0], nlist[1])\n",
    "shared"
   ]
  },
  {
   "cell_type": "code",
   "execution_count": 14,
   "id": "24da1a14-edb9-413f-acfd-be801805aa14",
   "metadata": {},
   "outputs": [],
   "source": [
    "sd = []\n",
    "for scanner,pts in scanners.items():\n",
    "    sd.append(get_all_pair_distances(pts))"
   ]
  },
  {
   "cell_type": "code",
   "execution_count": 15,
   "id": "4af450ac-fde1-424a-b5c5-7c522359da3b",
   "metadata": {},
   "outputs": [],
   "source": [
    "def find_basis_points(distances, shared):\n",
    "    found = False\n",
    "    for firstpt, d in distances.items():\n",
    "        basis = [firstpt]\n",
    "        for pt, dist in d.items():\n",
    "            if dist in shared:\n",
    "                basis.append(pt)\n",
    "        if len(basis) >= 3:\n",
    "            found = True\n",
    "            break\n",
    "    if not found:\n",
    "        return None\n",
    "    for firstpt, d in distances.items():\n",
    "        for pt, dist in d.items():\n",
    "            if pt in basis:\n",
    "                continue\n",
    "            if dist in shared:\n",
    "                basis.append(pt)\n",
    "                return basis\n",
    "    return None"
   ]
  },
  {
   "cell_type": "code",
   "execution_count": 16,
   "id": "3feb5c3a-7f5b-4f39-827c-1f6a786370f4",
   "metadata": {},
   "outputs": [
    {
     "data": {
      "text/plain": [
       "[(404, -588, -901), (390, -675, -793), (544, -627, -890), (459, -707, 401)]"
      ]
     },
     "execution_count": 16,
     "metadata": {},
     "output_type": "execute_result"
    }
   ],
   "source": [
    "basis0 = find_basis_points(sd[0], shared)\n",
    "basis0"
   ]
  },
  {
   "cell_type": "code",
   "execution_count": 17,
   "id": "828255da-e585-430a-8b55-f0c42e9ec247",
   "metadata": {},
   "outputs": [],
   "source": [
    "def match_points(basisa, sda, sdb):\n",
    "    origina = basisa[0]\n",
    "    joined_dists = [sda[origina][pt] for pt in basisa[1:3]]\n",
    "    found = False\n",
    "    for firstpt, d in sdb.items():\n",
    "        if set(joined_dists) <= set(d.values()):\n",
    "            # found the origin point\n",
    "            found = True\n",
    "            basisb = [firstpt]\n",
    "            for secondpt, dist in d.items():\n",
    "                if dist == joined_dists[0]:\n",
    "                    basisb.append(secondpt)\n",
    "                    break\n",
    "            for secondpt, dist in d.items():\n",
    "                if dist == joined_dists[1]:\n",
    "                    basisb.append(secondpt)\n",
    "            break\n",
    "    if not found:\n",
    "        return None\n",
    "    lastptadists = sda[basisa[-1]]\n",
    "    last_point_dists = set(lastptadists[pt] for pt in basisa[:-1])\n",
    "    found = False\n",
    "    for firstpt, d in sdb.items():\n",
    "        if last_point_dists <= set(d.values()):\n",
    "            # found the last point\n",
    "            found = True\n",
    "            basisb.append(firstpt)\n",
    "            break\n",
    "    if not found:\n",
    "        return None\n",
    "    return basisb"
   ]
  },
  {
   "cell_type": "code",
   "execution_count": 18,
   "id": "30afd274-985f-47fd-881c-4dc4a8c46486",
   "metadata": {},
   "outputs": [
    {
     "data": {
      "text/plain": [
       "190"
      ]
     },
     "execution_count": 18,
     "metadata": {},
     "output_type": "execute_result"
    }
   ],
   "source": [
    "origina = basis0[0]\n",
    "sd[0][origina][basis0[2]]"
   ]
  },
  {
   "cell_type": "code",
   "execution_count": 19,
   "id": "fa3b178b-30fa-4866-8257-d53cbef873a8",
   "metadata": {},
   "outputs": [
    {
     "data": {
      "text/plain": [
       "[(-336, 658, 858), (-322, 571, 750), (-476, 619, 847), (-391, 539, -444)]"
      ]
     },
     "execution_count": 19,
     "metadata": {},
     "output_type": "execute_result"
    }
   ],
   "source": [
    "basis1 = match_points(basis0, sd[0], sd[1])\n",
    "basis1"
   ]
  },
  {
   "cell_type": "code",
   "execution_count": 20,
   "id": "6ceb24c8-e272-4fdf-bffd-9f4182df4b24",
   "metadata": {},
   "outputs": [],
   "source": [
    "def get_transition_matrix(basis):\n",
    "    origin = np.array(basis[0])\n",
    "    vecs = [np.array(pt) - origin for pt in basis[1:]]\n",
    "    mat = np.zeros((3,3))\n",
    "    for i, vec in enumerate(vecs):\n",
    "        mat[:,i] = vec\n",
    "    return mat"
   ]
  },
  {
   "cell_type": "code",
   "execution_count": 21,
   "id": "510e8982-b20a-43fe-8bd1-f165f497ed13",
   "metadata": {},
   "outputs": [],
   "source": [
    "mat0 = get_transition_matrix(basis0)\n",
    "mat1 = get_transition_matrix(basis1)"
   ]
  },
  {
   "cell_type": "code",
   "execution_count": 22,
   "id": "b06c47e6-f6ff-480c-9c92-b82f0b8530f2",
   "metadata": {},
   "outputs": [
    {
     "data": {
      "text/plain": [
       "array([[-1.00000000e+00,  3.90312782e-18,  2.92734587e-18],\n",
       "       [-2.38795528e-17,  1.00000000e+00,  2.39933941e-16],\n",
       "       [ 1.02457105e-17, -9.54097912e-18, -1.00000000e+00]])"
      ]
     },
     "execution_count": 22,
     "metadata": {},
     "output_type": "execute_result"
    }
   ],
   "source": [
    "mat1inv = np.linalg.inv(mat1)\n",
    "m0m1inv = np.matmul(mat0, mat1inv)\n",
    "m0m1inv"
   ]
  },
  {
   "cell_type": "code",
   "execution_count": 23,
   "id": "ade4d077-d29c-409e-a500-5da19bf6b573",
   "metadata": {},
   "outputs": [
    {
     "data": {
      "text/plain": [
       "array([[ -14.,  140.,   55.],\n",
       "       [ -87.,  -39., -119.],\n",
       "       [ 108.,   11., 1302.]])"
      ]
     },
     "execution_count": 23,
     "metadata": {},
     "output_type": "execute_result"
    }
   ],
   "source": [
    "mat0"
   ]
  },
  {
   "cell_type": "code",
   "execution_count": 24,
   "id": "e56bbd28-9d61-474b-921a-7e7c88fbeaa4",
   "metadata": {},
   "outputs": [
    {
     "data": {
      "text/plain": [
       "array([[   14.,  -140.,   -55.],\n",
       "       [  -87.,   -39.,  -119.],\n",
       "       [ -108.,   -11., -1302.]])"
      ]
     },
     "execution_count": 24,
     "metadata": {},
     "output_type": "execute_result"
    }
   ],
   "source": [
    "mat1"
   ]
  },
  {
   "cell_type": "code",
   "execution_count": null,
   "id": "c731bd28-07cc-4b1c-87c2-b24f12f9b6e2",
   "metadata": {},
   "outputs": [],
   "source": []
  }
 ],
 "metadata": {
  "kernelspec": {
   "display_name": "Python 3",
   "language": "python",
   "name": "python3"
  },
  "language_info": {
   "codemirror_mode": {
    "name": "ipython",
    "version": 3
   },
   "file_extension": ".py",
   "mimetype": "text/x-python",
   "name": "python",
   "nbconvert_exporter": "python",
   "pygments_lexer": "ipython3",
   "version": "3.9.9"
  }
 },
 "nbformat": 4,
 "nbformat_minor": 5
}
