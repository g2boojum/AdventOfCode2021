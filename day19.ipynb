{
 "cells": [
  {
   "cell_type": "code",
   "execution_count": 1,
   "id": "4c3774e6-dcca-48fa-a71a-cdf6296ab1ca",
   "metadata": {},
   "outputs": [],
   "source": [
    "import pathlib\n",
    "import collections\n",
    "import math\n",
    "import numpy as np\n",
    "import itertools"
   ]
  },
  {
   "cell_type": "code",
   "execution_count": 2,
   "id": "660d5008-a4e4-4544-a873-e487814e7827",
   "metadata": {},
   "outputs": [],
   "source": [
    "testlines = pathlib.Path('day19sample.txt').read_text().splitlines()"
   ]
  },
  {
   "cell_type": "code",
   "execution_count": 3,
   "id": "596bb36d-93ee-45c2-a35d-6a80c20f64e7",
   "metadata": {},
   "outputs": [],
   "source": [
    "puzzlelines = pathlib.Path('day19.txt').read_text().splitlines()"
   ]
  },
  {
   "cell_type": "markdown",
   "id": "9dc066e1-aa4d-49af-b2e5-fb86ec1909a6",
   "metadata": {},
   "source": [
    "## part 1 ##"
   ]
  },
  {
   "cell_type": "code",
   "execution_count": 4,
   "id": "8f649b96-c6d8-4569-8230-bc0bc58cc316",
   "metadata": {},
   "outputs": [],
   "source": [
    "def parse(lines):\n",
    "    scanners = collections.defaultdict(list)\n",
    "    for line in lines:\n",
    "        if '--' in line:\n",
    "            _, _, num, _ = line.split()\n",
    "            curr_scanner = int(num)\n",
    "        elif line:\n",
    "            x, y, z = line.split(',')\n",
    "            scanners[curr_scanner].append((int(x), int(y), int(z)))\n",
    "        else:\n",
    "            continue\n",
    "    return scanners"
   ]
  },
  {
   "cell_type": "code",
   "execution_count": 5,
   "id": "6f58477d-9550-45fa-aaf1-66cf5bdc3b9d",
   "metadata": {},
   "outputs": [],
   "source": [
    "def distance(pt1, pt2):\n",
    "    return sum(abs(pt1[i]-pt2[i]) for i in range(3))"
   ]
  },
  {
   "cell_type": "code",
   "execution_count": 6,
   "id": "dbe3f9b6-c167-41f9-80e1-73e1a58b446a",
   "metadata": {},
   "outputs": [],
   "source": [
    "def get_all_pair_distances(pts):\n",
    "    numpts = len(pts)\n",
    "    d = collections.defaultdict(dict)\n",
    "    for i in range(numpts-1):\n",
    "        ipt = pts[i]\n",
    "        for j in range(i+1, numpts):\n",
    "            jpt = pts[j]\n",
    "            distij = distance(ipt, jpt)\n",
    "            d[ipt][jpt] = distij\n",
    "            d[jpt][ipt] = distij\n",
    "    return d        "
   ]
  },
  {
   "cell_type": "code",
   "execution_count": 7,
   "id": "6da341ed-952a-4189-8e12-5da6384c7137",
   "metadata": {},
   "outputs": [],
   "source": [
    "def get_nearest_neighbor_distances(pairdict):\n",
    "    nndists = set()\n",
    "    for pt in pairdict:\n",
    "        nndists.add(min(pairdict[pt].values()))\n",
    "    return nndists"
   ]
  },
  {
   "cell_type": "code",
   "execution_count": 8,
   "id": "e92806b2-1dc5-4420-86ac-261522ffabdd",
   "metadata": {},
   "outputs": [],
   "source": [
    "def build_nearest_neighborlist(scannerdists):\n",
    "    nlist = {}\n",
    "    for scanner, pairdict in scannerdists.items():\n",
    "        nlist[scanner] = get_nearest_neighbor_distances(pairdict)\n",
    "    return nlist"
   ]
  },
  {
   "cell_type": "code",
   "execution_count": 9,
   "id": "5d815038-97c4-464e-8c7b-fdbdf00e1993",
   "metadata": {},
   "outputs": [],
   "source": [
    "def find_overlapping_scanners(nlist):\n",
    "    overlaps = {}\n",
    "    for i in nlist:\n",
    "        curr_overlaps = {}\n",
    "        for j in nlist:\n",
    "            if j == i:\n",
    "                continue\n",
    "            curr_overlaps[j] = len(set.intersection(nlist[i],nlist[j]))\n",
    "        overlaps[i] = curr_overlaps\n",
    "    return overlaps"
   ]
  },
  {
   "cell_type": "code",
   "execution_count": 10,
   "id": "c61d6444-cc48-4c0e-be6b-511b0ead47d4",
   "metadata": {},
   "outputs": [],
   "source": [
    "def find_unique_beacons(scanners):\n",
    "    unique = set()\n",
    "    for scanner in scanners:\n",
    "        unique |= set([beacon for beacon in scanners[scanner]])\n",
    "    return unique"
   ]
  },
  {
   "cell_type": "code",
   "execution_count": 11,
   "id": "51f3efb7-7fe4-42c6-98b3-6e2434447682",
   "metadata": {},
   "outputs": [],
   "source": [
    "def find_reference_points(distances, shared):\n",
    "    '''Find a shared beacon that has two neighbors with shared distances to it, and return all 3'''\n",
    "    for firstpt, d in distances.items():\n",
    "        refpts = [firstpt]\n",
    "        for pt, dist in d.items():\n",
    "            if dist in shared:\n",
    "                refpts.append(pt)\n",
    "        if len(refpts) >= 3:\n",
    "            return refpts\n",
    "    return None"
   ]
  },
  {
   "cell_type": "code",
   "execution_count": 12,
   "id": "4503a97d-932e-449b-944d-e8c63488d895",
   "metadata": {},
   "outputs": [],
   "source": [
    "def match_reference_points(refpts, sda, sdb):\n",
    "    origina = refpts[0]\n",
    "    joined_dists = [sda[origina][pt] for pt in refpts[1:3]]\n",
    "    for firstpt, d in sdb.items():\n",
    "        if set(joined_dists) <= set(d.values()):\n",
    "            # found the origin point in b\n",
    "            refptsb = [firstpt]\n",
    "            for secondpt, dist in d.items():\n",
    "                if dist == joined_dists[0]:\n",
    "                    refptsb.append(secondpt)\n",
    "                    break\n",
    "            for thirdpt, dist in d.items():\n",
    "                if dist == joined_dists[1]:\n",
    "                    refptsb.append(thirdpt)\n",
    "                    break\n",
    "            return refptsb\n",
    "    return None"
   ]
  },
  {
   "cell_type": "code",
   "execution_count": 13,
   "id": "204e2009-9a8d-42b0-b27e-22657ac3997c",
   "metadata": {},
   "outputs": [],
   "source": [
    "def translate(pts, new_origin):\n",
    "    x0, y0, z0 = new_origin\n",
    "    newpts = []\n",
    "    for x,y,z in pts:\n",
    "        newpts.append((x-x0, y-y0, z-z0))\n",
    "    return newpts"
   ]
  },
  {
   "cell_type": "code",
   "execution_count": 14,
   "id": "7f416719-c53e-402a-8728-ae53089abd25",
   "metadata": {},
   "outputs": [],
   "source": [
    "def get_axis_map(pta, ptb):\n",
    "    axismap = {}\n",
    "    for i,vala in enumerate(pta):\n",
    "        for j,valb in enumerate(ptb):\n",
    "            if vala == valb:\n",
    "                axismap[i] = (j, +1)\n",
    "                break\n",
    "            elif vala == -valb:\n",
    "                axismap[i] = (j, -1)\n",
    "                break\n",
    "    return axismap            "
   ]
  },
  {
   "cell_type": "code",
   "execution_count": 15,
   "id": "d03916fd-e962-4f13-83d4-e8c95e186527",
   "metadata": {},
   "outputs": [],
   "source": [
    "def reorient(axismap, pts):\n",
    "    newpts = []\n",
    "    for pt in pts:\n",
    "        newpt = [0,0,0]\n",
    "        for idx, (newidx,sgn) in axismap.items():\n",
    "            newpt[idx] = pt[newidx]*sgn\n",
    "        newpts.append(tuple(newpt))\n",
    "    return newpts"
   ]
  },
  {
   "cell_type": "code",
   "execution_count": 16,
   "id": "88057f32-4ed3-4e7d-9a45-bdbcac4b92f9",
   "metadata": {},
   "outputs": [],
   "source": [
    "def reconcile(a, b, shared, scannerdists, scanners):\n",
    "    refptsa = find_reference_points(scannerdists[a], shared)\n",
    "    if refptsa is None:\n",
    "        return False\n",
    "    refptsb = match_reference_points(refptsa, scannerdists[a], scannerdists[b])\n",
    "    if refptsb is None:\n",
    "        return False\n",
    "    shiftrefa = translate(refptsa, refptsa[0])\n",
    "    shiftrefb = translate(refptsb, refptsb[0])\n",
    "    axismap = get_axis_map(shiftrefa[1], shiftrefb[1])\n",
    "    shiftb = translate(scanners[b], refptsb[0])\n",
    "    newb = reorient(axismap, shiftb)\n",
    "    newb = translate(newb, tuple(-val for val in refptsa[0]))\n",
    "    scanners[b] = newb\n",
    "    scannerdists[b] = get_all_pair_distances(scanners[b])\n",
    "    return True"
   ]
  },
  {
   "cell_type": "code",
   "execution_count": 17,
   "id": "b8bccd68-9849-4309-b134-db22a827aeae",
   "metadata": {},
   "outputs": [],
   "source": [
    "def solve(lines):\n",
    "    scanners = parse(lines)\n",
    "    scannerdists = {}\n",
    "    for scanner,pts in scanners.items():\n",
    "        scannerdists[scanner] = get_all_pair_distances(pts)\n",
    "    nlist = build_nearest_neighborlist(scannerdists)\n",
    "    overlaps = find_overlapping_scanners(nlist)\n",
    "    scannercombs = itertools.combinations(range(len(overlaps)), 2)\n",
    "    reconciled = set([0]) # list of scanners that have finished coordinates\n",
    "    allscanners = set(scanners.keys())\n",
    "    i = 0\n",
    "    while reconciled < allscanners and i < 100:\n",
    "        scannercombs = itertools.product(reconciled, allscanners - reconciled)\n",
    "        for a, b in scannercombs:\n",
    "            if b in reconciled:\n",
    "                continue\n",
    "            if overlaps[a][b] >= 5:\n",
    "                shared = set.intersection(nlist[a], nlist[b])\n",
    "                success = reconcile(a, b, shared, scannerdists, scanners)\n",
    "                if success:\n",
    "                    reconciled.add(b)\n",
    "        i += 1\n",
    "    print(sorted(reconciled))\n",
    "    unique = find_unique_beacons(scanners)\n",
    "    return len(unique)"
   ]
  },
  {
   "cell_type": "code",
   "execution_count": 18,
   "id": "7c1a44a9-31a0-488e-b94d-5d7e88c47d6e",
   "metadata": {},
   "outputs": [
    {
     "name": "stdout",
     "output_type": "stream",
     "text": [
      "[0, 1, 2, 3, 4]\n"
     ]
    },
    {
     "data": {
      "text/plain": [
       "79"
      ]
     },
     "execution_count": 18,
     "metadata": {},
     "output_type": "execute_result"
    }
   ],
   "source": [
    "solve(testlines)"
   ]
  },
  {
   "cell_type": "code",
   "execution_count": 19,
   "id": "b1ab9b70-4d5a-4a26-baf5-6568d86a4941",
   "metadata": {},
   "outputs": [
    {
     "name": "stdout",
     "output_type": "stream",
     "text": [
      "[0, 1, 2, 3, 4, 5, 6, 7, 8, 9, 10, 11, 12, 13, 14, 15, 16, 17, 18, 19, 20, 21, 22, 23, 24, 25, 26, 27, 28, 29, 30, 31, 32, 33, 34, 35, 36, 37]\n"
     ]
    },
    {
     "data": {
      "text/plain": [
       "454"
      ]
     },
     "execution_count": 19,
     "metadata": {},
     "output_type": "execute_result"
    }
   ],
   "source": [
    "solve(puzzlelines)"
   ]
  },
  {
   "cell_type": "markdown",
   "id": "4c899545-8538-4a55-926e-0617ec6e10c7",
   "metadata": {},
   "source": [
    "## part 2 ##"
   ]
  },
  {
   "cell_type": "code",
   "execution_count": 20,
   "id": "6dd5dc63-e582-4880-b45a-a350ec6a2e8f",
   "metadata": {},
   "outputs": [],
   "source": [
    "def reconcile2(a, b, shared, scannerdists, scanners, scannerpositions):\n",
    "    refptsa = find_reference_points(scannerdists[a], shared)\n",
    "    if refptsa is None:\n",
    "        return False\n",
    "    refptsb = match_reference_points(refptsa, scannerdists[a], scannerdists[b])\n",
    "    if refptsb is None:\n",
    "        return False\n",
    "    shiftrefa = translate(refptsa, refptsa[0])\n",
    "    shiftrefb = translate(refptsb, refptsb[0])\n",
    "    axismap = get_axis_map(shiftrefa[1], shiftrefb[1])\n",
    "    shiftb = translate(scanners[b], refptsb[0])\n",
    "    newb = reorient(axismap, shiftb)\n",
    "    newb = translate(newb, tuple(-val for val in refptsa[0]))\n",
    "    scanners[b] = newb\n",
    "    scannerdists[b] = get_all_pair_distances(scanners[b])\n",
    "    scannerpos = scannerpositions[b]\n",
    "    shiftb = translate([scannerpos], refptsb[0])\n",
    "    newb = reorient(axismap, shiftb)\n",
    "    newb = translate(newb, tuple(-val for val in refptsa[0]))\n",
    "    scannerpositions[b] = newb[0]\n",
    "    return True"
   ]
  },
  {
   "cell_type": "code",
   "execution_count": 31,
   "id": "4049cadc-b0d0-4bc6-95f9-4ddc19a1ef3c",
   "metadata": {},
   "outputs": [],
   "source": [
    "def solve2(lines):\n",
    "    scanners = parse(lines)\n",
    "    scannerpositions = [(0,0,0) for scanner in scanners]\n",
    "    scannerdists = {}\n",
    "    for scanner,pts in scanners.items():\n",
    "        scannerdists[scanner] = get_all_pair_distances(pts)\n",
    "    nlist = build_nearest_neighborlist(scannerdists)\n",
    "    overlaps = find_overlapping_scanners(nlist)\n",
    "    scannercombs = itertools.combinations(range(len(overlaps)), 2)\n",
    "    reconciled = set([0]) # list of scanners that have finished coordinates\n",
    "    allscanners = set(scanners.keys())\n",
    "    i = 0\n",
    "    while reconciled < allscanners and i < 100:\n",
    "        scannercombs = itertools.product(reconciled, allscanners - reconciled)\n",
    "        for a, b in scannercombs:\n",
    "            if b in reconciled:\n",
    "                continue\n",
    "            if overlaps[a][b] >= 5:\n",
    "                shared = set.intersection(nlist[a], nlist[b])\n",
    "                success = reconcile2(a, b, shared, scannerdists, scanners, scannerpositions)\n",
    "                if success:\n",
    "                    reconciled.add(b)\n",
    "        i += 1\n",
    "    print(sorted(reconciled))\n",
    "    unique = find_unique_beacons(scanners)\n",
    "    num_unique = len(unique)\n",
    "    scannerposdistances = get_all_pair_distances(scannerpositions)\n",
    "    maxdist = 0\n",
    "    for pt, d in scannerposdistances.items():\n",
    "        curr_max = max(d.values())\n",
    "        if curr_max > maxdist:\n",
    "            maxdist = curr_max\n",
    "    return num_unique, maxdist"
   ]
  },
  {
   "cell_type": "code",
   "execution_count": 32,
   "id": "e047ff89-b234-401b-80d2-fe24569cbd96",
   "metadata": {},
   "outputs": [
    {
     "name": "stdout",
     "output_type": "stream",
     "text": [
      "[0, 1, 2, 3, 4]\n"
     ]
    },
    {
     "data": {
      "text/plain": [
       "(79, 3621)"
      ]
     },
     "execution_count": 32,
     "metadata": {},
     "output_type": "execute_result"
    }
   ],
   "source": [
    "solve2(testlines)"
   ]
  },
  {
   "cell_type": "code",
   "execution_count": 33,
   "id": "8d6ac9f5-3117-41c9-9fe6-593139531f15",
   "metadata": {},
   "outputs": [
    {
     "name": "stdout",
     "output_type": "stream",
     "text": [
      "[0, 1, 2, 3, 4, 5, 6, 7, 8, 9, 10, 11, 12, 13, 14, 15, 16, 17, 18, 19, 20, 21, 22, 23, 24, 25, 26, 27, 28, 29, 30, 31, 32, 33, 34, 35, 36, 37]\n"
     ]
    },
    {
     "data": {
      "text/plain": [
       "(454, 10813)"
      ]
     },
     "execution_count": 33,
     "metadata": {},
     "output_type": "execute_result"
    }
   ],
   "source": [
    "solve2(puzzlelines)"
   ]
  },
  {
   "cell_type": "code",
   "execution_count": null,
   "id": "dfd66745-07de-477a-94a0-4f4cb97eae0b",
   "metadata": {},
   "outputs": [],
   "source": []
  }
 ],
 "metadata": {
  "kernelspec": {
   "display_name": "Python 3 (ipykernel)",
   "language": "python",
   "name": "python3"
  },
  "language_info": {
   "codemirror_mode": {
    "name": "ipython",
    "version": 3
   },
   "file_extension": ".py",
   "mimetype": "text/x-python",
   "name": "python",
   "nbconvert_exporter": "python",
   "pygments_lexer": "ipython3",
   "version": "3.7.3"
  }
 },
 "nbformat": 4,
 "nbformat_minor": 5
}
