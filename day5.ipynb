{
 "cells": [
  {
   "cell_type": "markdown",
   "id": "cc82b2ba-0030-48fe-8cbf-ac6c899fe1f4",
   "metadata": {},
   "source": [
    "## part 1 ##"
   ]
  },
  {
   "cell_type": "code",
   "execution_count": 1,
   "id": "c25aca68-6087-4534-90cf-b4b953f1d01e",
   "metadata": {},
   "outputs": [],
   "source": [
    "import numpy as np"
   ]
  },
  {
   "cell_type": "code",
   "execution_count": 2,
   "id": "e6322c7f-dea1-4dc2-ae6a-906cb0b7137c",
   "metadata": {},
   "outputs": [],
   "source": [
    "testlines = '''0,9 -> 5,9\n",
    "8,0 -> 0,8\n",
    "9,4 -> 3,4\n",
    "2,2 -> 2,1\n",
    "7,0 -> 7,4\n",
    "6,4 -> 2,0\n",
    "0,9 -> 2,9\n",
    "3,4 -> 1,4\n",
    "0,0 -> 8,8\n",
    "5,5 -> 8,2\n",
    "'''.split('\\n')"
   ]
  },
  {
   "cell_type": "code",
   "execution_count": 3,
   "id": "6910a59c-de40-4c62-bfbd-ae0167795a28",
   "metadata": {},
   "outputs": [],
   "source": [
    "with open('day5.txt') as fp:\n",
    "    puzzlelines = fp.readlines()"
   ]
  },
  {
   "cell_type": "code",
   "execution_count": 4,
   "id": "f1c0a880-1672-4103-b147-755bb00f91fb",
   "metadata": {},
   "outputs": [
    {
     "data": {
      "text/plain": [
       "['8,0 ', ' 0,8']"
      ]
     },
     "execution_count": 4,
     "metadata": {},
     "output_type": "execute_result"
    }
   ],
   "source": [
    "'8,0 -> 0,8'.split('->')"
   ]
  },
  {
   "cell_type": "code",
   "execution_count": 5,
   "id": "5d353d2c-2d2d-435f-ae33-38e24efc9a8e",
   "metadata": {},
   "outputs": [],
   "source": [
    "def parse(lines):\n",
    "    vents = []\n",
    "    xmax = 0\n",
    "    ymax = 0\n",
    "    for line in lines:\n",
    "        if not line:\n",
    "            continue\n",
    "        beg, end = line.split('->')\n",
    "        x0, y0 = [int(s) for s in beg.split(',')]\n",
    "        x1, y1 = [int(s) for s in end.split(',')]\n",
    "        vents.append((x0, y0, x1, y1))\n",
    "        if (x0 > xmax) or (x1 > xmax):\n",
    "            xmax = max(x0, x1)\n",
    "        if (y0 > ymax) or (y1 > ymax):\n",
    "            ymax = max(y0, y1)\n",
    "    return vents, xmax, ymax"
   ]
  },
  {
   "cell_type": "code",
   "execution_count": 6,
   "id": "b7468cb8-7314-48e4-b18e-226989dfa676",
   "metadata": {},
   "outputs": [],
   "source": [
    "def ventmap(vents, xmax, ymax):\n",
    "    diag = np.zeros((xmax+1, ymax+1), int)\n",
    "    for ventline in vents:\n",
    "        x0, y0, x1, y1 = ventline\n",
    "        if x0 == x1:\n",
    "            # vertical line\n",
    "            diag[x0,min(y0,y1):max(y0,y1)+1] += 1\n",
    "        elif y0 == y1:\n",
    "            # horizontal line\n",
    "            diag[min(x0,x1):max(x0,x1)+1,y0] += 1\n",
    "        else:\n",
    "            continue\n",
    "    return diag"
   ]
  },
  {
   "cell_type": "code",
   "execution_count": 7,
   "id": "f333c8a3-4eb8-4060-89cd-9c66bc32bb3a",
   "metadata": {},
   "outputs": [],
   "source": [
    "testvents, testx, testy = parse(testlines)"
   ]
  },
  {
   "cell_type": "code",
   "execution_count": 8,
   "id": "e9583856-117d-4771-a4dd-d36817532c46",
   "metadata": {},
   "outputs": [
    {
     "data": {
      "text/plain": [
       "5"
      ]
     },
     "execution_count": 8,
     "metadata": {},
     "output_type": "execute_result"
    }
   ],
   "source": [
    "testdiag = ventmap(testvents, testx, testy)\n",
    "sum(1 for i in np.nditer(testdiag) if i > 1)"
   ]
  },
  {
   "cell_type": "code",
   "execution_count": 9,
   "id": "8ee8bd47-75eb-4725-ae91-451468ba7655",
   "metadata": {},
   "outputs": [],
   "source": [
    "puzzlevents, puzzlex, puzzley = parse(puzzlelines)"
   ]
  },
  {
   "cell_type": "code",
   "execution_count": 10,
   "id": "8d45f84b-bc0e-46cc-a5be-553a1281e0bc",
   "metadata": {},
   "outputs": [],
   "source": [
    "puzzlediag = ventmap(puzzlevents, puzzlex, puzzley)"
   ]
  },
  {
   "cell_type": "code",
   "execution_count": 11,
   "id": "6d279bac-00af-4cbc-a315-9d1a2700f4a7",
   "metadata": {},
   "outputs": [
    {
     "data": {
      "text/plain": [
       "5306"
      ]
     },
     "execution_count": 11,
     "metadata": {},
     "output_type": "execute_result"
    }
   ],
   "source": [
    "sum(1 for i in np.nditer(puzzlediag) if i > 1)"
   ]
  },
  {
   "cell_type": "markdown",
   "id": "6ea01805-6476-4849-ad7d-f139a526fcc8",
   "metadata": {},
   "source": [
    "## part 2 ##"
   ]
  },
  {
   "cell_type": "code",
   "execution_count": 12,
   "id": "042baffd-3bb2-491f-a704-98cbe10d7bda",
   "metadata": {},
   "outputs": [],
   "source": [
    "def ventmap2(vents, xmax, ymax):\n",
    "    diag = np.zeros((xmax+1, ymax+1), int)\n",
    "    for ventline in vents:\n",
    "        x0, y0, x1, y1 = ventline\n",
    "        if x0 == x1:\n",
    "            # vertical line\n",
    "            diag[x0,min(y0,y1):max(y0,y1)+1] += 1\n",
    "        elif y0 == y1:\n",
    "            # horizontal line\n",
    "            diag[min(x0,x1):max(x0,x1)+1,y0] += 1\n",
    "        else:\n",
    "            sgnx = +1\n",
    "            sgny = +1\n",
    "            delx = x1 - x0\n",
    "            if delx < 0:\n",
    "                sgnx = -1\n",
    "            dely = y1 - y0\n",
    "            if dely < 0:\n",
    "                sgny = -1\n",
    "            for i in range(abs(delx)+1):\n",
    "                diag[x0+i*sgnx,y0+i*sgny] += 1\n",
    "    return diag"
   ]
  },
  {
   "cell_type": "code",
   "execution_count": 13,
   "id": "7a93b98d-cec3-4b2b-84ed-64f346223a2f",
   "metadata": {},
   "outputs": [],
   "source": [
    "testdiag = ventmap2(testvents, testx, testy)"
   ]
  },
  {
   "cell_type": "code",
   "execution_count": 14,
   "id": "428d62b0-f12d-4b13-a325-dcd80ee033bf",
   "metadata": {},
   "outputs": [
    {
     "data": {
      "text/plain": [
       "12"
      ]
     },
     "execution_count": 14,
     "metadata": {},
     "output_type": "execute_result"
    }
   ],
   "source": [
    "sum(1 for i in np.nditer(testdiag) if i >  1)"
   ]
  },
  {
   "cell_type": "code",
   "execution_count": 15,
   "id": "59672999-d09e-4eed-88cd-fdd8e626fc32",
   "metadata": {},
   "outputs": [],
   "source": [
    "puzzlediag = ventmap2(puzzlevents, puzzlex, puzzley)"
   ]
  },
  {
   "cell_type": "code",
   "execution_count": 16,
   "id": "1a0d3611-849a-486e-8b3f-3ef17ce6f683",
   "metadata": {},
   "outputs": [
    {
     "data": {
      "text/plain": [
       "17787"
      ]
     },
     "execution_count": 16,
     "metadata": {},
     "output_type": "execute_result"
    }
   ],
   "source": [
    "sum(1 for i in np.nditer(puzzlediag) if i > 1)"
   ]
  },
  {
   "cell_type": "code",
   "execution_count": null,
   "id": "65c7a664-07d6-4976-8903-a0992e0438f9",
   "metadata": {},
   "outputs": [],
   "source": []
  }
 ],
 "metadata": {
  "kernelspec": {
   "display_name": "Python 3",
   "language": "python",
   "name": "python3"
  },
  "language_info": {
   "codemirror_mode": {
    "name": "ipython",
    "version": 3
   },
   "file_extension": ".py",
   "mimetype": "text/x-python",
   "name": "python",
   "nbconvert_exporter": "python",
   "pygments_lexer": "ipython3",
   "version": "3.9.9"
  }
 },
 "nbformat": 4,
 "nbformat_minor": 5
}
