{
 "cells": [
  {
   "cell_type": "markdown",
   "id": "de17505c-2d85-4da0-b236-f5269d5b426c",
   "metadata": {},
   "source": [
    "## part 1 ##"
   ]
  },
  {
   "cell_type": "code",
   "execution_count": 1,
   "id": "bf6243ae-e551-40a9-9ef7-8e3078dd55b4",
   "metadata": {},
   "outputs": [],
   "source": [
    "import numpy as np"
   ]
  },
  {
   "cell_type": "code",
   "execution_count": 2,
   "id": "a1ebfaaf-fc55-4734-9a5b-91e7d6370a56",
   "metadata": {},
   "outputs": [],
   "source": [
    "testdata = np.array([16,1,2,0,4,2,7,1,2,14], int)"
   ]
  },
  {
   "cell_type": "code",
   "execution_count": 3,
   "id": "89cca342-b4da-42d2-8d5c-9ed94bad3c02",
   "metadata": {},
   "outputs": [],
   "source": [
    "with open('day7.txt') as fp:\n",
    "    puzzledata = np.array([int(s) for s in fp.read().split(',')], int)"
   ]
  },
  {
   "cell_type": "code",
   "execution_count": 4,
   "id": "25783dc2-a4f3-4e9c-8d60-bb86d719f8ce",
   "metadata": {},
   "outputs": [
    {
     "data": {
      "text/plain": [
       "(0, 1910)"
      ]
     },
     "execution_count": 4,
     "metadata": {},
     "output_type": "execute_result"
    }
   ],
   "source": [
    "min(puzzledata), max(puzzledata)"
   ]
  },
  {
   "cell_type": "code",
   "execution_count": 5,
   "id": "2a2dd10f-e9c0-4d6e-8f63-0e7be45a9bf0",
   "metadata": {},
   "outputs": [],
   "source": [
    "def align(data):\n",
    "    minpos = data.min()\n",
    "    maxpos = data.max()\n",
    "    pos = maxpos\n",
    "    minfuel = sum(np.abs(data - maxpos))\n",
    "    for i in range(minpos, maxpos):\n",
    "        fuel = sum(np.abs(data - i))\n",
    "        if fuel < minfuel:\n",
    "            pos = i\n",
    "            minfuel = fuel\n",
    "    return pos, minfuel\n",
    "    "
   ]
  },
  {
   "cell_type": "code",
   "execution_count": 6,
   "id": "2306d767-c7c7-42f3-a36b-62e8cfdf9e5c",
   "metadata": {},
   "outputs": [
    {
     "data": {
      "text/plain": [
       "(2, 37)"
      ]
     },
     "execution_count": 6,
     "metadata": {},
     "output_type": "execute_result"
    }
   ],
   "source": [
    "align(testdata)"
   ]
  },
  {
   "cell_type": "code",
   "execution_count": 7,
   "id": "5faceb4d-3954-4a7e-b0a4-b9e4d5969e55",
   "metadata": {},
   "outputs": [
    {
     "data": {
      "text/plain": [
       "(313, 335271)"
      ]
     },
     "execution_count": 7,
     "metadata": {},
     "output_type": "execute_result"
    }
   ],
   "source": [
    "align(puzzledata)"
   ]
  },
  {
   "cell_type": "markdown",
   "id": "69c00a45-41c8-4d63-8298-780159d882f8",
   "metadata": {},
   "source": [
    "## part 2 ##"
   ]
  },
  {
   "cell_type": "code",
   "execution_count": 8,
   "id": "1173355b-c4bf-49d3-b1db-dc093e0dd70c",
   "metadata": {},
   "outputs": [],
   "source": [
    "def cost(steps):\n",
    "    return steps*(steps+1)/2"
   ]
  },
  {
   "cell_type": "code",
   "execution_count": 9,
   "id": "a46fd5f9-5a5c-4831-a0ff-437be370c0d2",
   "metadata": {},
   "outputs": [
    {
     "data": {
      "text/plain": [
       "[0.0, 1.0, 3.0, 6.0, 10.0]"
      ]
     },
     "execution_count": 9,
     "metadata": {},
     "output_type": "execute_result"
    }
   ],
   "source": [
    "list(map(cost, range(5)))"
   ]
  },
  {
   "cell_type": "code",
   "execution_count": 10,
   "id": "fd41b304-ac86-4730-ae18-f5bf2c2e388b",
   "metadata": {},
   "outputs": [],
   "source": [
    "def align2(data):\n",
    "    minpos = data.min()\n",
    "    maxpos = data.max()\n",
    "    pos = maxpos\n",
    "    minfuel = sum(map(cost, np.abs(data - maxpos)))\n",
    "    for i in range(minpos, maxpos):\n",
    "        fuel = sum(map(cost, np.abs(data - i)))\n",
    "        if fuel < minfuel:\n",
    "            pos = i\n",
    "            minfuel = fuel\n",
    "    return pos, minfuel"
   ]
  },
  {
   "cell_type": "code",
   "execution_count": 11,
   "id": "816f2b26-8895-4f60-9079-60b078ab858f",
   "metadata": {},
   "outputs": [
    {
     "data": {
      "text/plain": [
       "(5, 168.0)"
      ]
     },
     "execution_count": 11,
     "metadata": {},
     "output_type": "execute_result"
    }
   ],
   "source": [
    "align2(testdata)"
   ]
  },
  {
   "cell_type": "code",
   "execution_count": 12,
   "id": "937e8b82-e94f-425e-a88d-1a63a2007c9c",
   "metadata": {},
   "outputs": [
    {
     "data": {
      "text/plain": [
       "(461, 95851339.0)"
      ]
     },
     "execution_count": 12,
     "metadata": {},
     "output_type": "execute_result"
    }
   ],
   "source": [
    "align2(puzzledata)"
   ]
  },
  {
   "cell_type": "code",
   "execution_count": null,
   "id": "63a4d4c0-10eb-4547-a6a6-d683980f5b74",
   "metadata": {},
   "outputs": [],
   "source": []
  }
 ],
 "metadata": {
  "kernelspec": {
   "display_name": "Python 3",
   "language": "python",
   "name": "python3"
  },
  "language_info": {
   "codemirror_mode": {
    "name": "ipython",
    "version": 3
   },
   "file_extension": ".py",
   "mimetype": "text/x-python",
   "name": "python",
   "nbconvert_exporter": "python",
   "pygments_lexer": "ipython3",
   "version": "3.9.9"
  }
 },
 "nbformat": 4,
 "nbformat_minor": 5
}
