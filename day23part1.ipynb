{
 "cells": [
  {
   "cell_type": "code",
   "execution_count": 1,
   "id": "55488ab7-c330-4b73-81e5-adddc5d1ca00",
   "metadata": {},
   "outputs": [],
   "source": [
    "import itertools\n",
    "import collections\n",
    "import copy\n",
    "from functools import cache"
   ]
  },
  {
   "cell_type": "code",
   "execution_count": 2,
   "id": "dea27f94-6c4b-4ca9-a7fd-80746b6646be",
   "metadata": {},
   "outputs": [],
   "source": [
    "# from https://bradfieldcs.com/algos/graphs/dijkstras-algorithm/\n",
    "import heapq\n",
    "\n",
    "\n",
    "def calculate_distances(graph, starting_vertex):\n",
    "    distances = {vertex: float('infinity') for vertex in graph}\n",
    "    distances[starting_vertex] = 0\n",
    "\n",
    "    pq = [(0, starting_vertex)]\n",
    "    while len(pq) > 0:\n",
    "        current_distance, current_vertex = heapq.heappop(pq)\n",
    "\n",
    "        # Nodes can get added to the priority queue multiple times. We only\n",
    "        # process a vertex the first time we remove it from the priority queue.\n",
    "        if current_distance > distances[current_vertex]:\n",
    "            continue\n",
    "\n",
    "        for neighbor, weight in graph[current_vertex].items():\n",
    "            distance = current_distance + weight\n",
    "\n",
    "            # Only consider this new path if it's better than any path we've\n",
    "            # already found.\n",
    "            if distance < distances[neighbor]:\n",
    "                distances[neighbor] = distance\n",
    "                heapq.heappush(pq, (distance, neighbor))\n",
    "\n",
    "    return distances"
   ]
  },
  {
   "cell_type": "markdown",
   "id": "ac2ac368-f0ac-4c6d-88d4-c56567da71f7",
   "metadata": {},
   "source": [
    "## part 1 ##"
   ]
  },
  {
   "cell_type": "markdown",
   "id": "33b30119-034d-4ba8-808f-72e11fff09cd",
   "metadata": {},
   "source": [
    "    e---f---g---h---i---j---k (hallway)\n",
    "         \\ / \\ / \\ / \\ / \n",
    "          a1  b1  c1  d1 (rooms)\n",
    "          |   |   |   |\n",
    "          a0  bO  cO  dO\n",
    "\n",
    "Weights are 1 for e-f, j-k, a0-a1, b0-b1, c0-c1, and d0-d1, and 2 for all others.\n",
    "The weights of 2 make it so we don't have to have rules about not stopping on a hallway \n",
    "space above one of the rooms."
   ]
  },
  {
   "cell_type": "code",
   "execution_count": 3,
   "id": "65a9b8ba-1d04-45db-bd5b-7e4f6eca26bb",
   "metadata": {},
   "outputs": [],
   "source": [
    "graph = {'a0': {'a1': 1},\n",
    "         'b0': {'b1': 1},\n",
    "         'c0': {'c1': 1},\n",
    "         'd0': {'d1': 1},\n",
    "         'a1': {'a0': 1, 'f': 2, 'g': 2},\n",
    "         'b1': {'b0': 1, 'g': 2, 'h': 2},\n",
    "         'c1': {'c0': 1, 'h': 2, 'i': 2},\n",
    "         'd1': {'d0': 1, 'i': 2, 'j': 2},\n",
    "         'e': {'f': 1},\n",
    "         'f': {'e': 1, 'a1': 2, 'g': 2},\n",
    "         'g': {'f': 2, 'h': 2, 'a1': 2, 'b1': 2},\n",
    "         'h': {'g': 2, 'i': 2, 'b1': 2, 'c1': 2},\n",
    "         'i': {'h': 2, 'j': 2, 'c1': 2, 'd1': 2},\n",
    "         'j': {'i': 2, 'k': 1, 'd1': 2},\n",
    "         'k': {'j': 1},\n",
    "        }\n",
    "nodes = graph.keys()\n",
    "nodeidx = {val:i for i,val in enumerate(nodes)}\n",
    "hallway = ['e', 'f', 'g', 'h', 'i', 'j', 'k']\n",
    "rooms  = [''.join(p) for p in itertools.product('abcd','01')]\n",
    "move_cost = {'A': 1, 'B': 10, 'C': 100, 'D': 1000}"
   ]
  },
  {
   "cell_type": "code",
   "execution_count": 4,
   "id": "96998511-7184-45a1-986d-9f8af7855484",
   "metadata": {},
   "outputs": [],
   "source": [
    "example_start = {'a1': 'B', 'b1': 'C', 'c1': 'B', 'd1': 'D',\n",
    "                 'a0': 'A', 'b0': 'D', 'c0': 'C', 'd0': 'A'}\n",
    "puzzle_start =  {'a1': 'D', 'b1': 'B', 'c1': 'C', 'd1': 'A',\n",
    "                 'a0': 'C', 'b0': 'A', 'c0': 'D', 'd0': 'B'}\n",
    "Positions = collections.namedtuple('Positions', nodes)\n",
    "for node in hallway:\n",
    "    example_start[node] = None\n",
    "    puzzle_start[node] = None\n",
    "example_init = Positions(*[example_start[node] for node in nodes])\n",
    "puzzle_init = Positions(*[puzzle_start[node] for node in nodes])"
   ]
  },
  {
   "cell_type": "code",
   "execution_count": 5,
   "id": "4249b4ab-8537-43f3-9b80-ba15afa6d811",
   "metadata": {},
   "outputs": [
    {
     "data": {
      "text/plain": [
       "Positions(a0='A', b0='D', c0='C', d0='A', a1='B', b1='C', c1='B', d1='D', e=None, f=None, g=None, h=None, i=None, j=None, k=None)"
      ]
     },
     "execution_count": 5,
     "metadata": {},
     "output_type": "execute_result"
    }
   ],
   "source": [
    "example_init"
   ]
  },
  {
   "cell_type": "code",
   "execution_count": 6,
   "id": "7c615ed6-7a0a-47d8-949a-77ea5df9e5bc",
   "metadata": {},
   "outputs": [],
   "source": [
    "def is_finished(pos):\n",
    "    for node in rooms:\n",
    "        col = node[0]\n",
    "        val = pos[nodeidx[node]]\n",
    "        if (val is None) or (val.lower() != col):\n",
    "            return False\n",
    "    return True"
   ]
  },
  {
   "cell_type": "code",
   "execution_count": 7,
   "id": "4710d69d-9d86-46f9-ab76-a52267c5f914",
   "metadata": {},
   "outputs": [
    {
     "data": {
      "text/plain": [
       "(True, False, False)"
      ]
     },
     "execution_count": 7,
     "metadata": {},
     "output_type": "execute_result"
    }
   ],
   "source": [
    "finished_ex = Positions(*itertools.chain(*itertools.repeat('ABCD', 2), itertools.repeat(None, len(hallway))))\n",
    "is_finished(finished_ex), is_finished(example_init), is_finished(puzzle_init)"
   ]
  },
  {
   "cell_type": "code",
   "execution_count": 8,
   "id": "62cc715f-358f-4458-b062-0f3cab4fe3a0",
   "metadata": {},
   "outputs": [],
   "source": [
    "def find_valid_rooms(pos):\n",
    "    valid = []\n",
    "    for col in 'abcd':\n",
    "        empty = None\n",
    "        for row in reversed(range(2)):\n",
    "            loc = f'{col}{row}'\n",
    "            val = pos[nodeidx[loc]]\n",
    "            if val is None:\n",
    "                empty = row\n",
    "        if empty == 0:\n",
    "            valid.append(f'{col}{empty}')\n",
    "            continue\n",
    "        if empty is None:\n",
    "            continue\n",
    "        if all(pos[nodeidx[f'{col}{row}']].lower() == col for row in reversed(range(empty))):\n",
    "            valid.append(f'{col}{empty}')\n",
    "    return valid"
   ]
  },
  {
   "cell_type": "code",
   "execution_count": 9,
   "id": "71a8cbcb-c1bc-44a2-93e6-4c2ba6b71a12",
   "metadata": {},
   "outputs": [],
   "source": [
    "valid_test = Positions(a0='B', b0='B', c0='C', d0=None, a1=None, b1='B', c1=None, d1=None, e=None, f=None, g=None, h=None, i=None, j=None, k=None)"
   ]
  },
  {
   "cell_type": "code",
   "execution_count": 10,
   "id": "754a1113-e8a4-4881-8af4-14521e0e540f",
   "metadata": {},
   "outputs": [
    {
     "data": {
      "text/plain": [
       "(['c1', 'd0'], [])"
      ]
     },
     "execution_count": 10,
     "metadata": {},
     "output_type": "execute_result"
    }
   ],
   "source": [
    "find_valid_rooms(valid_test), find_valid_rooms(example_init)"
   ]
  },
  {
   "cell_type": "code",
   "execution_count": 11,
   "id": "0a833efc-b231-4e65-be70-4c12df4fb064",
   "metadata": {},
   "outputs": [],
   "source": [
    "@cache\n",
    "def find_topmost_moveable(pos):\n",
    "    can_move = []\n",
    "    for col in 'abcd':\n",
    "        for row in reversed(range(2)):\n",
    "            loc = f'{col}{row}'\n",
    "            val = pos[nodeidx[loc]]\n",
    "            if val:\n",
    "                if any(pos[nodeidx[f'{col}{r}']].lower() != col for r in reversed(range(row+1))):\n",
    "                    can_move.append(loc)\n",
    "                break\n",
    "    return can_move"
   ]
  },
  {
   "cell_type": "code",
   "execution_count": 12,
   "id": "91cebb6c-6b9e-4bcb-9897-75439b058780",
   "metadata": {},
   "outputs": [
    {
     "data": {
      "text/plain": [
       "(['a0'], [], ['a1', 'b1', 'c1', 'd1'])"
      ]
     },
     "execution_count": 12,
     "metadata": {},
     "output_type": "execute_result"
    }
   ],
   "source": [
    "find_topmost_moveable(valid_test), find_topmost_moveable(finished_ex), find_topmost_moveable(example_init)"
   ]
  },
  {
   "cell_type": "code",
   "execution_count": 13,
   "id": "3e778790-821b-43c7-96f0-1c125446b454",
   "metadata": {},
   "outputs": [],
   "source": [
    "@cache\n",
    "def traversal_costs(pos, startnode):\n",
    "    newgraph = copy.deepcopy(graph)\n",
    "    for node in graph:\n",
    "        for endpt in graph[node]:\n",
    "            if pos[nodeidx[endpt]] is not None:\n",
    "                newgraph[node][endpt] = float('infinity')\n",
    "    return calculate_distances(newgraph, startnode)"
   ]
  },
  {
   "cell_type": "code",
   "execution_count": 14,
   "id": "5acbfa23-deb4-49f8-8890-cde2abb34fba",
   "metadata": {},
   "outputs": [],
   "source": [
    "def allowed_moves(pos, currcost):\n",
    "    topmost = find_topmost_moveable(pos)\n",
    "    hallway_occ = [node for node in hallway if pos[nodeidx[node]] is not None]\n",
    "    # see if anything can move into it's final position\n",
    "    end_rooms = find_valid_rooms(pos)\n",
    "    for end_room in end_rooms:\n",
    "        col = end_room[0]\n",
    "        for loc in (topmost + hallway_occ):\n",
    "            val = pos[nodeidx[loc]]\n",
    "            home_col = val.lower()\n",
    "            if home_col != col:\n",
    "                continue\n",
    "            tcosts = traversal_costs(pos, loc)\n",
    "            tcost = tcosts[end_room]\n",
    "            if tcost < float('infinity'):\n",
    "                # can move to home room\n",
    "                newpos = list(pos)\n",
    "                newpos[nodeidx[end_room]] = val\n",
    "                newpos[nodeidx[loc]] = None\n",
    "                cost = tcost*move_cost[val] + currcost\n",
    "                yield Positions(*newpos), cost\n",
    "                # don't generate any other alternatives, just do this move\n",
    "                return\n",
    "    # no moves to home, so generate all possible moves from the rooms into the hallway\n",
    "    hallway_empty = [node for node in hallway if pos[nodeidx[node]] is None]\n",
    "    for toprm, hall in itertools.product(topmost, hallway_empty):\n",
    "        tcosts = traversal_costs(pos, toprm)\n",
    "        tcost = tcosts[hall]\n",
    "        if tcost < float('infinity'):\n",
    "            # can make the move\n",
    "            val = pos[nodeidx[toprm]]\n",
    "            newpos = list(pos)\n",
    "            newpos[nodeidx[hall]] = val\n",
    "            newpos[nodeidx[toprm]] = None\n",
    "            cost = tcost*move_cost[val] + currcost\n",
    "            yield Positions(*newpos), cost"
   ]
  },
  {
   "cell_type": "code",
   "execution_count": 15,
   "id": "c51730fa-aed4-4ab7-b920-eb3a6d53a600",
   "metadata": {},
   "outputs": [],
   "source": [
    "def solve(startpos):\n",
    "    curr_costs = {startpos: 0}\n",
    "    curr_positions = [startpos]\n",
    "    finished_costs = []\n",
    "    while curr_positions:\n",
    "        new_positions = set()\n",
    "        for pos in curr_positions:\n",
    "            currcost = curr_costs[pos]\n",
    "            for allowedpos, cost in allowed_moves(pos, currcost):\n",
    "                if is_finished(allowedpos):\n",
    "                    finished_costs.append(cost)\n",
    "                    continue\n",
    "                if allowedpos in curr_costs:\n",
    "                    if cost < curr_costs[allowedpos]:\n",
    "                        curr_costs[allowedpos] = cost\n",
    "                        new_positions.add(allowedpos)\n",
    "                else:\n",
    "                    curr_costs[allowedpos] = cost\n",
    "                    new_positions.add(allowedpos)\n",
    "        curr_positions = new_positions\n",
    "        print(len(curr_positions))\n",
    "    print('min cost = ', min(finished_costs))"
   ]
  },
  {
   "cell_type": "code",
   "execution_count": 16,
   "id": "08cbe740-f848-41a5-aa09-a60687f8e326",
   "metadata": {},
   "outputs": [
    {
     "name": "stdout",
     "output_type": "stream",
     "text": [
      "28\n",
      "279\n",
      "1124\n",
      "2222\n",
      "2273\n",
      "1493\n",
      "815\n",
      "256\n",
      "33\n",
      "1\n",
      "0\n",
      "min cost =  12521\n"
     ]
    }
   ],
   "source": [
    "solve(example_init)"
   ]
  },
  {
   "cell_type": "code",
   "execution_count": 17,
   "id": "b0ddccdb-114e-4293-9661-2c5ed7a13d52",
   "metadata": {},
   "outputs": [
    {
     "name": "stdout",
     "output_type": "stream",
     "text": [
      "28\n",
      "375\n",
      "2250\n",
      "7020\n",
      "11512\n",
      "11068\n",
      "8166\n",
      "5143\n",
      "2782\n",
      "1439\n",
      "521\n",
      "75\n",
      "7\n",
      "0\n",
      "min cost =  15338\n"
     ]
    }
   ],
   "source": [
    "solve(puzzle_init)"
   ]
  },
  {
   "cell_type": "code",
   "execution_count": null,
   "id": "0026c816-5647-4761-8322-0639183ee90d",
   "metadata": {},
   "outputs": [],
   "source": []
  }
 ],
 "metadata": {
  "kernelspec": {
   "display_name": "Python 3",
   "language": "python",
   "name": "python3"
  },
  "language_info": {
   "codemirror_mode": {
    "name": "ipython",
    "version": 3
   },
   "file_extension": ".py",
   "mimetype": "text/x-python",
   "name": "python",
   "nbconvert_exporter": "python",
   "pygments_lexer": "ipython3",
   "version": "3.9.9"
  }
 },
 "nbformat": 4,
 "nbformat_minor": 5
}
