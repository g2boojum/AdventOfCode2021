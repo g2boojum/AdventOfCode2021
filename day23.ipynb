{
 "cells": [
  {
   "cell_type": "code",
   "execution_count": 20,
   "id": "0a25685d-8665-46aa-a21b-d3b51986b8fc",
   "metadata": {},
   "outputs": [],
   "source": [
    "import itertools\n",
    "import collections\n",
    "import copy"
   ]
  },
  {
   "cell_type": "code",
   "execution_count": 18,
   "id": "1bc20a74-eca2-4aad-9a25-4a9d58fc4c87",
   "metadata": {},
   "outputs": [],
   "source": [
    "graph = {'a0': {'a1': 1},\n",
    "         'b0': {'b1': 1},\n",
    "         'c0': {'c1': 1},\n",
    "         'd0': {'d1': 1},\n",
    "         'a1': {'a0': 1, 'f': 2, 'g': 2},\n",
    "         'b1': {'b0': 1, 'g': 2, 'h': 2},\n",
    "         'c1': {'c0': 1, 'h': 2, 'i': 2},\n",
    "         'd1': {'d0': 1, 'i': 2, 'j': 2},\n",
    "         'e': {'f': 1},\n",
    "         'f': {'e': 1, 'a1': 2, 'g': 2},\n",
    "         'g': {'f': 2, 'h': 2, 'a1': 2, 'b1': 2},\n",
    "         'h': {'g': 2, 'i': 2, 'b1': 2, 'c1': 2},\n",
    "         'i': {'h': 2, 'j': 2, 'c1': 2, 'd1': 2},\n",
    "         'j': {'i': 2, 'k': 1, 'd1': 2},\n",
    "         'k': {'j': 1},\n",
    "        }\n",
    "hallway = ['e', 'f', 'g', 'h', 'i', 'j', 'k']\n",
    "rooms = ['a0', 'a1', 'b0', 'b1', 'c0', 'c1', 'd0', 'd1']"
   ]
  },
  {
   "cell_type": "code",
   "execution_count": 27,
   "id": "9ca912a4-2099-4f8e-bec2-f69270e4c7d5",
   "metadata": {},
   "outputs": [],
   "source": [
    "example_start = {'B0': 'a1', 'C1': 'b1', 'B1': 'c1', 'D1': 'd1',\n",
    "                 'A0': 'a0', 'D0': 'b0', 'C0': 'c0', 'A1': 'd0'}"
   ]
  },
  {
   "cell_type": "code",
   "execution_count": 5,
   "id": "43d527f8-6955-4c9b-9cbf-be0f3efd84fa",
   "metadata": {},
   "outputs": [],
   "source": [
    "puzzle_start = {'D1': 'a1', 'B1': 'b1', 'C1': 'c1', 'A1': 'd1',\n",
    "                'C0': 'a0', 'A0': 'b0', 'D0': 'c0', 'B0': 'd0'}"
   ]
  },
  {
   "cell_type": "code",
   "execution_count": 14,
   "id": "e49f06ce-e4f6-4cbb-80c4-b56a22dc9754",
   "metadata": {},
   "outputs": [],
   "source": [
    "# from https://bradfieldcs.com/algos/graphs/dijkstras-algorithm/\n",
    "import heapq\n",
    "\n",
    "\n",
    "def calculate_distances(graph, starting_vertex):\n",
    "    distances = {vertex: float('infinity') for vertex in graph}\n",
    "    distances[starting_vertex] = 0\n",
    "\n",
    "    pq = [(0, starting_vertex)]\n",
    "    while len(pq) > 0:\n",
    "        current_distance, current_vertex = heapq.heappop(pq)\n",
    "\n",
    "        # Nodes can get added to the priority queue multiple times. We only\n",
    "        # process a vertex the first time we remove it from the priority queue.\n",
    "        if current_distance > distances[current_vertex]:\n",
    "            continue\n",
    "\n",
    "        for neighbor, weight in graph[current_vertex].items():\n",
    "            distance = current_distance + weight\n",
    "\n",
    "            # Only consider this new path if it's better than any path we've\n",
    "            # already found.\n",
    "            if distance < distances[neighbor]:\n",
    "                distances[neighbor] = distance\n",
    "                heapq.heappush(pq, (distance, neighbor))\n",
    "\n",
    "    return distances"
   ]
  },
  {
   "cell_type": "code",
   "execution_count": 19,
   "id": "8bd3d2fa-0cb1-4719-9edb-aac975627f0f",
   "metadata": {},
   "outputs": [
    {
     "data": {
      "text/plain": [
       "{'a0': 4,\n",
       " 'b0': 6,\n",
       " 'c0': 8,\n",
       " 'd0': 10,\n",
       " 'a1': 3,\n",
       " 'b1': 5,\n",
       " 'c1': 7,\n",
       " 'd1': 9,\n",
       " 'e': 0,\n",
       " 'f': 1,\n",
       " 'g': 3,\n",
       " 'h': 5,\n",
       " 'i': 7,\n",
       " 'j': 9,\n",
       " 'k': 10}"
      ]
     },
     "execution_count": 19,
     "metadata": {},
     "output_type": "execute_result"
    }
   ],
   "source": [
    "calculate_distances(graph, 'e')"
   ]
  },
  {
   "cell_type": "markdown",
   "id": "f0465023-cec4-42d9-bc2d-f44e9041b683",
   "metadata": {},
   "source": [
    "## part 1 ##"
   ]
  },
  {
   "cell_type": "code",
   "execution_count": 7,
   "id": "f491f809-6276-4107-851d-a7c86ac88d7d",
   "metadata": {},
   "outputs": [],
   "source": [
    "move_costs = {'A0': 1, 'A1': 1, 'B0': 10, 'B1': 10,\n",
    "              'C0': 100, 'C1': 100, 'D0': 1000, 'D1': 1000}"
   ]
  },
  {
   "cell_type": "code",
   "execution_count": 9,
   "id": "6c325ff0-c5c0-40e1-a4d2-5e73dbb11d70",
   "metadata": {},
   "outputs": [],
   "source": [
    "def is_done(positions):\n",
    "    return all(k[0].lower() == v[0] for k,v in positions.items())"
   ]
  },
  {
   "cell_type": "code",
   "execution_count": 11,
   "id": "c678d1e5-9631-4ab8-86b9-43a3412a0588",
   "metadata": {},
   "outputs": [
    {
     "data": {
      "text/plain": [
       "False"
      ]
     },
     "execution_count": 11,
     "metadata": {},
     "output_type": "execute_result"
    }
   ],
   "source": [
    "is_done(example_start)"
   ]
  },
  {
   "cell_type": "code",
   "execution_count": 12,
   "id": "2dd11cf7-2abb-422c-bf95-0ff476761749",
   "metadata": {},
   "outputs": [],
   "source": [
    "finished =      {'A1': 'a1', 'B0': 'b1', 'C1': 'c1', 'D1': 'd1',\n",
    "                 'A0': 'a0', 'B1': 'b0', 'C0': 'c0', 'D0': 'd0'}"
   ]
  },
  {
   "cell_type": "code",
   "execution_count": 13,
   "id": "d52a9e5c-23c8-40fe-a07c-bc7b40fa2db9",
   "metadata": {},
   "outputs": [
    {
     "data": {
      "text/plain": [
       "True"
      ]
     },
     "execution_count": 13,
     "metadata": {},
     "output_type": "execute_result"
    }
   ],
   "source": [
    "is_done(finished)"
   ]
  },
  {
   "cell_type": "code",
   "execution_count": 29,
   "id": "e3edb1ee-2e13-4078-8c1a-3f48d0ec68dc",
   "metadata": {},
   "outputs": [],
   "source": [
    "def update_with_positions(graph, positions):\n",
    "    newgraph = copy.deepcopy(graph)\n",
    "    occupied = positions.values()\n",
    "    print(occupied)\n",
    "    for vertex in graph:\n",
    "        for endpt in graph[vertex]:\n",
    "            if endpt in occupied:\n",
    "                newgraph[vertex][endpt] = float('infinity')\n",
    "    return newgraph"
   ]
  },
  {
   "cell_type": "code",
   "execution_count": 32,
   "id": "97a1649d-e349-40c0-9e29-082d470308c3",
   "metadata": {},
   "outputs": [
    {
     "name": "stdout",
     "output_type": "stream",
     "text": [
      "dict_values(['a1', 'b1', 'c1', 'd1', 'a0', 'b0', 'c0', 'd0'])\n"
     ]
    },
    {
     "data": {
      "text/plain": [
       "{'a0': 0,\n",
       " 'b0': inf,\n",
       " 'c0': inf,\n",
       " 'd0': inf,\n",
       " 'a1': inf,\n",
       " 'b1': inf,\n",
       " 'c1': inf,\n",
       " 'd1': inf,\n",
       " 'e': inf,\n",
       " 'f': inf,\n",
       " 'g': inf,\n",
       " 'h': inf,\n",
       " 'i': inf,\n",
       " 'j': inf,\n",
       " 'k': inf}"
      ]
     },
     "execution_count": 32,
     "metadata": {},
     "output_type": "execute_result"
    }
   ],
   "source": [
    "exstart = update_with_positions(graph, example_start)\n",
    "calculate_distances(exstart, 'a0')"
   ]
  },
  {
   "cell_type": "code",
   "execution_count": 33,
   "id": "d17f8527-c77b-483d-9893-2db348bf1f95",
   "metadata": {},
   "outputs": [
    {
     "data": {
      "text/plain": [
       "{'a0': inf,\n",
       " 'b0': inf,\n",
       " 'c0': inf,\n",
       " 'd0': inf,\n",
       " 'a1': 0,\n",
       " 'b1': inf,\n",
       " 'c1': inf,\n",
       " 'd1': inf,\n",
       " 'e': 3,\n",
       " 'f': 2,\n",
       " 'g': 2,\n",
       " 'h': 4,\n",
       " 'i': 6,\n",
       " 'j': 8,\n",
       " 'k': 9}"
      ]
     },
     "execution_count": 33,
     "metadata": {},
     "output_type": "execute_result"
    }
   ],
   "source": [
    "calculate_distances(exstart, 'a1')"
   ]
  },
  {
   "cell_type": "code",
   "execution_count": null,
   "id": "88e35c4c-c560-474b-8c64-19dbee32edf6",
   "metadata": {},
   "outputs": [],
   "source": []
  }
 ],
 "metadata": {
  "kernelspec": {
   "display_name": "Python 3",
   "language": "python",
   "name": "python3"
  },
  "language_info": {
   "codemirror_mode": {
    "name": "ipython",
    "version": 3
   },
   "file_extension": ".py",
   "mimetype": "text/x-python",
   "name": "python",
   "nbconvert_exporter": "python",
   "pygments_lexer": "ipython3",
   "version": "3.9.9"
  }
 },
 "nbformat": 4,
 "nbformat_minor": 5
}
