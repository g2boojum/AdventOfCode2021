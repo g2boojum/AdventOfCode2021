{
 "cells": [
  {
   "cell_type": "code",
   "execution_count": 1,
   "id": "0a25685d-8665-46aa-a21b-d3b51986b8fc",
   "metadata": {},
   "outputs": [],
   "source": [
    "import itertools\n",
    "import collections\n",
    "import copy"
   ]
  },
  {
   "cell_type": "markdown",
   "id": "bb171ef4-dd86-4af8-97ea-6531b7fea813",
   "metadata": {},
   "source": [
    "    e---f---g---h---i---j---k (hallway)\n",
    "         \\ / \\ / \\ / \\ / \n",
    "          a1  b1  c1  d1 (rooms)\n",
    "          |   |   |   |\n",
    "          a0  bO  cO  dO\n",
    "\n",
    "Weights are 1 for e-f, j-k, a0-a1, b0-b1, c0-c1, and d0-d1, and 2 for all others.\n",
    "The weights of 2 make it so we don't have to have rules about not stopping on a hallway \n",
    "space above one of the rooms."
   ]
  },
  {
   "cell_type": "code",
   "execution_count": 2,
   "id": "1bc20a74-eca2-4aad-9a25-4a9d58fc4c87",
   "metadata": {},
   "outputs": [],
   "source": [
    "graph = {'a0': {'a1': 1},\n",
    "         'b0': {'b1': 1},\n",
    "         'c0': {'c1': 1},\n",
    "         'd0': {'d1': 1},\n",
    "         'a1': {'a0': 1, 'f': 2, 'g': 2},\n",
    "         'b1': {'b0': 1, 'g': 2, 'h': 2},\n",
    "         'c1': {'c0': 1, 'h': 2, 'i': 2},\n",
    "         'd1': {'d0': 1, 'i': 2, 'j': 2},\n",
    "         'e': {'f': 1},\n",
    "         'f': {'e': 1, 'a1': 2, 'g': 2},\n",
    "         'g': {'f': 2, 'h': 2, 'a1': 2, 'b1': 2},\n",
    "         'h': {'g': 2, 'i': 2, 'b1': 2, 'c1': 2},\n",
    "         'i': {'h': 2, 'j': 2, 'c1': 2, 'd1': 2},\n",
    "         'j': {'i': 2, 'k': 1, 'd1': 2},\n",
    "         'k': {'j': 1},\n",
    "        }\n",
    "hallway = ['e', 'f', 'g', 'h', 'i', 'j', 'k']\n",
    "rooms = ['a0', 'a1', 'b0', 'b1', 'c0', 'c1', 'd0', 'd1']\n",
    "bottom_rooms = [room for room in rooms if '0' in room]\n",
    "top_rooms = [room for room in rooms if '1' in room]"
   ]
  },
  {
   "cell_type": "code",
   "execution_count": 3,
   "id": "9ca912a4-2099-4f8e-bec2-f69270e4c7d5",
   "metadata": {},
   "outputs": [],
   "source": [
    "example_start = {'B0': 'a1', 'C1': 'b1', 'B1': 'c1', 'D1': 'd1',\n",
    "                 'A0': 'a0', 'D0': 'b0', 'C0': 'c0', 'A1': 'd0'}"
   ]
  },
  {
   "cell_type": "code",
   "execution_count": 4,
   "id": "43d527f8-6955-4c9b-9cbf-be0f3efd84fa",
   "metadata": {},
   "outputs": [],
   "source": [
    "puzzle_start = {'D1': 'a1', 'B1': 'b1', 'C1': 'c1', 'A1': 'd1',\n",
    "                'C0': 'a0', 'A0': 'b0', 'D0': 'c0', 'B0': 'd0'}"
   ]
  },
  {
   "cell_type": "code",
   "execution_count": 5,
   "id": "e49f06ce-e4f6-4cbb-80c4-b56a22dc9754",
   "metadata": {},
   "outputs": [],
   "source": [
    "# from https://bradfieldcs.com/algos/graphs/dijkstras-algorithm/\n",
    "import heapq\n",
    "\n",
    "\n",
    "def calculate_distances(graph, starting_vertex):\n",
    "    distances = {vertex: float('infinity') for vertex in graph}\n",
    "    distances[starting_vertex] = 0\n",
    "\n",
    "    pq = [(0, starting_vertex)]\n",
    "    while len(pq) > 0:\n",
    "        current_distance, current_vertex = heapq.heappop(pq)\n",
    "\n",
    "        # Nodes can get added to the priority queue multiple times. We only\n",
    "        # process a vertex the first time we remove it from the priority queue.\n",
    "        if current_distance > distances[current_vertex]:\n",
    "            continue\n",
    "\n",
    "        for neighbor, weight in graph[current_vertex].items():\n",
    "            distance = current_distance + weight\n",
    "\n",
    "            # Only consider this new path if it's better than any path we've\n",
    "            # already found.\n",
    "            if distance < distances[neighbor]:\n",
    "                distances[neighbor] = distance\n",
    "                heapq.heappush(pq, (distance, neighbor))\n",
    "\n",
    "    return distances"
   ]
  },
  {
   "cell_type": "markdown",
   "id": "f0465023-cec4-42d9-bc2d-f44e9041b683",
   "metadata": {},
   "source": [
    "## part 1 ##"
   ]
  },
  {
   "cell_type": "code",
   "execution_count": 7,
   "id": "f491f809-6276-4107-851d-a7c86ac88d7d",
   "metadata": {},
   "outputs": [],
   "source": [
    "move_costs = {'A0': 1, 'A1': 1, 'B0': 10, 'B1': 10,\n",
    "              'C0': 100, 'C1': 100, 'D0': 1000, 'D1': 1000}"
   ]
  },
  {
   "cell_type": "code",
   "execution_count": 8,
   "id": "6c325ff0-c5c0-40e1-a4d2-5e73dbb11d70",
   "metadata": {},
   "outputs": [],
   "source": [
    "def is_done(positions):\n",
    "    return all(k[0].lower() == v[0] for k,v in positions.items())"
   ]
  },
  {
   "cell_type": "code",
   "execution_count": 29,
   "id": "bbea8d0e-da8a-4ee4-beed-7a9c3e61efc1",
   "metadata": {},
   "outputs": [],
   "source": [
    "def not_in_place(positions):\n",
    "    occupied = {v:k for k,v in positions.items()}\n",
    "    in_place = []\n",
    "    for rm in bottom_rooms: \n",
    "        if rm in occupied:\n",
    "            if occupied[rm][0].lower() == rm[0]:\n",
    "                in_place.append(occupied[rm])\n",
    "                toprm = f'{rm[0]}1'\n",
    "                if toprm in occupied:\n",
    "                    if occupied[toprm][0].lower() == rm[0]:\n",
    "                        in_place.append(occupied[toprm])\n",
    "    return set(positions.keys()) - set(in_place)"
   ]
  },
  {
   "cell_type": "code",
   "execution_count": 12,
   "id": "e3edb1ee-2e13-4078-8c1a-3f48d0ec68dc",
   "metadata": {},
   "outputs": [],
   "source": [
    "def graph_with_positions(graph, positions):\n",
    "    newgraph = copy.deepcopy(graph)\n",
    "    occupied = positions.values()\n",
    "    for vertex in graph:\n",
    "        for endpt in graph[vertex]:\n",
    "            if endpt in occupied:\n",
    "                newgraph[vertex][endpt] = float('infinity')\n",
    "    return newgraph"
   ]
  },
  {
   "cell_type": "code",
   "execution_count": 108,
   "id": "88e35c4c-c560-474b-8c64-19dbee32edf6",
   "metadata": {},
   "outputs": [],
   "source": [
    "def allowed_movements(state, graph, max_cost=float('infinity')):\n",
    "    positions, prev_cost = state\n",
    "    if prev_cost > max_cost:\n",
    "        return\n",
    "    currgraph = graph_with_positions(graph, positions)\n",
    "    can_move = not_in_place(positions)\n",
    "    # If any amphipod can move to it's final spot, then that's the only move we want to make here\n",
    "    for k in can_move:\n",
    "        loc = positions[k]\n",
    "        typ = k[0]\n",
    "        if loc in hallway:\n",
    "            # must move to the correct room, or stay in place\n",
    "            dists = calculate_distances(currgraph, loc)\n",
    "            # is the correct bottom room available?\n",
    "            btm, top = f'{typ.lower()}0', f'{typ.lower()}1'\n",
    "            if dists[btm] < float('infinity'):\n",
    "                newpos = copy.deepcopy(positions)\n",
    "                newpos[k] = btm\n",
    "                cost = dists[btm]*move_costs[k] + prev_cost\n",
    "                if cost < max_cost:\n",
    "                    yield (newpos, cost)\n",
    "                return\n",
    "            # is the correct top room available?\n",
    "            if dists[top] < float('infinity'):\n",
    "                for kk, vv in positions.items():\n",
    "                    if vv == btm:\n",
    "                        btmtyp = kk[0]\n",
    "                if btmtyp == typ:\n",
    "                    # yes, it is\n",
    "                    newpos = copy.deepcopy(positions)\n",
    "                    newpos[k] = top\n",
    "                    cost = dists[top]*move_costs[k] + prev_cost\n",
    "                    if cost < max_cost:\n",
    "                        yield (newpos, cost)\n",
    "                    return\n",
    "        else:\n",
    "            # in a room, consider only direct moves to the correct room\n",
    "            btm, top = f'{typ.lower()}0', f'{typ.lower()}1'\n",
    "            dists = calculate_distances(currgraph, loc)\n",
    "            # is the correct bottom room available?\n",
    "            if dists[btm] < float('infinity'):\n",
    "                newpos = copy.deepcopy(positions)\n",
    "                newpos[k] = btm\n",
    "                cost = dists[btm]*move_costs[k] + prev_cost\n",
    "                if cost < max_cost:\n",
    "                    yield (newpos, cost)\n",
    "                return\n",
    "            # is the correct top room available?\n",
    "            if dists[top] < float('infinity'):\n",
    "                for kk, vv in positions.items():\n",
    "                    if vv == btm:\n",
    "                        btmtyp = kk[0]\n",
    "                if btmtyp == typ:\n",
    "                    # yes, it is\n",
    "                    newpos = copy.deepcopy(positions)\n",
    "                    newpos[k] = top\n",
    "                    cost = dists[top]*move_costs[k] + prev_cost\n",
    "                    if cost < max_cost:\n",
    "                        yield (newpos, cost)\n",
    "                    return\n",
    "    for k in can_move:\n",
    "        loc = positions[k]\n",
    "        if loc in rooms:\n",
    "            dists = calculate_distances(currgraph, loc)\n",
    "            # need to move into the hallway\n",
    "            for i in hallway:\n",
    "                if dists[i] < float('infinity'):\n",
    "                    newpos = copy.deepcopy(positions)\n",
    "                    newpos[k] = i\n",
    "                    cost = dists[i]*move_costs[k] + prev_cost\n",
    "                    if cost < max_cost:\n",
    "                        yield (newpos, cost)\n"
   ]
  },
  {
   "cell_type": "code",
   "execution_count": 121,
   "id": "c9355437-44fe-42e1-b325-d533625576f4",
   "metadata": {},
   "outputs": [],
   "source": [
    "def solve1(positions, graph):\n",
    "    states = [(positions, 0)]\n",
    "    if is_done(positions):\n",
    "        return 0\n",
    "    final_costs = []\n",
    "    i = 0\n",
    "    while states:\n",
    "        newstates = []\n",
    "        for state in sorted(states, key=lambda s: s[1]):\n",
    "            if final_costs:\n",
    "                max_cost = min(final_costs)\n",
    "            else:\n",
    "                max_cost = float('infinity')\n",
    "            for allowed in allowed_movements(state, graph, max_cost):\n",
    "                pos, cost = allowed\n",
    "                if is_done(pos):\n",
    "                    final_costs.append(cost)\n",
    "                else:\n",
    "                    newstates.append(allowed)\n",
    "        states = newstates\n",
    "        i += 1\n",
    "        print(i, len(states))\n",
    "    return min(final_costs)"
   ]
  },
  {
   "cell_type": "code",
   "execution_count": 122,
   "id": "bb7fba02-ed64-40ae-9118-948509599d1c",
   "metadata": {},
   "outputs": [
    {
     "name": "stdout",
     "output_type": "stream",
     "text": [
      "1 28\n",
      "2 368\n",
      "3 2234\n",
      "4 7568\n",
      "5 15595\n",
      "6 21848\n",
      "7 24237\n",
      "8 27155\n",
      "9 14388\n",
      "10 2372\n",
      "11 245\n",
      "12 0\n"
     ]
    },
    {
     "data": {
      "text/plain": [
       "12521"
      ]
     },
     "execution_count": 122,
     "metadata": {},
     "output_type": "execute_result"
    }
   ],
   "source": [
    "solve1(example_start, graph)"
   ]
  },
  {
   "cell_type": "code",
   "execution_count": 115,
   "id": "f4300980-e6ec-4959-bf93-8bd47b157133",
   "metadata": {},
   "outputs": [
    {
     "data": {
      "text/plain": [
       "15338"
      ]
     },
     "execution_count": 115,
     "metadata": {},
     "output_type": "execute_result"
    }
   ],
   "source": [
    "solve1(puzzle_start, graph)"
   ]
  },
  {
   "cell_type": "markdown",
   "id": "d6e7bc4e-5fd9-4c64-97ff-6a38e6b40335",
   "metadata": {},
   "source": [
    "## part 2 ##\n",
    "\n",
    "    e---f---g---h---i---j---k (hallway)\n",
    "         \\ / \\ / \\ / \\ / \n",
    "          a1  b1  c1  d1 (rooms)\n",
    "          |   |   |   |\n",
    "          a3  b3  c3  d3\n",
    "          |   |   |   |\n",
    "          a2  b2  c2  d2\n",
    "          |   |   |   |\n",
    "          a0  bO  cO  dO\n"
   ]
  },
  {
   "cell_type": "code",
   "execution_count": 125,
   "id": "5a01228e-c017-49dd-8663-647348bb08c5",
   "metadata": {},
   "outputs": [],
   "source": [
    "graph2 = {'a0': {'a2': 1},\n",
    "          'b0': {'b2': 1},\n",
    "          'c0': {'c2': 1},\n",
    "          'd0': {'d2': 1},\n",
    "          'a2': {'a0': 1, 'a3': 1},\n",
    "          'b2': {'b0': 1, 'b3': 1},\n",
    "          'c2': {'c0': 1, 'c3': 1},\n",
    "          'd2': {'d0': 1, 'd3': 1},\n",
    "          'a3': {'a2': 1, 'a1': 1},\n",
    "          'b3': {'b2': 1, 'b1': 1},\n",
    "          'c3': {'c2': 1, 'c1': 1},\n",
    "          'd3': {'d2': 1, 'd1': 1},\n",
    "          'a1': {'a3': 1, 'f': 2, 'g': 2},\n",
    "          'b1': {'b3': 1, 'g': 2, 'h': 2},\n",
    "          'c1': {'c3': 1, 'h': 2, 'i': 2},\n",
    "          'd1': {'d3': 1, 'i': 2, 'j': 2},\n",
    "          'e': {'f': 1},\n",
    "          'f': {'e': 1, 'a1': 2, 'g': 2},\n",
    "          'g': {'f': 2, 'h': 2, 'a1': 2, 'b1': 2},\n",
    "          'h': {'g': 2, 'i': 2, 'b1': 2, 'c1': 2},\n",
    "          'i': {'h': 2, 'j': 2, 'c1': 2, 'd1': 2},\n",
    "          'j': {'i': 2, 'k': 1, 'd1': 2},\n",
    "          'k': {'j': 1},\n",
    "        }\n",
    "hallway = ['e', 'f', 'g', 'h', 'i', 'j', 'k']\n",
    "rooms2 = [''.join(p) for p in itertools.product('abcd','0123')]\n",
    "bottom_rooms = [room for room in rooms if '0' in room]"
   ]
  },
  {
   "cell_type": "code",
   "execution_count": 128,
   "id": "7225b177-f5f3-46d0-943b-191a5d3c48e5",
   "metadata": {},
   "outputs": [],
   "source": [
    "example2_start = {'B0': 'a1', 'C1': 'b1', 'B1': 'c1', 'D1': 'd1',\n",
    "                  'D3': 'a3', 'C3': 'b3', 'B3': 'c3', 'A3': 'd3',\n",
    "                  'D2': 'a2', 'B2': 'b2', 'A2': 'c2', 'C2': 'd2',\n",
    "                  'A0': 'a0', 'D0': 'b0', 'C0': 'c0', 'A1': 'd0'}"
   ]
  },
  {
   "cell_type": "code",
   "execution_count": 132,
   "id": "9e2f576e-ad10-432b-aa5d-08e666dea145",
   "metadata": {},
   "outputs": [],
   "source": [
    "puzzle2_start = {'D1': 'a1', 'B1': 'b1', 'C1': 'c1', 'A1': 'd1',\n",
    "                'D3': 'a3', 'C3': 'b3', 'B3': 'c3', 'A3': 'd3',\n",
    "                'D2': 'a2', 'B2': 'b2', 'A2': 'c2', 'C2': 'd2',\n",
    "                'C0': 'a0', 'A0': 'b0', 'D0': 'c0', 'B0': 'd0'}"
   ]
  },
  {
   "cell_type": "code",
   "execution_count": 130,
   "id": "6f1e0ced-78ee-4184-820d-16193af76ea6",
   "metadata": {},
   "outputs": [],
   "source": [
    "def not_in_place2(positions):\n",
    "    occupied = {v:k for k,v in positions.items()}\n",
    "    in_place = []\n",
    "    goodcols = {'a', 'b', 'c', 'd'}\n",
    "    for rmrow in (0, 2, 3, 1):\n",
    "        for rm in [f'{col}{rmrow}' for col in 'abcd']:\n",
    "            col = rm[0]\n",
    "            if col not in goodcols:\n",
    "                continue\n",
    "            if rm not in occupied:\n",
    "                goodcols.remove(col)\n",
    "                continue\n",
    "            if occupied[rm][0].lower() == rm[0]:\n",
    "                in_place.append(occupied[rm])\n",
    "            else:\n",
    "                goodcols.remove(col)\n",
    "    return set(positions.keys()) - set(in_place)"
   ]
  },
  {
   "cell_type": "code",
   "execution_count": 131,
   "id": "a785e1ba-ea89-4db9-b96b-8ebc80cbf4bd",
   "metadata": {},
   "outputs": [
    {
     "data": {
      "text/plain": [
       "{'A1',\n",
       " 'A2',\n",
       " 'A3',\n",
       " 'B0',\n",
       " 'B1',\n",
       " 'B2',\n",
       " 'B3',\n",
       " 'C1',\n",
       " 'C2',\n",
       " 'C3',\n",
       " 'D0',\n",
       " 'D1',\n",
       " 'D2',\n",
       " 'D3'}"
      ]
     },
     "execution_count": 131,
     "metadata": {},
     "output_type": "execute_result"
    }
   ],
   "source": [
    "not_in_place2(example2_start)"
   ]
  },
  {
   "cell_type": "code",
   "execution_count": 133,
   "id": "cf416980-9887-43ba-b4fd-ab20fd44974e",
   "metadata": {},
   "outputs": [],
   "source": [
    "def available_homes(positions):\n",
    "    ### FIXME ###\n",
    "    available = []\n",
    "    occupied = {v:k for k,v in positions.items()}\n",
    "    for col in 'abcd':\n",
    "        good = None\n",
    "        for row in (0,2,3,1):\n",
    "            rm = f'{col}{row}'\n",
    "            if occupied[rm][0].lower() == col:\n",
    "                good = row\n",
    "        if good:\n",
    "            pass"
   ]
  },
  {
   "cell_type": "code",
   "execution_count": null,
   "id": "33128a20-b494-4653-bad7-f6a7c0ef79ce",
   "metadata": {},
   "outputs": [],
   "source": [
    "def allowed_movements2(state, graph, max_cost=float('infinity')):\n",
    "    positions, prev_cost = state\n",
    "    if prev_cost > max_cost:\n",
    "        return\n",
    "    currgraph = graph_with_positions(graph, positions)\n",
    "    can_move = not_in_place(positions)\n",
    "    # If any amphipod can move to it's final spot, then that's the only move we want to make here\n",
    "    for k in can_move:\n",
    "        loc = positions[k]\n",
    "        typ = k[0]\n",
    "        if loc in hallway:\n",
    "            # must move to the correct room, or stay in place\n",
    "            dists = calculate_distances(currgraph, loc)\n",
    "            # is the correct bottom room available?\n",
    "            btm, top = f'{typ.lower()}0', f'{typ.lower()}1'\n",
    "            if dists[btm] < float('infinity'):\n",
    "                newpos = copy.deepcopy(positions)\n",
    "                newpos[k] = btm\n",
    "                cost = dists[btm]*move_costs[k] + prev_cost\n",
    "                if cost < max_cost:\n",
    "                    yield (newpos, cost)\n",
    "                return\n",
    "            # is the correct top room available?\n",
    "            if dists[top] < float('infinity'):\n",
    "                for kk, vv in positions.items():\n",
    "                    if vv == btm:\n",
    "                        btmtyp = kk[0]\n",
    "                if btmtyp == typ:\n",
    "                    # yes, it is\n",
    "                    newpos = copy.deepcopy(positions)\n",
    "                    newpos[k] = top\n",
    "                    cost = dists[top]*move_costs[k] + prev_cost\n",
    "                    if cost < max_cost:\n",
    "                        yield (newpos, cost)\n",
    "                    return\n",
    "        else:\n",
    "            # in a room, consider only direct moves to the correct room\n",
    "            btm, top = f'{typ.lower()}0', f'{typ.lower()}1'\n",
    "            dists = calculate_distances(currgraph, loc)\n",
    "            # is the correct bottom room available?\n",
    "            if dists[btm] < float('infinity'):\n",
    "                newpos = copy.deepcopy(positions)\n",
    "                newpos[k] = btm\n",
    "                cost = dists[btm]*move_costs[k] + prev_cost\n",
    "                if cost < max_cost:\n",
    "                    yield (newpos, cost)\n",
    "                return\n",
    "            # is the correct top room available?\n",
    "            if dists[top] < float('infinity'):\n",
    "                for kk, vv in positions.items():\n",
    "                    if vv == btm:\n",
    "                        btmtyp = kk[0]\n",
    "                if btmtyp == typ:\n",
    "                    # yes, it is\n",
    "                    newpos = copy.deepcopy(positions)\n",
    "                    newpos[k] = top\n",
    "                    cost = dists[top]*move_costs[k] + prev_cost\n",
    "                    if cost < max_cost:\n",
    "                        yield (newpos, cost)\n",
    "                    return\n",
    "    for k in can_move:\n",
    "        loc = positions[k]\n",
    "        if loc in rooms:\n",
    "            dists = calculate_distances(currgraph, loc)\n",
    "            # need to move into the hallway\n",
    "            for i in hallway:\n",
    "                if dists[i] < float('infinity'):\n",
    "                    newpos = copy.deepcopy(positions)\n",
    "                    newpos[k] = i\n",
    "                    cost = dists[i]*move_costs[k] + prev_cost\n",
    "                    if cost < max_cost:\n",
    "                        yield (newpos, cost)"
   ]
  }
 ],
 "metadata": {
  "kernelspec": {
   "display_name": "Python 3",
   "language": "python",
   "name": "python3"
  },
  "language_info": {
   "codemirror_mode": {
    "name": "ipython",
    "version": 3
   },
   "file_extension": ".py",
   "mimetype": "text/x-python",
   "name": "python",
   "nbconvert_exporter": "python",
   "pygments_lexer": "ipython3",
   "version": "3.9.9"
  }
 },
 "nbformat": 4,
 "nbformat_minor": 5
}
