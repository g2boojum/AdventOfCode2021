{
 "cells": [
  {
   "cell_type": "code",
   "execution_count": 20,
   "id": "4f76934b-2b83-484a-823e-875f8e4786d7",
   "metadata": {},
   "outputs": [],
   "source": [
    "import json\n",
    "import ast\n",
    "import copy"
   ]
  },
  {
   "cell_type": "markdown",
   "id": "03870cd1-a843-40f8-b1f1-2ca868a851b7",
   "metadata": {},
   "source": [
    "## part 1 ##"
   ]
  },
  {
   "cell_type": "code",
   "execution_count": 18,
   "id": "fedf5a8f-51de-4aa3-9a0a-f6b65e5b2cb1",
   "metadata": {},
   "outputs": [],
   "source": [
    "teststr = '[[[9,[3,8]],[[0,9],6]],[[[3,7],[4,9]],3]]'"
   ]
  },
  {
   "cell_type": "code",
   "execution_count": 4,
   "id": "79176496-d4ae-4772-910d-6b5add69ce60",
   "metadata": {},
   "outputs": [
    {
     "data": {
      "text/plain": [
       "[[[9, [3, 8]], [[0, 9], 6]], [[[3, 7], [4, 9]], 3]]"
      ]
     },
     "execution_count": 4,
     "metadata": {},
     "output_type": "execute_result"
    }
   ],
   "source": [
    "json.loads('[[[9,[3,8]],[[0,9],6]],[[[3,7],[4,9]],3]]')"
   ]
  },
  {
   "cell_type": "code",
   "execution_count": 7,
   "id": "94874d90-cedb-4b22-bd33-8fd251398527",
   "metadata": {},
   "outputs": [],
   "source": [
    "def addpairs(pair1, pair2):\n",
    "    return [pair1, pair2]"
   ]
  },
  {
   "cell_type": "code",
   "execution_count": 8,
   "id": "2073bd71-a53c-4ad8-92c6-2d802b319158",
   "metadata": {},
   "outputs": [
    {
     "data": {
      "text/plain": [
       "[[1, 2], [3, 4]]"
      ]
     },
     "execution_count": 8,
     "metadata": {},
     "output_type": "execute_result"
    }
   ],
   "source": [
    "addpairs([1,2],[3,4])"
   ]
  },
  {
   "cell_type": "code",
   "execution_count": 9,
   "id": "6b4c8e95-274b-4451-be7a-66627fce69a4",
   "metadata": {},
   "outputs": [],
   "source": [
    "pair = json.loads('[[[9,[3,8]],[[0,9],6]],[[[3,7],[4,9]],3]]')"
   ]
  },
  {
   "cell_type": "code",
   "execution_count": 10,
   "id": "a741014f-5bb3-48fc-85b9-928df9513c52",
   "metadata": {},
   "outputs": [
    {
     "data": {
      "text/plain": [
       "(list, list)"
      ]
     },
     "execution_count": 10,
     "metadata": {},
     "output_type": "execute_result"
    }
   ],
   "source": [
    "lhs, rhs = pair\n",
    "type(lhs), type(rhs)"
   ]
  },
  {
   "cell_type": "code",
   "execution_count": 11,
   "id": "959a6c35-cd22-4372-9097-9632f28106eb",
   "metadata": {},
   "outputs": [
    {
     "data": {
      "text/plain": [
       "[[9, [3, 8]], [[0, 9], 6]]"
      ]
     },
     "execution_count": 11,
     "metadata": {},
     "output_type": "execute_result"
    }
   ],
   "source": [
    "lhs"
   ]
  },
  {
   "cell_type": "code",
   "execution_count": 12,
   "id": "8eff9fc9-a65e-48da-8d3e-0ece911a0ea6",
   "metadata": {},
   "outputs": [
    {
     "data": {
      "text/plain": [
       "[[[3, 7], [4, 9]], 3]"
      ]
     },
     "execution_count": 12,
     "metadata": {},
     "output_type": "execute_result"
    }
   ],
   "source": [
    "rhs"
   ]
  },
  {
   "cell_type": "code",
   "execution_count": 13,
   "id": "69ec23c8-58e4-456f-8a3d-6e7a4ae99e80",
   "metadata": {},
   "outputs": [],
   "source": [
    "import ast"
   ]
  },
  {
   "cell_type": "code",
   "execution_count": 15,
   "id": "089f9ed6-4b87-4c7d-9ee8-ea115f565154",
   "metadata": {},
   "outputs": [
    {
     "data": {
      "text/plain": [
       "[[[9, [3, 8]], [[0, 9], 6]], [[[3, 7], [4, 9]], 3]]"
      ]
     },
     "execution_count": 15,
     "metadata": {},
     "output_type": "execute_result"
    }
   ],
   "source": [
    "ast.literal_eval('[[[9,[3,8]],[[0,9],6]],[[[3,7],[4,9]],3]]')"
   ]
  },
  {
   "cell_type": "code",
   "execution_count": 17,
   "id": "34acd4bc-54fd-45a6-9ae1-3ba3773487f1",
   "metadata": {},
   "outputs": [],
   "source": [
    "class SfNum:\n",
    "    def __init__(self, nums):\n",
    "        self.nums = copy.deepcopy(nums)\n",
    "\n",
    "    @classmethod\n",
    "    def from_text(cls, text):\n",
    "        return cls(ast.literal_eval(text))\n",
    "    \n",
    "    def __str__(self):\n",
    "        return str(self.nums)\n",
    "\n",
    "    def copy(self):\n",
    "        return SfNum(self.nums)\n",
    "\n",
    "    def walk(self):\n",
    "        \"\"\"Walk from left to right, yielding idx, kind, value.\"\"\"\n",
    "        yield from self._walk((), self.nums)\n",
    "\n",
    "    def _walk(self, idx, nums):\n",
    "        if isinstance(nums, int):\n",
    "            yield \"num\", idx, nums\n",
    "        else:\n",
    "            yield \"pair\", idx, nums\n",
    "            yield from self._walk(idx + (0,), nums[0])\n",
    "            yield from self._walk(idx + (1,), nums[1])\n",
    "\n",
    "    def __getitem__(self, idx):\n",
    "        val = self.nums\n",
    "        for i in idx:\n",
    "            val = val[i]\n",
    "        return val\n",
    "\n",
    "    def __setitem__(self, idx, val):\n",
    "        nums = self.nums\n",
    "        for i in idx[:-1]:\n",
    "            nums = nums[i]\n",
    "        nums[idx[-1]] = val\n",
    "\n",
    "    def reduce(self):\n",
    "        while True:\n",
    "            # Find a pair to explode:\n",
    "            happened = False\n",
    "            left_num = left_num_idx = add_to_right = explode_idx = None\n",
    "            walking = self.walk()\n",
    "            for kind, idx, val in walking:\n",
    "                if kind == \"num\":\n",
    "                    left_num = val\n",
    "                    left_num_idx = idx\n",
    "                elif len(idx) == 4:\n",
    "                    # This is the pair to explode \n",
    "                    if left_num_idx is not None:\n",
    "                        self[left_num_idx] = left_num + val[0]\n",
    "                    add_to_right = val[1]\n",
    "                    explode_idx = idx\n",
    "                    happened = True\n",
    "                    break\n",
    "            if happened:\n",
    "                # skip the two numbers in the exploded pair\n",
    "                next(walking); next(walking)\n",
    "                for kind, idx, val in walking:\n",
    "                    if kind == \"num\":\n",
    "                        self[idx] = val + add_to_right\n",
    "                        break\n",
    "            if happened:\n",
    "                self[explode_idx] = 0\n",
    "                continue\n",
    "\n",
    "            # Find a number to split:\n",
    "            happened = False\n",
    "            for kind, idx, val in self.walk():\n",
    "                if kind == \"num\" and val >= 10:\n",
    "                    self[idx] = [math.floor(val / 2), math.ceil(val / 2)]\n",
    "                    happened = True\n",
    "                    break\n",
    "            if not happened:\n",
    "                break\n",
    "\n",
    "    def __add__(self, other):\n",
    "        added = SfNum([self.nums, other.nums])\n",
    "        added.reduce()\n",
    "        return added\n",
    "\n",
    "    def magnitude(self):\n",
    "        return magnitude(self.nums)"
   ]
  },
  {
   "cell_type": "code",
   "execution_count": 21,
   "id": "1163965c-d4c9-4b75-90a6-0e74cd0736bd",
   "metadata": {},
   "outputs": [],
   "source": [
    "testpair = SfNum.from_text(teststr)"
   ]
  },
  {
   "cell_type": "code",
   "execution_count": 22,
   "id": "83ae1447-e483-47e5-beef-8fa998ff6f09",
   "metadata": {},
   "outputs": [
    {
     "data": {
      "text/plain": [
       "<__main__.SfNum at 0x100f7aa87438>"
      ]
     },
     "execution_count": 22,
     "metadata": {},
     "output_type": "execute_result"
    }
   ],
   "source": [
    "testpair"
   ]
  },
  {
   "cell_type": "code",
   "execution_count": 23,
   "id": "f66e4354-ee42-44e2-b77f-ab3252413f1c",
   "metadata": {},
   "outputs": [
    {
     "data": {
      "text/plain": [
       "[[[9, [3, 8]], [[0, 9], 6]], [[[3, 7], [4, 9]], 3]]"
      ]
     },
     "execution_count": 23,
     "metadata": {},
     "output_type": "execute_result"
    }
   ],
   "source": [
    "testpair.nums"
   ]
  },
  {
   "cell_type": "code",
   "execution_count": 24,
   "id": "64d5f522-9d10-4045-9073-e4fc12b411b0",
   "metadata": {},
   "outputs": [
    {
     "name": "stdout",
     "output_type": "stream",
     "text": [
      "[[[9, [3, 8]], [[0, 9], 6]], [[[3, 7], [4, 9]], 3]]\n"
     ]
    }
   ],
   "source": [
    "print(testpair)"
   ]
  },
  {
   "cell_type": "code",
   "execution_count": 29,
   "id": "13a7de82-0be1-42c6-b974-0f6baf7d53f1",
   "metadata": {},
   "outputs": [
    {
     "name": "stdout",
     "output_type": "stream",
     "text": [
      "('pair', (), [[[9, [3, 8]], [[0, 9], 6]], [[[3, 7], [4, 9]], 3]])\n",
      "('pair', (0,), [[9, [3, 8]], [[0, 9], 6]])\n",
      "('pair', (0, 0), [9, [3, 8]])\n",
      "('num', (0, 0, 0), 9)\n",
      "('pair', (0, 0, 1), [3, 8])\n",
      "('num', (0, 0, 1, 0), 3)\n",
      "('num', (0, 0, 1, 1), 8)\n",
      "('pair', (0, 1), [[0, 9], 6])\n",
      "('pair', (0, 1, 0), [0, 9])\n",
      "('num', (0, 1, 0, 0), 0)\n",
      "('num', (0, 1, 0, 1), 9)\n",
      "('num', (0, 1, 1), 6)\n",
      "('pair', (1,), [[[3, 7], [4, 9]], 3])\n",
      "('pair', (1, 0), [[3, 7], [4, 9]])\n",
      "('pair', (1, 0, 0), [3, 7])\n",
      "('num', (1, 0, 0, 0), 3)\n",
      "('num', (1, 0, 0, 1), 7)\n",
      "('pair', (1, 0, 1), [4, 9])\n",
      "('num', (1, 0, 1, 0), 4)\n",
      "('num', (1, 0, 1, 1), 9)\n",
      "('num', (1, 1), 3)\n"
     ]
    }
   ],
   "source": [
    "it = testpair.walk()\n",
    "for pair in it:\n",
    "    print(pair)"
   ]
  },
  {
   "cell_type": "code",
   "execution_count": 26,
   "id": "181438db-d3ef-46fa-b6f2-9d2ba7c50bba",
   "metadata": {},
   "outputs": [
    {
     "data": {
      "text/plain": [
       "('pair', (), [[[9, [3, 8]], [[0, 9], 6]], [[[3, 7], [4, 9]], 3]])"
      ]
     },
     "execution_count": 26,
     "metadata": {},
     "output_type": "execute_result"
    }
   ],
   "source": [
    "next(it)"
   ]
  },
  {
   "cell_type": "code",
   "execution_count": 27,
   "id": "a1a5dec0-77c6-411c-94af-92cb875e188a",
   "metadata": {},
   "outputs": [
    {
     "data": {
      "text/plain": [
       "('pair', (0,), [[9, [3, 8]], [[0, 9], 6]])"
      ]
     },
     "execution_count": 27,
     "metadata": {},
     "output_type": "execute_result"
    }
   ],
   "source": [
    "next(it)"
   ]
  },
  {
   "cell_type": "code",
   "execution_count": 28,
   "id": "4ec1ce29-a721-487d-8b9f-9f5bfaef514a",
   "metadata": {},
   "outputs": [
    {
     "data": {
      "text/plain": [
       "('pair', (0, 0), [9, [3, 8]])"
      ]
     },
     "execution_count": 28,
     "metadata": {},
     "output_type": "execute_result"
    }
   ],
   "source": [
    "next(it)"
   ]
  },
  {
   "cell_type": "code",
   "execution_count": null,
   "id": "b15093e5-411b-4317-9c9d-07deec83dc3c",
   "metadata": {},
   "outputs": [],
   "source": []
  }
 ],
 "metadata": {
  "kernelspec": {
   "display_name": "Python 3 (ipykernel)",
   "language": "python",
   "name": "python3"
  },
  "language_info": {
   "codemirror_mode": {
    "name": "ipython",
    "version": 3
   },
   "file_extension": ".py",
   "mimetype": "text/x-python",
   "name": "python",
   "nbconvert_exporter": "python",
   "pygments_lexer": "ipython3",
   "version": "3.7.3"
  }
 },
 "nbformat": 4,
 "nbformat_minor": 5
}
