{
 "cells": [
  {
   "cell_type": "code",
   "execution_count": 1,
   "id": "2871f85f-e18f-44db-b03f-3a0c81472f9d",
   "metadata": {},
   "outputs": [],
   "source": [
    "import itertools\n",
    "import collections\n",
    "import numpy as np\n",
    "import pathlib"
   ]
  },
  {
   "cell_type": "markdown",
   "id": "e106b8b9-6fb0-4c38-a35c-21acad7bf995",
   "metadata": {},
   "source": [
    "## part 1 ##"
   ]
  },
  {
   "cell_type": "code",
   "execution_count": 2,
   "id": "a7a6fbd8-c8b9-4b37-9db8-b6f782b9fae0",
   "metadata": {},
   "outputs": [],
   "source": [
    "testlines = '''v...>>.vv>\n",
    ".vv>>.vv..\n",
    ">>.>v>...v\n",
    ">>v>>.>.v.\n",
    "v>v.vv.v..\n",
    ">.>>..v...\n",
    ".vv..>.>v.\n",
    "v.v..>>v.v\n",
    "....v..v.>'''.splitlines()"
   ]
  },
  {
   "cell_type": "code",
   "execution_count": 3,
   "id": "8d1ae7aa-1c71-4392-99fb-da5ef8faf770",
   "metadata": {},
   "outputs": [],
   "source": [
    "puzzlelines = pathlib.Path('day25.txt').read_text().splitlines()"
   ]
  },
  {
   "cell_type": "code",
   "execution_count": 4,
   "id": "d96dc6ca-563c-4c61-bf7b-03468d452fc9",
   "metadata": {},
   "outputs": [],
   "source": [
    "def get_size(lines):\n",
    "    xmax = len(lines[0]) \n",
    "    zmax = len(lines)\n",
    "    return xmax, zmax"
   ]
  },
  {
   "cell_type": "code",
   "execution_count": 20,
   "id": "31c5e128-7a56-44ce-a95b-e7cf7afa1be8",
   "metadata": {},
   "outputs": [],
   "source": [
    "def get_positions(lines):\n",
    "    rights = set()\n",
    "    downs = set()\n",
    "    for z, line in enumerate(lines):\n",
    "        for x, c in enumerate(line):\n",
    "            if c == '>':\n",
    "                rights.add((x,z))\n",
    "            elif c == 'v':\n",
    "                downs.add((x,z))\n",
    "    return rights, downs"
   ]
  },
  {
   "cell_type": "code",
   "execution_count": 28,
   "id": "7ec2d953-8619-4255-9015-2cca4176d0e2",
   "metadata": {},
   "outputs": [],
   "source": [
    "def step(rights, downs, xmax, zmax):\n",
    "    newrights = set()\n",
    "    newdowns = set()\n",
    "    currpos = rights | downs\n",
    "    num_moves = 0\n",
    "    # right-moving herd\n",
    "    for x,z in rights:\n",
    "        xnext = (x + 1) % xmax\n",
    "        if (xnext, z) not in currpos:\n",
    "            # free to move\n",
    "            newrights.add((xnext, z))\n",
    "            num_moves += 1\n",
    "        else:\n",
    "            newrights.add((x,z))\n",
    "    currpos = newrights | downs\n",
    "    # down-moving herd\n",
    "    for x,z in downs:\n",
    "        znext = (z + 1) % zmax\n",
    "        if (x, znext) not in currpos:\n",
    "            # free to move\n",
    "            newdowns.add((x,znext))\n",
    "            num_moves += 1\n",
    "        else:\n",
    "            newdowns.add((x,z))\n",
    "    return num_moves, newrights, newdowns\n",
    "    "
   ]
  },
  {
   "cell_type": "code",
   "execution_count": 30,
   "id": "66a711bb-7941-4964-a847-4688f0f2adc1",
   "metadata": {},
   "outputs": [],
   "source": [
    "def solve1(lines):\n",
    "    xmax, zmax = get_size(lines)\n",
    "    newrights, newdowns = get_positions(lines)\n",
    "    steps = 0\n",
    "    while True:\n",
    "        num_moves, newrights, newdowns = step(newrights, newdowns, xmax, zmax)\n",
    "        steps += 1\n",
    "        if num_moves == 0:\n",
    "            break\n",
    "    print(steps)"
   ]
  },
  {
   "cell_type": "code",
   "execution_count": 31,
   "id": "f7ea2d87-a1aa-4ad5-9b79-4ce29ccf471b",
   "metadata": {},
   "outputs": [
    {
     "name": "stdout",
     "output_type": "stream",
     "text": [
      "58\n"
     ]
    }
   ],
   "source": [
    "solve1(testlines)"
   ]
  },
  {
   "cell_type": "code",
   "execution_count": 32,
   "id": "672473ad-e798-4237-b552-81d2f4362c8f",
   "metadata": {},
   "outputs": [
    {
     "name": "stdout",
     "output_type": "stream",
     "text": [
      "523\n"
     ]
    }
   ],
   "source": [
    "solve1(puzzlelines)"
   ]
  },
  {
   "cell_type": "code",
   "execution_count": null,
   "id": "0ecc8239-3754-4a9a-8eb9-6aa6513e8116",
   "metadata": {},
   "outputs": [],
   "source": []
  }
 ],
 "metadata": {
  "kernelspec": {
   "display_name": "Python 3 (ipykernel)",
   "language": "python",
   "name": "python3"
  },
  "language_info": {
   "codemirror_mode": {
    "name": "ipython",
    "version": 3
   },
   "file_extension": ".py",
   "mimetype": "text/x-python",
   "name": "python",
   "nbconvert_exporter": "python",
   "pygments_lexer": "ipython3",
   "version": "3.7.3"
  }
 },
 "nbformat": 4,
 "nbformat_minor": 5
}
