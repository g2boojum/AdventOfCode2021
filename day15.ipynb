{
 "cells": [
  {
   "cell_type": "code",
   "execution_count": 1,
   "id": "231c5fca-78b4-47a6-9d0d-8bb33f2925a1",
   "metadata": {},
   "outputs": [],
   "source": [
    "import pathlib\n",
    "import collections"
   ]
  },
  {
   "cell_type": "markdown",
   "id": "498c8fcc-2332-498a-ac0f-b5580086be41",
   "metadata": {},
   "source": [
    "## part 1 ##"
   ]
  },
  {
   "cell_type": "code",
   "execution_count": 2,
   "id": "62cdde5f-7fbd-44f2-abf5-91bedc7b669a",
   "metadata": {},
   "outputs": [],
   "source": [
    "testdata = '''1163751742\n",
    "1381373672\n",
    "2136511328\n",
    "3694931569\n",
    "7463417111\n",
    "1319128137\n",
    "1359912421\n",
    "3125421639\n",
    "1293138521\n",
    "2311944581'''.splitlines()"
   ]
  },
  {
   "cell_type": "code",
   "execution_count": 3,
   "id": "a6101dba-9bb8-493e-8af8-72c0253e6e98",
   "metadata": {},
   "outputs": [],
   "source": [
    "puzzledata = pathlib.Path('day15.txt').read_text().splitlines()"
   ]
  },
  {
   "cell_type": "code",
   "execution_count": 4,
   "id": "fc9887b3-895f-460e-a362-fa361192b4c0",
   "metadata": {},
   "outputs": [
    {
     "data": {
      "text/plain": [
       "(100, 100)"
      ]
     },
     "execution_count": 4,
     "metadata": {},
     "output_type": "execute_result"
    }
   ],
   "source": [
    "len(puzzledata), len(puzzledata[0])"
   ]
  },
  {
   "cell_type": "code",
   "execution_count": 5,
   "id": "90f08f57-8cc0-4f79-a5fd-e10d0189a69e",
   "metadata": {},
   "outputs": [],
   "source": [
    "def get_vertices(lines):\n",
    "    v = {}\n",
    "    for row, line in enumerate(lines):\n",
    "        for col, c in enumerate(line):\n",
    "            v[(row, col)] = int(c)\n",
    "    return v"
   ]
  },
  {
   "cell_type": "code",
   "execution_count": 6,
   "id": "09177b99-5a73-4263-b625-7bf507a7d262",
   "metadata": {},
   "outputs": [],
   "source": [
    "def get_adjacencies(vertices):\n",
    "    adj = collections.defaultdict(list)\n",
    "    for (row, col) in vertices:\n",
    "        for nbr in [(row+1, col), (row-1, col), (row, col-1), (row, col+1)]:\n",
    "            if nbr in vertices:\n",
    "                adj[(row,col)].append(nbr)\n",
    "    return adj"
   ]
  },
  {
   "cell_type": "code",
   "execution_count": 7,
   "id": "03ba4dc4-0881-4116-99e2-540e5fc8a543",
   "metadata": {},
   "outputs": [],
   "source": [
    "def get_graph(vertices):\n",
    "    g = collections.defaultdict(dict)\n",
    "    for (row, col) in vertices:\n",
    "        for nbr in [(row+1, col), (row-1, col), (row, col-1), (row, col+1)]:\n",
    "            if nbr in vertices:\n",
    "                g[(row,col)][nbr] = vertices[nbr]\n",
    "    return g"
   ]
  },
  {
   "cell_type": "code",
   "execution_count": 8,
   "id": "4798d009-0b52-47d1-ae61-85f2ab529209",
   "metadata": {},
   "outputs": [],
   "source": [
    "# from https://bradfieldcs.com/algos/graphs/dijkstras-algorithm/\n",
    "import heapq\n",
    "\n",
    "\n",
    "def calculate_distances(graph, starting_vertex):\n",
    "    distances = {vertex: float('infinity') for vertex in graph}\n",
    "    distances[starting_vertex] = 0\n",
    "\n",
    "    pq = [(0, starting_vertex)]\n",
    "    while len(pq) > 0:\n",
    "        current_distance, current_vertex = heapq.heappop(pq)\n",
    "\n",
    "        # Nodes can get added to the priority queue multiple times. We only\n",
    "        # process a vertex the first time we remove it from the priority queue.\n",
    "        if current_distance > distances[current_vertex]:\n",
    "            continue\n",
    "\n",
    "        for neighbor, weight in graph[current_vertex].items():\n",
    "            distance = current_distance + weight\n",
    "\n",
    "            # Only consider this new path if it's better than any path we've\n",
    "            # already found.\n",
    "            if distance < distances[neighbor]:\n",
    "                distances[neighbor] = distance\n",
    "                heapq.heappush(pq, (distance, neighbor))\n",
    "\n",
    "    return distances"
   ]
  },
  {
   "cell_type": "code",
   "execution_count": 9,
   "id": "332ac059-5c85-4d25-b771-52d0a6f3986f",
   "metadata": {},
   "outputs": [],
   "source": [
    "testv = get_vertices(testdata)\n",
    "testg = get_graph(testv)\n",
    "test_distances = calculate_distances(testg, (0,0))"
   ]
  },
  {
   "cell_type": "code",
   "execution_count": 10,
   "id": "439b3f06-6b73-45cf-9c0b-a3d060cb0516",
   "metadata": {},
   "outputs": [
    {
     "data": {
      "text/plain": [
       "40"
      ]
     },
     "execution_count": 10,
     "metadata": {},
     "output_type": "execute_result"
    }
   ],
   "source": [
    "test_distances[(9,9)]"
   ]
  },
  {
   "cell_type": "code",
   "execution_count": 11,
   "id": "c5c67d16-545e-4673-b690-325b47cf15f8",
   "metadata": {},
   "outputs": [],
   "source": [
    "puzzlev = get_vertices(puzzledata)\n",
    "puzzleg = get_graph(puzzlev)"
   ]
  },
  {
   "cell_type": "code",
   "execution_count": 12,
   "id": "35fe9617-c6b4-4e62-a3e0-6850b5f4027f",
   "metadata": {},
   "outputs": [
    {
     "data": {
      "text/plain": [
       "720"
      ]
     },
     "execution_count": 12,
     "metadata": {},
     "output_type": "execute_result"
    }
   ],
   "source": [
    "puzzle_distances = calculate_distances(puzzleg, (0,0))\n",
    "puzzle_distances[(99,99)]"
   ]
  },
  {
   "cell_type": "markdown",
   "id": "be6bd686-aae6-401e-a6e6-e690b40457d2",
   "metadata": {},
   "source": [
    "## part 2 ##"
   ]
  },
  {
   "cell_type": "code",
   "execution_count": 13,
   "id": "b0d782bb-2817-40bc-a2d8-c0151d693d71",
   "metadata": {},
   "outputs": [],
   "source": [
    "import numpy as np"
   ]
  },
  {
   "cell_type": "code",
   "execution_count": 14,
   "id": "3217ec41-0ab8-4225-af8c-6b635692c611",
   "metadata": {},
   "outputs": [],
   "source": [
    "def get_tile(data):\n",
    "    nrows, ncols = len(data), len(data[0])\n",
    "    tile = np.zeros((nrows, ncols), int)\n",
    "    for i,row in enumerate(data):\n",
    "        for j, c in enumerate(row):\n",
    "            tile[i,j] = int(c)\n",
    "    return tile"
   ]
  },
  {
   "cell_type": "code",
   "execution_count": 15,
   "id": "a533774e-10d6-41ad-9560-8318005e6657",
   "metadata": {},
   "outputs": [],
   "source": [
    "def get_offset_tile(tile, offset):\n",
    "    newtile = tile.copy()\n",
    "    newtile += offset\n",
    "    rows, cols = newtile.shape\n",
    "    for row in range(rows):\n",
    "        for col in range(cols):\n",
    "            if newtile[row, col] > 9:\n",
    "                newtile[row, col] -= 9\n",
    "    return newtile"
   ]
  },
  {
   "cell_type": "code",
   "execution_count": 16,
   "id": "8d0a22e9-0e3e-4714-a717-69b35d2f2f41",
   "metadata": {},
   "outputs": [],
   "source": [
    "def get_fullgrid(tile):\n",
    "    num_tiles = 5\n",
    "    tilerows, tilecols = tile.shape\n",
    "    gridrows, gridcols = num_tiles*tilerows, num_tiles*tilecols\n",
    "    grid = np.zeros((gridrows, gridcols), int)\n",
    "    for rtile in range(num_tiles):\n",
    "        for ctile in range(num_tiles):\n",
    "            offset = rtile + ctile # taxicab distance from (0,0)\n",
    "            offset_tile = get_offset_tile(tile, offset)\n",
    "            grid[tilerows*rtile:tilerows*(rtile+1), \n",
    "                 tilecols*ctile:tilecols*(ctile+1)] = offset_tile\n",
    "    return grid           "
   ]
  },
  {
   "cell_type": "code",
   "execution_count": 17,
   "id": "d6356f17-f22d-4027-97ce-6032e100bcd2",
   "metadata": {},
   "outputs": [],
   "source": [
    "def get_grid_vertices(grid):\n",
    "    rows, cols = grid.shape\n",
    "    v = {}\n",
    "    for i in range(rows):\n",
    "        for j in range(cols):\n",
    "            v[(i,j)] = grid[i,j]\n",
    "    return v"
   ]
  },
  {
   "cell_type": "code",
   "execution_count": 18,
   "id": "c8311393-1d59-42e6-b435-f79f13aefcf2",
   "metadata": {},
   "outputs": [],
   "source": [
    "def solve(data):\n",
    "    tile = get_tile(data)\n",
    "    grid = get_fullgrid(tile)\n",
    "    rows, cols = grid.shape\n",
    "    distances = calculate_distances(get_graph(get_grid_vertices(grid)), (0,0))\n",
    "    return distances[(rows-1, cols-1)]"
   ]
  },
  {
   "cell_type": "code",
   "execution_count": 19,
   "id": "d8cddd61-8837-4fa6-8509-29004b84f805",
   "metadata": {},
   "outputs": [
    {
     "data": {
      "text/plain": [
       "315"
      ]
     },
     "execution_count": 19,
     "metadata": {},
     "output_type": "execute_result"
    }
   ],
   "source": [
    "solve(testdata)"
   ]
  },
  {
   "cell_type": "code",
   "execution_count": 20,
   "id": "27bb30ee-c897-4764-b2fe-1e423a17c5ff",
   "metadata": {},
   "outputs": [
    {
     "data": {
      "text/plain": [
       "3025"
      ]
     },
     "execution_count": 20,
     "metadata": {},
     "output_type": "execute_result"
    }
   ],
   "source": [
    "solve(puzzledata)"
   ]
  },
  {
   "cell_type": "code",
   "execution_count": null,
   "id": "3f4c1af7-aaa9-4fc2-9649-b58d784139df",
   "metadata": {},
   "outputs": [],
   "source": []
  }
 ],
 "metadata": {
  "kernelspec": {
   "display_name": "Python 3",
   "language": "python",
   "name": "python3"
  },
  "language_info": {
   "codemirror_mode": {
    "name": "ipython",
    "version": 3
   },
   "file_extension": ".py",
   "mimetype": "text/x-python",
   "name": "python",
   "nbconvert_exporter": "python",
   "pygments_lexer": "ipython3",
   "version": "3.9.9"
  }
 },
 "nbformat": 4,
 "nbformat_minor": 5
}
