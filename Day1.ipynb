{
  "nbformat": 4,
  "nbformat_minor": 0,
  "metadata": {
    "colab": {
      "name": "Day1.ipynb",
      "provenance": [],
      "authorship_tag": "ABX9TyPfnY0cR6P1RqxyvCCqEJbg",
      "include_colab_link": true
    },
    "kernelspec": {
      "name": "python3",
      "display_name": "Python 3"
    },
    "language_info": {
      "name": "python"
    }
  },
  "cells": [
    {
      "cell_type": "markdown",
      "metadata": {
        "id": "view-in-github",
        "colab_type": "text"
      },
      "source": [
        "<a href=\"https://colab.research.google.com/github/g2boojum/AdventOfCode2021/blob/main/Day1.ipynb\" target=\"_parent\"><img src=\"https://colab.research.google.com/assets/colab-badge.svg\" alt=\"Open In Colab\"/></a>"
      ]
    },
    {
      "cell_type": "code",
      "metadata": {
        "id": "bhDhK44rKIL6"
      },
      "source": [
        "import pandas as pd"
      ],
      "execution_count": 1,
      "outputs": []
    },
    {
      "cell_type": "code",
      "metadata": {
        "id": "KbmdaiwfMzwl"
      },
      "source": [
        "from google.colab import drive"
      ],
      "execution_count": 5,
      "outputs": []
    },
    {
      "cell_type": "code",
      "metadata": {
        "colab": {
          "base_uri": "https://localhost:8080/"
        },
        "id": "WfiL0y0cM-lI",
        "outputId": "1138be0c-25a7-47d5-c326-3a125358a552"
      },
      "source": [
        "drive.mount('/content/drive')"
      ],
      "execution_count": 6,
      "outputs": [
        {
          "output_type": "stream",
          "name": "stdout",
          "text": [
            "Mounted at /content/drive\n"
          ]
        }
      ]
    },
    {
      "cell_type": "code",
      "metadata": {
        "colab": {
          "base_uri": "https://localhost:8080/"
        },
        "id": "b4DbBCfcNodY",
        "outputId": "1a0a7228-0514-4270-d8f7-b746ef4c33ba"
      },
      "source": [
        "!ls /content/drive/MyDrive/AoC2021"
      ],
      "execution_count": 11,
      "outputs": [
        {
          "output_type": "stream",
          "name": "stdout",
          "text": [
            "day1.txt\n"
          ]
        }
      ]
    },
    {
      "cell_type": "code",
      "metadata": {
        "id": "XhySx1luKehg"
      },
      "source": [
        "df = pd.read_csv('/content/drive/MyDrive/AoC2021/day1.txt', header=None)"
      ],
      "execution_count": 15,
      "outputs": []
    },
    {
      "cell_type": "markdown",
      "metadata": {
        "id": "TxgDLNtrhV6L"
      },
      "source": [
        "# part 1 #"
      ]
    },
    {
      "cell_type": "code",
      "metadata": {
        "id": "9qzm0zzDOX0l"
      },
      "source": [
        "increasing = df.diff().iloc[1:] > 0"
      ],
      "execution_count": 22,
      "outputs": []
    },
    {
      "cell_type": "code",
      "metadata": {
        "colab": {
          "base_uri": "https://localhost:8080/"
        },
        "id": "sp0MXA4ZfHlY",
        "outputId": "3df49630-d628-4be7-d025-b249e9b3e7a1"
      },
      "source": [
        "sum(increasing[0])"
      ],
      "execution_count": 35,
      "outputs": [
        {
          "output_type": "execute_result",
          "data": {
            "text/plain": [
              "1477"
            ]
          },
          "metadata": {},
          "execution_count": 35
        }
      ]
    },
    {
      "cell_type": "markdown",
      "metadata": {
        "id": "v39cRH_Hhb9_"
      },
      "source": [
        "# part 2 #"
      ]
    },
    {
      "cell_type": "code",
      "metadata": {
        "id": "AlOTJyAQhhkF"
      },
      "source": [
        "s = df[0]"
      ],
      "execution_count": 36,
      "outputs": []
    },
    {
      "cell_type": "code",
      "metadata": {
        "id": "aBDOSmAph4fg"
      },
      "source": [
        "s3 = []\n",
        "for i in range(len(s)-2):\n",
        "  s3.append(sum(s.iloc[i:i+3]))\n",
        "s3 = pd.Series(s3)"
      ],
      "execution_count": 42,
      "outputs": []
    },
    {
      "cell_type": "code",
      "metadata": {
        "id": "ypHb7AKjif__"
      },
      "source": [
        "increasing = s3.diff().iloc[1:] > 0"
      ],
      "execution_count": 44,
      "outputs": []
    },
    {
      "cell_type": "code",
      "metadata": {
        "colab": {
          "base_uri": "https://localhost:8080/"
        },
        "id": "jaAI4mAckPoC",
        "outputId": "8475eecd-952e-4998-ad5e-e52f5467af1e"
      },
      "source": [
        "sum(increasing)"
      ],
      "execution_count": 46,
      "outputs": [
        {
          "output_type": "execute_result",
          "data": {
            "text/plain": [
              "1523"
            ]
          },
          "metadata": {},
          "execution_count": 46
        }
      ]
    }
  ]
}