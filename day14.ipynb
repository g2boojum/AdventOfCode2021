{
 "cells": [
  {
   "cell_type": "code",
   "execution_count": 1,
   "id": "9f9e5a1a-2e9b-406c-9ee9-e7798721d5b0",
   "metadata": {},
   "outputs": [],
   "source": [
    "import pathlib\n",
    "import collections"
   ]
  },
  {
   "cell_type": "markdown",
   "id": "1d4e0375-5a92-409f-908d-a48de1a8f74a",
   "metadata": {},
   "source": [
    "## part 1 ##"
   ]
  },
  {
   "cell_type": "code",
   "execution_count": 2,
   "id": "e29db06f-36bf-4da5-89af-7d9aa0d8afd2",
   "metadata": {},
   "outputs": [],
   "source": [
    "testlines = '''NNCB\n",
    "\n",
    "CH -> B\n",
    "HH -> N\n",
    "CB -> H\n",
    "NH -> C\n",
    "HB -> C\n",
    "HC -> B\n",
    "HN -> C\n",
    "NN -> C\n",
    "BH -> H\n",
    "NC -> B\n",
    "NB -> B\n",
    "BN -> B\n",
    "BB -> N\n",
    "BC -> B\n",
    "CC -> N\n",
    "CN -> C'''.splitlines()"
   ]
  },
  {
   "cell_type": "code",
   "execution_count": 3,
   "id": "bd0cd7ef-eb35-4803-81ae-76296eff3914",
   "metadata": {},
   "outputs": [],
   "source": [
    "puzzlelines = pathlib.Path('day14.txt').read_text().splitlines()"
   ]
  },
  {
   "cell_type": "code",
   "execution_count": 4,
   "id": "1cbf5e71-7de5-4ddd-819f-8386e9b06912",
   "metadata": {},
   "outputs": [],
   "source": [
    "def parse(lines):\n",
    "    template = lines[0]\n",
    "    rules = {}\n",
    "    for line in lines[2:]:\n",
    "        lhs, rhs = line.split('->')\n",
    "        rules[lhs.strip()] = rhs.strip()\n",
    "    return template, rules"
   ]
  },
  {
   "cell_type": "code",
   "execution_count": 5,
   "id": "249c7ea4-de7f-4857-859e-4d4a78f86b35",
   "metadata": {},
   "outputs": [],
   "source": [
    "def get_pairs(s):\n",
    "    return [''.join(p) for p in zip(s, s[1:])]"
   ]
  },
  {
   "cell_type": "code",
   "execution_count": 6,
   "id": "0f969b7f-e8b2-444e-9152-ec20d83c1695",
   "metadata": {},
   "outputs": [],
   "source": [
    "def insert(s, rules):\n",
    "    pairs = get_pairs(s)\n",
    "    res = []\n",
    "    for pair in pairs:\n",
    "        # Note the 2nd part of the pair isn't appended, because it will be the first part of the next pair\n",
    "        res.append(pair[0])\n",
    "        res.append(rules.get(pair, ''))\n",
    "    # Do need to append the second part of the last pair, though, since no next pair to be had\n",
    "    res.append(s[-1])\n",
    "    return ''.join(res)\n"
   ]
  },
  {
   "cell_type": "code",
   "execution_count": 7,
   "id": "68423c89-bd3d-4a81-8cee-2d227edf11fc",
   "metadata": {},
   "outputs": [],
   "source": [
    "def solve1(lines, iterations):\n",
    "    tmpl, rules = parse(lines)\n",
    "    s = tmpl\n",
    "    for i in range(iterations):\n",
    "        s = insert(s, rules)\n",
    "    c = collections.Counter(s)\n",
    "    common = c.most_common()\n",
    "    return common[0][1]-common[-1][1]"
   ]
  },
  {
   "cell_type": "code",
   "execution_count": 8,
   "id": "98455408-b33f-4e84-95d9-ae3a9d546dbd",
   "metadata": {},
   "outputs": [
    {
     "data": {
      "text/plain": [
       "1588"
      ]
     },
     "execution_count": 8,
     "metadata": {},
     "output_type": "execute_result"
    }
   ],
   "source": [
    "solve1(testlines, 10)"
   ]
  },
  {
   "cell_type": "code",
   "execution_count": 9,
   "id": "b7f95389-3f32-4ea2-89ea-032a023e6460",
   "metadata": {},
   "outputs": [
    {
     "data": {
      "text/plain": [
       "2112"
      ]
     },
     "execution_count": 9,
     "metadata": {},
     "output_type": "execute_result"
    }
   ],
   "source": [
    "solve1(puzzlelines, 10)"
   ]
  },
  {
   "cell_type": "markdown",
   "id": "bf57acad-da3d-4d12-814e-cdba6d4ab3fe",
   "metadata": {},
   "source": [
    "## part 2 ##\n",
    "\n",
    "Brute force takes too long. We don't need the actual strings, though, just the elemental formulae, so work w/\n",
    "pairs instead of strings. Note that each insertion creates 2 pairs, but counting pairs doubles the characters \n",
    "except for the first and last."
   ]
  },
  {
   "cell_type": "code",
   "execution_count": 10,
   "id": "0d7083b5-9967-4f38-b74e-242d25dc63ca",
   "metadata": {},
   "outputs": [],
   "source": [
    "pd = collections.defaultdict(int)"
   ]
  },
  {
   "cell_type": "code",
   "execution_count": 11,
   "id": "726a7216-eb80-4e27-8326-7cd2ffeaeb5d",
   "metadata": {},
   "outputs": [
    {
     "data": {
      "text/plain": [
       "defaultdict(int, {'NN': 1, 'NC': 1, 'CB': 1})"
      ]
     },
     "execution_count": 11,
     "metadata": {},
     "output_type": "execute_result"
    }
   ],
   "source": [
    "t, r = parse(testlines)\n",
    "for pair in get_pairs(t):\n",
    "    pd[pair] += 1\n",
    "pd"
   ]
  },
  {
   "cell_type": "code",
   "execution_count": 12,
   "id": "5c9b4b4d-63d1-4ae8-befd-1d627bc82d49",
   "metadata": {},
   "outputs": [],
   "source": [
    "def insert2(pairdict, rules):\n",
    "    newpd = collections.defaultdict(int)\n",
    "    for rule in rules:\n",
    "        if rule in pairdict:\n",
    "            numpairs = pairdict[rule]\n",
    "            insert = rules[rule]\n",
    "            p1 = ''.join([rule[0], insert])\n",
    "            p2 = ''.join([insert, rule[1]])\n",
    "            newpd[p1] += numpairs\n",
    "            newpd[p2] += numpairs\n",
    "    return newpd"
   ]
  },
  {
   "cell_type": "code",
   "execution_count": 13,
   "id": "8ef18aef-0e60-4942-9a64-0a7efc4a2237",
   "metadata": {},
   "outputs": [
    {
     "data": {
      "text/plain": [
       "defaultdict(int, {'CH': 1, 'HB': 1, 'NC': 1, 'CN': 1, 'NB': 1, 'BC': 1})"
      ]
     },
     "execution_count": 13,
     "metadata": {},
     "output_type": "execute_result"
    }
   ],
   "source": [
    "insert2(pd, r)"
   ]
  },
  {
   "cell_type": "code",
   "execution_count": 14,
   "id": "6deb5efe-2250-42f7-8548-ff09c5408da9",
   "metadata": {},
   "outputs": [],
   "source": [
    "def pairs_to_elements(pairdict, first, last):\n",
    "    c = collections.defaultdict(int)\n",
    "    for pair in pairdict:\n",
    "        num = pairdict[pair]\n",
    "        c1, c2 = pair[0], pair[1]\n",
    "        c[c1] += num\n",
    "        c[c2] += num\n",
    "    c[first] += 1\n",
    "    c[last] += 1\n",
    "    for ele in c:\n",
    "        c[ele] /= 2\n",
    "    return c"
   ]
  },
  {
   "cell_type": "code",
   "execution_count": 15,
   "id": "e96abc0e-0485-4d0a-a1e4-ea8108056d30",
   "metadata": {},
   "outputs": [
    {
     "data": {
      "text/plain": [
       "defaultdict(int, {'C': 2.0, 'H': 1.0, 'B': 2.0, 'N': 2.0})"
      ]
     },
     "execution_count": 15,
     "metadata": {},
     "output_type": "execute_result"
    }
   ],
   "source": [
    "pairs_to_elements(insert2(pd, r), t[0], t[-1])"
   ]
  },
  {
   "cell_type": "code",
   "execution_count": 18,
   "id": "8c784fef-32fa-4bf1-9d06-222e8c96680f",
   "metadata": {},
   "outputs": [],
   "source": [
    "def solve2(lines, iterations):\n",
    "    tmpl, rules = parse(lines)\n",
    "    pd = collections.defaultdict(int)\n",
    "    for pair in get_pairs(tmpl):\n",
    "        pd[pair] += 1\n",
    "    newpd = pd.copy()\n",
    "    for i in range(iterations):\n",
    "        newpd = insert2(newpd, rules)\n",
    "    elements = pairs_to_elements(newpd, tmpl[0], tmpl[-1])\n",
    "    sortedkeys = sorted(elements, key=elements.get)\n",
    "    return elements[sortedkeys[-1]] - elements[sortedkeys[0]]\n",
    "    "
   ]
  },
  {
   "cell_type": "code",
   "execution_count": 16,
   "id": "fda36c75-9fe3-4e02-a5a4-a30e44f121f8",
   "metadata": {},
   "outputs": [
    {
     "data": {
      "text/plain": [
       "defaultdict(int, {'C': 2.0, 'H': 1.0, 'B': 2.0, 'N': 2.0})"
      ]
     },
     "execution_count": 16,
     "metadata": {},
     "output_type": "execute_result"
    }
   ],
   "source": [
    "tp = pairs_to_elements(insert2(pd, r), t[0], t[-1])\n",
    "tp"
   ]
  },
  {
   "cell_type": "code",
   "execution_count": 17,
   "id": "e100aac3-919c-4849-80bf-e54800ea0f4c",
   "metadata": {},
   "outputs": [
    {
     "data": {
      "text/plain": [
       "['H', 'C', 'B', 'N']"
      ]
     },
     "execution_count": 17,
     "metadata": {},
     "output_type": "execute_result"
    }
   ],
   "source": [
    "sorted(tp, key=tp.get)"
   ]
  },
  {
   "cell_type": "code",
   "execution_count": 19,
   "id": "2bc3153b-c2b1-4d9c-aafc-195b817f134b",
   "metadata": {},
   "outputs": [
    {
     "data": {
      "text/plain": [
       "1588.0"
      ]
     },
     "execution_count": 19,
     "metadata": {},
     "output_type": "execute_result"
    }
   ],
   "source": [
    "solve2(testlines, 10)"
   ]
  },
  {
   "cell_type": "code",
   "execution_count": 20,
   "id": "8da465ab-ef42-46d5-9a73-cfe7a6f97920",
   "metadata": {},
   "outputs": [
    {
     "data": {
      "text/plain": [
       "2112.0"
      ]
     },
     "execution_count": 20,
     "metadata": {},
     "output_type": "execute_result"
    }
   ],
   "source": [
    "solve2(puzzlelines, 10)"
   ]
  },
  {
   "cell_type": "code",
   "execution_count": 21,
   "id": "d26e36f0-b8bb-4af4-b048-e518bdb10f96",
   "metadata": {},
   "outputs": [
    {
     "data": {
      "text/plain": [
       "3243771149914.0"
      ]
     },
     "execution_count": 21,
     "metadata": {},
     "output_type": "execute_result"
    }
   ],
   "source": [
    "solve2(puzzlelines, 40)"
   ]
  },
  {
   "cell_type": "code",
   "execution_count": null,
   "id": "f2b4a77f-48cb-4930-9e0c-475ac6f4e9b3",
   "metadata": {},
   "outputs": [],
   "source": []
  }
 ],
 "metadata": {
  "kernelspec": {
   "display_name": "Python 3",
   "language": "python",
   "name": "python3"
  },
  "language_info": {
   "codemirror_mode": {
    "name": "ipython",
    "version": 3
   },
   "file_extension": ".py",
   "mimetype": "text/x-python",
   "name": "python",
   "nbconvert_exporter": "python",
   "pygments_lexer": "ipython3",
   "version": "3.9.9"
  }
 },
 "nbformat": 4,
 "nbformat_minor": 5
}
