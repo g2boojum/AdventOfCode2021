{
 "cells": [
  {
   "cell_type": "code",
   "execution_count": 1,
   "id": "60fd10dd-efde-4ea2-b13b-27307026109a",
   "metadata": {},
   "outputs": [],
   "source": [
    "import itertools\n",
    "import math"
   ]
  },
  {
   "cell_type": "code",
   "execution_count": 2,
   "id": "82458d44-459d-4602-a031-b9bebb39c85e",
   "metadata": {},
   "outputs": [],
   "source": [
    "testval, testvalans = 'D2FE28', '2021'\n",
    "testop1, testop1ans = '38006F45291200', (10, 20)\n",
    "testop2, testop2ans = 'EE00D40C823060', (1, 2, 3)\n",
    "testvsums = {'8A004A801A8002F478': 16,\n",
    "             '620080001611562C8802118E34': 12,\n",
    "             'C0015000016115A2E0802F182340': 23,\n",
    "             'A0016C880162017C3686B18A3D4780': 31}"
   ]
  },
  {
   "cell_type": "code",
   "execution_count": 3,
   "id": "93131c38-4288-45f6-ae3e-bdb605a658ae",
   "metadata": {},
   "outputs": [],
   "source": [
    "with open('day16.txt') as fp:\n",
    "    puzzledata = fp.read().strip()"
   ]
  },
  {
   "cell_type": "markdown",
   "id": "3a75dc14-f990-486e-80e6-238876743a10",
   "metadata": {},
   "source": [
    "## part 1 ##"
   ]
  },
  {
   "cell_type": "code",
   "execution_count": 4,
   "id": "8228c521-00e6-4da1-a0a4-c9e13ee36d37",
   "metadata": {},
   "outputs": [],
   "source": [
    "def bitstream(hexstr):\n",
    "    for c in hexstr:\n",
    "        bitstr = format(int(c, 16), '04b')\n",
    "        for bit in bitstr:\n",
    "            yield bit"
   ]
  },
  {
   "cell_type": "code",
   "execution_count": 5,
   "id": "40669f8c-460b-43e5-b82a-bb6cf4440e84",
   "metadata": {},
   "outputs": [],
   "source": [
    "def take(n, iterable):\n",
    "    return list(itertools.islice(iterable, n))"
   ]
  },
  {
   "cell_type": "code",
   "execution_count": 6,
   "id": "8470aab5-ee57-4820-adcf-240559e9b573",
   "metadata": {},
   "outputs": [],
   "source": [
    "def int_from_bits(bits):\n",
    "    return int(''.join(bits), 2)"
   ]
  },
  {
   "cell_type": "code",
   "execution_count": 7,
   "id": "cfff3f39-adaf-45a8-b9ae-3c97e835eeea",
   "metadata": {},
   "outputs": [],
   "source": [
    "def read_value(it):\n",
    "    valbits = []\n",
    "    last = False\n",
    "    while True:\n",
    "        prefix = next(it)\n",
    "        if prefix == '0':\n",
    "            last = True\n",
    "        valbits.extend(take(4, it))\n",
    "        if last:\n",
    "            break\n",
    "    return int_from_bits(valbits)"
   ]
  },
  {
   "cell_type": "code",
   "execution_count": 8,
   "id": "da405a99-e52d-4b3e-b73a-3b2f8ac88107",
   "metadata": {},
   "outputs": [],
   "source": [
    "def get_packets(it, num=-1):\n",
    "    packets = []\n",
    "    while num != 0:\n",
    "        num -= 1\n",
    "        version_bits = take(3, it)\n",
    "        if not version_bits:\n",
    "            # iterator exhausted\n",
    "            return packets\n",
    "        version = int_from_bits(version_bits)\n",
    "        typeid_bits = take(3, it)\n",
    "        if not typeid_bits:\n",
    "            # iterator exhausted\n",
    "            return packets\n",
    "        typeid = int_from_bits(typeid_bits)\n",
    "        if typeid == 4:\n",
    "            # value packet\n",
    "            val = read_value(it)\n",
    "            packet = {'version': version,\n",
    "                      'typeid': typeid,\n",
    "                      'value': val}\n",
    "            packets.append(packet)\n",
    "        else:\n",
    "            # op packet\n",
    "            try:\n",
    "                lengthtype = next(it)\n",
    "            except StopIteration:\n",
    "                # iterator exhausted\n",
    "                return packets\n",
    "            if lengthtype == '0':\n",
    "                # total length in bits\n",
    "                bitlength_bits = take(15, it)\n",
    "                if not bitlength_bits:\n",
    "                    # iterator exhausted\n",
    "                    return packets\n",
    "                numbits = int_from_bits(bitlength_bits)\n",
    "                if numbits == 0:\n",
    "                    # We've just been reading hex padding 0s; we're finished\n",
    "                    return packets\n",
    "                newit = iter(take(numbits, it))\n",
    "                subpackets = get_packets(newit)\n",
    "                packet = {'version': version,\n",
    "                          'typeid': typeid,\n",
    "                          'subpackets': subpackets}\n",
    "                packets.append(packet)\n",
    "            elif lengthtype == '1':\n",
    "                numsub = int_from_bits(take(11, it))\n",
    "                subpackets = get_packets(it, numsub)\n",
    "                packet = {'version': version,\n",
    "                          'typeid': typeid,\n",
    "                          'subpackets': subpackets}\n",
    "                packets.append(packet)\n",
    "            else:\n",
    "                raise ValueError(f'Bad length type ID: {lengthtype}')\n",
    "    return packets"
   ]
  },
  {
   "cell_type": "code",
   "execution_count": 9,
   "id": "d48f4745-41a7-409b-9d37-707d2b2a3dd2",
   "metadata": {},
   "outputs": [],
   "source": [
    "def get_version_ids(packets, acc=None):\n",
    "    if acc is None:\n",
    "        acc = []\n",
    "    for packet in packets:\n",
    "        acc.append(packet['version'])\n",
    "        if 'subpackets' in packet:\n",
    "            acc = get_version_ids(packet['subpackets'], acc)\n",
    "    return acc"
   ]
  },
  {
   "cell_type": "code",
   "execution_count": 10,
   "id": "f585b2f0-5efa-4563-977f-4d949949f31f",
   "metadata": {},
   "outputs": [
    {
     "name": "stdout",
     "output_type": "stream",
     "text": [
      "16 16\n",
      "12 12\n",
      "23 23\n",
      "31 31\n"
     ]
    }
   ],
   "source": [
    "for key in testvsums:\n",
    "    packets = get_packets(iter(bitstream(key)))\n",
    "    print(testvsums[key], sum(get_version_ids(packets)))"
   ]
  },
  {
   "cell_type": "code",
   "execution_count": 11,
   "id": "8840ef32-1abf-46bd-ae38-1844917ed9ad",
   "metadata": {},
   "outputs": [],
   "source": [
    "puzzlepackets = get_packets(iter(bitstream(puzzledata)))"
   ]
  },
  {
   "cell_type": "code",
   "execution_count": 12,
   "id": "12edefcf-d2d1-40f0-8fee-6f915ecb14a4",
   "metadata": {},
   "outputs": [
    {
     "data": {
      "text/plain": [
       "929"
      ]
     },
     "execution_count": 12,
     "metadata": {},
     "output_type": "execute_result"
    }
   ],
   "source": [
    "sum(get_version_ids(puzzlepackets))"
   ]
  },
  {
   "cell_type": "markdown",
   "id": "e9fbcf7e-cddb-4eee-b0db-e69c7a0d928e",
   "metadata": {},
   "source": [
    "## part 2 ##"
   ]
  },
  {
   "cell_type": "code",
   "execution_count": 13,
   "id": "ff88cbc7-be9f-4ca6-888b-64c50789d796",
   "metadata": {},
   "outputs": [],
   "source": [
    "def gt(v):\n",
    "    a, b = v\n",
    "    if a > b:\n",
    "        return 1\n",
    "    else:\n",
    "        return 0\n",
    "    \n",
    "def lt(v):\n",
    "    a,b = v\n",
    "    if a < b:\n",
    "        return 1\n",
    "    else:\n",
    "        return 0\n",
    "    \n",
    "def eq(v):\n",
    "    a,b = v\n",
    "    if a == b:\n",
    "        return 1\n",
    "    else:\n",
    "        return 0\n",
    "    \n",
    "    \n",
    "ops = {0: sum,\n",
    "       1: math.prod,\n",
    "       2: min,\n",
    "       3: max,\n",
    "       5: gt,\n",
    "       6: lt,\n",
    "       7: eq,\n",
    "      }"
   ]
  },
  {
   "cell_type": "code",
   "execution_count": 14,
   "id": "83073bbf-a519-4cb0-a393-9840c3920aa4",
   "metadata": {},
   "outputs": [],
   "source": [
    "def calc(packet):\n",
    "    if 'value' in packet:\n",
    "        return packet['value']\n",
    "    # operator packet\n",
    "    return ops[packet['typeid']]([calc(sp) for sp in packet['subpackets']])"
   ]
  },
  {
   "cell_type": "code",
   "execution_count": 15,
   "id": "aa05c0ce-9f3f-4f67-ab53-ae5cc5439a58",
   "metadata": {},
   "outputs": [],
   "source": [
    "pzpkt = puzzlepackets[0]"
   ]
  },
  {
   "cell_type": "code",
   "execution_count": 16,
   "id": "ff9afc03-0d18-40b6-a439-2f6807e9ca4d",
   "metadata": {},
   "outputs": [
    {
     "data": {
      "text/plain": [
       "911945136934"
      ]
     },
     "execution_count": 16,
     "metadata": {},
     "output_type": "execute_result"
    }
   ],
   "source": [
    "calc(pzpkt)"
   ]
  },
  {
   "cell_type": "code",
   "execution_count": null,
   "id": "2839de64-263f-4439-bf9f-42a91d8f2a1d",
   "metadata": {},
   "outputs": [],
   "source": []
  }
 ],
 "metadata": {
  "kernelspec": {
   "display_name": "Python 3",
   "language": "python",
   "name": "python3"
  },
  "language_info": {
   "codemirror_mode": {
    "name": "ipython",
    "version": 3
   },
   "file_extension": ".py",
   "mimetype": "text/x-python",
   "name": "python",
   "nbconvert_exporter": "python",
   "pygments_lexer": "ipython3",
   "version": "3.9.9"
  }
 },
 "nbformat": 4,
 "nbformat_minor": 5
}
