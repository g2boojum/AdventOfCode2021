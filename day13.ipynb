{
 "cells": [
  {
   "cell_type": "markdown",
   "id": "4e21c234-786f-4e0b-bff8-abaee9aefc49",
   "metadata": {},
   "source": [
    "## part 1 ##"
   ]
  },
  {
   "cell_type": "code",
   "execution_count": 1,
   "id": "481a5e71-2006-4df2-a2e5-b2b5a896a2e8",
   "metadata": {},
   "outputs": [],
   "source": [
    "testlines = '''6,10\n",
    "0,14\n",
    "9,10\n",
    "0,3\n",
    "10,4\n",
    "4,11\n",
    "6,0\n",
    "6,12\n",
    "4,1\n",
    "0,13\n",
    "10,12\n",
    "3,4\n",
    "3,0\n",
    "8,4\n",
    "1,10\n",
    "2,14\n",
    "8,10\n",
    "9,0\n",
    "\n",
    "fold along y=7\n",
    "fold along x=5'''.splitlines()"
   ]
  },
  {
   "cell_type": "code",
   "execution_count": 2,
   "id": "25b7955d-dcc3-4aea-a1e6-e8b18ef5d860",
   "metadata": {},
   "outputs": [],
   "source": [
    "import pathlib\n",
    "puzzlelines = pathlib.Path('day13.txt').read_text().split('\\n')[:-1]"
   ]
  },
  {
   "cell_type": "code",
   "execution_count": 3,
   "id": "dc24df03-2d5b-4078-a43f-4c1ec68fb411",
   "metadata": {},
   "outputs": [],
   "source": [
    "def parse(lines):\n",
    "    pts = set()\n",
    "    folds = []\n",
    "    for line in lines:\n",
    "        if ',' in line:\n",
    "            # it's a point\n",
    "            x,y = line.split(',')\n",
    "            pts.add((int(x),int(y)))\n",
    "        elif 'fold' in line:\n",
    "            tokens = line.split()\n",
    "            axis, loc = tokens[-1].split('=')\n",
    "            folds.append((axis.strip(), int(loc)))\n",
    "    return pts, folds"
   ]
  },
  {
   "cell_type": "code",
   "execution_count": 4,
   "id": "7f07e6c2-09fd-4648-96e6-1e8e70e47feb",
   "metadata": {},
   "outputs": [],
   "source": [
    "testpts, testfolds = parse(testlines)"
   ]
  },
  {
   "cell_type": "code",
   "execution_count": 5,
   "id": "c83f0ee7-d436-4c22-a1cc-c37890c8d41d",
   "metadata": {},
   "outputs": [
    {
     "data": {
      "text/plain": [
       "{(0, 3),\n",
       " (0, 13),\n",
       " (0, 14),\n",
       " (1, 10),\n",
       " (2, 14),\n",
       " (3, 0),\n",
       " (3, 4),\n",
       " (4, 1),\n",
       " (4, 11),\n",
       " (6, 0),\n",
       " (6, 10),\n",
       " (6, 12),\n",
       " (8, 4),\n",
       " (8, 10),\n",
       " (9, 0),\n",
       " (9, 10),\n",
       " (10, 4),\n",
       " (10, 12)}"
      ]
     },
     "execution_count": 5,
     "metadata": {},
     "output_type": "execute_result"
    }
   ],
   "source": [
    "testpts"
   ]
  },
  {
   "cell_type": "code",
   "execution_count": 6,
   "id": "b2981008-e18d-4cd3-b6f5-f25a488956fd",
   "metadata": {},
   "outputs": [
    {
     "data": {
      "text/plain": [
       "[('y', 7), ('x', 5)]"
      ]
     },
     "execution_count": 6,
     "metadata": {},
     "output_type": "execute_result"
    }
   ],
   "source": [
    "testfolds"
   ]
  },
  {
   "cell_type": "code",
   "execution_count": 7,
   "id": "ad4af09c-6216-42de-bb16-3fcabdf4b203",
   "metadata": {},
   "outputs": [],
   "source": [
    "def do_fold(pts, fold):\n",
    "    axis, loc = fold\n",
    "    newpts = set()\n",
    "    for (x,y) in pts:\n",
    "        if axis == 'y':\n",
    "            if y > loc:\n",
    "                y = loc - (y - loc)\n",
    "        if axis == 'x':\n",
    "            if x > loc:\n",
    "                x = loc - (x - loc)\n",
    "        newpts.add((x,y))\n",
    "    return newpts"
   ]
  },
  {
   "cell_type": "code",
   "execution_count": 8,
   "id": "3a2827ce-03ef-4d1a-8679-a2ccfffff2f1",
   "metadata": {},
   "outputs": [
    {
     "data": {
      "text/plain": [
       "17"
      ]
     },
     "execution_count": 8,
     "metadata": {},
     "output_type": "execute_result"
    }
   ],
   "source": [
    "len(do_fold(testpts, testfolds[0]))"
   ]
  },
  {
   "cell_type": "code",
   "execution_count": 9,
   "id": "f4ca0734-4a6c-43df-b9e3-4bdd4fba5379",
   "metadata": {},
   "outputs": [],
   "source": [
    "puzzlepts, puzzlefolds = parse(puzzlelines)"
   ]
  },
  {
   "cell_type": "code",
   "execution_count": 10,
   "id": "8c00bcd1-a4f4-484d-a1d6-555061118aad",
   "metadata": {},
   "outputs": [
    {
     "data": {
      "text/plain": [
       "689"
      ]
     },
     "execution_count": 10,
     "metadata": {},
     "output_type": "execute_result"
    }
   ],
   "source": [
    "len(do_fold(puzzlepts, puzzlefolds[0]))"
   ]
  },
  {
   "cell_type": "markdown",
   "id": "519b0641-a23a-4747-9878-bdacc2a0bb16",
   "metadata": {},
   "source": [
    "## part 2 ##"
   ]
  },
  {
   "cell_type": "code",
   "execution_count": 11,
   "id": "a17919de-c2fd-443c-86fe-3f33bcb66641",
   "metadata": {},
   "outputs": [],
   "source": [
    "def do_folds(pts, folds):\n",
    "    newpts = pts.copy()\n",
    "    for fold in folds:\n",
    "        newpts = do_fold(newpts, fold)\n",
    "    return newpts"
   ]
  },
  {
   "cell_type": "code",
   "execution_count": 12,
   "id": "b83b6d56-ddcf-4021-be01-b1047b92a8ef",
   "metadata": {},
   "outputs": [],
   "source": [
    "testfolded = do_folds(testpts, testfolds)"
   ]
  },
  {
   "cell_type": "code",
   "execution_count": 13,
   "id": "cadc44f6-1c39-425a-adc5-479e0c047753",
   "metadata": {},
   "outputs": [],
   "source": [
    "import numpy as np\n",
    "import matplotlib.pyplot as plt"
   ]
  },
  {
   "cell_type": "code",
   "execution_count": 14,
   "id": "417c2927-86ad-49e0-83a8-4bc081d907bf",
   "metadata": {},
   "outputs": [
    {
     "data": {
      "image/png": "[encoded data removed]",
      "text/plain": [
       "<Figure size 432x432 with 1 Axes>"
      ]
     },
     "metadata": {
      "needs_background": "light"
     },
     "output_type": "display_data"
    }
   ],
   "source": [
    "x = [pt[0] for pt in testfolded]\n",
    "y = [pt[1] for pt in testfolded]\n",
    "plt.figure(figsize=(6,6))\n",
    "plt.plot(x, y, 'o')\n",
    "plt.gca().invert_yaxis()"
   ]
  },
  {
   "cell_type": "code",
   "execution_count": 15,
   "id": "3313e9a1-9e17-4e28-8744-073f7dfd5532",
   "metadata": {},
   "outputs": [],
   "source": [
    "puzzlefolded = do_folds(puzzlepts, puzzlefolds)"
   ]
  },
  {
   "cell_type": "code",
   "execution_count": 16,
   "id": "705de035-2688-44b2-9bc3-9a5ed5400bdf",
   "metadata": {},
   "outputs": [
    {
     "data": {
      "image/png": "[encoded data removed]",
      "text/plain": [
       "<Figure size 432x432 with 1 Axes>"
      ]
     },
     "metadata": {
      "needs_background": "light"
     },
     "output_type": "display_data"
    }
   ],
   "source": [
    "x = [pt[0] for pt in puzzlefolded]\n",
    "y = [pt[1] for pt in puzzlefolded]\n",
    "plt.figure(figsize=(6,6))\n",
    "plt.plot(x, y, 'o')\n",
    "plt.axis([0, 40, 0, 40])\n",
    "plt.gca().invert_yaxis()"
   ]
  },
  {
   "cell_type": "code",
   "execution_count": null,
   "id": "69a40275-c576-4639-80dd-933b133dbfb4",
   "metadata": {},
   "outputs": [],
   "source": []
  }
 ],
 "metadata": {
  "kernelspec": {
   "display_name": "Python 3 (ipykernel)",
   "language": "python",
   "name": "python3"
  },
  "language_info": {
   "codemirror_mode": {
    "name": "ipython",
    "version": 3
   },
   "file_extension": ".py",
   "mimetype": "text/x-python",
   "name": "python",
   "nbconvert_exporter": "python",
   "pygments_lexer": "ipython3",
   "version": "3.7.3"
  }
 },
 "nbformat": 4,
 "nbformat_minor": 5
}
