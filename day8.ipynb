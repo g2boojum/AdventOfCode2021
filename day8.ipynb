{
 "cells": [
  {
   "cell_type": "markdown",
   "id": "54272ae4-0ee3-4824-9b74-58856deb942f",
   "metadata": {},
   "source": [
    "## part 1 ##"
   ]
  },
  {
   "cell_type": "code",
   "execution_count": 1,
   "id": "563b3f0a-bd1a-48ae-a912-bb2d9ea528d2",
   "metadata": {},
   "outputs": [],
   "source": [
    "testdata = '''be cfbegad cbdgef fgaecd cgeb fdcge agebfd fecdb fabcd edb | fdgacbe cefdb cefbgd gcbe\n",
    "edbfga begcd cbg gc gcadebf fbgde acbgfd abcde gfcbed gfec | fcgedb cgb dgebacf gc\n",
    "fgaebd cg bdaec gdafb agbcfd gdcbef bgcad gfac gcb cdgabef | cg cg fdcagb cbg\n",
    "fbegcd cbd adcefb dageb afcb bc aefdc ecdab fgdeca fcdbega | efabcd cedba gadfec cb\n",
    "aecbfdg fbg gf bafeg dbefa fcge gcbea fcaegb dgceab fcbdga | gecf egdcabf bgf bfgea\n",
    "fgeab ca afcebg bdacfeg cfaedg gcfdb baec bfadeg bafgc acf | gebdcfa ecba ca fadegcb\n",
    "dbcfg fgd bdegcaf fgec aegbdf ecdfab fbedc dacgb gdcebf gf | cefg dcbef fcge gbcadfe\n",
    "bdfegc cbegaf gecbf dfcage bdacg ed bedf ced adcbefg gebcd | ed bcgafe cdgba cbgef\n",
    "egadfb cdbfeg cegd fecab cgb gbdefca cg fgcdab egfdb bfceg | gbdfcae bgc cg cgb\n",
    "gcafb gcf dcaebfg ecagb gf abcdeg gaef cafbge fdbac fegbdc | fgae cfgab fg bagce'''.split('\\n')"
   ]
  },
  {
   "cell_type": "code",
   "execution_count": 2,
   "id": "a6b39723-5880-4da2-8808-48b1a9253e5e",
   "metadata": {},
   "outputs": [],
   "source": [
    "with open('day8.txt') as fp:\n",
    "    puzzledata = fp.read().split('\\n')[:-1]"
   ]
  },
  {
   "cell_type": "code",
   "execution_count": 3,
   "id": "ec03814c-51c2-4f84-b931-b994323d58ee",
   "metadata": {},
   "outputs": [
    {
     "data": {
      "text/plain": [
       "'adgceb dacebfg caedgf dc acgfe dfgbe cgfeab cfda defgc edc | egfcda gcaedbf faceg afbceg'"
      ]
     },
     "execution_count": 3,
     "metadata": {},
     "output_type": "execute_result"
    }
   ],
   "source": [
    "puzzledata[-1]"
   ]
  },
  {
   "cell_type": "code",
   "execution_count": 4,
   "id": "21cc72a1-a680-4f9f-84a7-fe6273f30655",
   "metadata": {},
   "outputs": [],
   "source": [
    "easy_lengths = (2, 3, 4, 7)\n",
    "def count_easy_digits(lines):\n",
    "    num = 0\n",
    "    for line in lines:\n",
    "        rhs = line.split('|')[1]\n",
    "        tokens = rhs.split()\n",
    "        for token in tokens:\n",
    "            l = len(token)\n",
    "            if l in easy_lengths:\n",
    "                num += 1\n",
    "    return num"
   ]
  },
  {
   "cell_type": "code",
   "execution_count": 5,
   "id": "ceabff60-0a29-4c2d-857a-210ae80ab089",
   "metadata": {},
   "outputs": [
    {
     "data": {
      "text/plain": [
       "26"
      ]
     },
     "execution_count": 5,
     "metadata": {},
     "output_type": "execute_result"
    }
   ],
   "source": [
    "count_easy_digits(testdata)"
   ]
  },
  {
   "cell_type": "code",
   "execution_count": 6,
   "id": "67b52fff-d125-403e-bac3-f0967e37994a",
   "metadata": {},
   "outputs": [
    {
     "data": {
      "text/plain": [
       "245"
      ]
     },
     "execution_count": 6,
     "metadata": {},
     "output_type": "execute_result"
    }
   ],
   "source": [
    "count_easy_digits(puzzledata)"
   ]
  },
  {
   "cell_type": "markdown",
   "id": "8053a94f-4be6-4f8f-b9d2-b48345b883ee",
   "metadata": {},
   "source": [
    "## part 2 ##"
   ]
  },
  {
   "cell_type": "code",
   "execution_count": 34,
   "id": "c8746fd2-e6ef-40e0-9105-f43b2b0568fc",
   "metadata": {},
   "outputs": [],
   "source": [
    "def decode(tokens):\n",
    "    sets = []\n",
    "    for token in tokens:\n",
    "        sets.append(set(token))\n",
    "    sets5 = []\n",
    "    sets6 = []\n",
    "    for s in sets:\n",
    "        if len(s) == 2:\n",
    "            set2 = s\n",
    "        elif len(s) == 3:\n",
    "            set3 = s\n",
    "        elif len(s) == 4:\n",
    "            set4 = s\n",
    "        elif len(s) == 5:\n",
    "            sets5.append(s)\n",
    "        elif len(s) == 6:\n",
    "            sets6.append(s)\n",
    "    seta = set3 - set2\n",
    "    for s in sets6:\n",
    "        intersec = set2 & s\n",
    "        if len(intersec) == 1:\n",
    "            setf = intersec\n",
    "            setc = set2 - intersec\n",
    "            break\n",
    "    setbdf = set4 - setc\n",
    "    for s in sets5:\n",
    "        r = s - setbdf - seta\n",
    "        if len(r) == 1:\n",
    "            setg = r\n",
    "            break\n",
    "    setbd = set4 - set2\n",
    "    for s in sets5:\n",
    "        diff = s - seta - setbd - setc - setf - setg\n",
    "        if diff:\n",
    "            sete = diff\n",
    "            break\n",
    "    for s in sets6:\n",
    "        diff = s - seta - setc - sete - setf - setg\n",
    "        if len(diff) == 1:\n",
    "            setb = diff\n",
    "            setd = setbd - setb\n",
    "            break\n",
    "    d = {seta.pop(): 'a',\n",
    "         setb.pop(): 'b',\n",
    "         setc.pop(): 'c',\n",
    "         setd.pop(): 'd',\n",
    "         sete.pop(): 'e',\n",
    "         setf.pop(): 'f',\n",
    "         setg.pop(): 'g'}\n",
    "    return d"
   ]
  },
  {
   "cell_type": "code",
   "execution_count": 22,
   "id": "4b24e96e-b6f9-4d1b-af64-6d181aee49d3",
   "metadata": {},
   "outputs": [],
   "source": [
    "nums = {'abcefg': 0, 'cf': 1, 'acdeg': 2, 'acdfg': 3, 'bcdf': 4,\n",
    "        'abdfg': 5, 'abdefg': 6, 'acf': 7, 'abcdefg': 8, 'abcdfg': 9}"
   ]
  },
  {
   "cell_type": "code",
   "execution_count": 32,
   "id": "4dfe8186-f16b-4993-bf4d-b91d0a726d9d",
   "metadata": {},
   "outputs": [],
   "source": [
    "def process_line(line):\n",
    "    lhs, rhs = line.split('|')\n",
    "    keytokens = lhs.split()\n",
    "    output = rhs.split()\n",
    "    d = decode(keytokens)\n",
    "    digits = []\n",
    "    for o in output:\n",
    "        dig = nums[''.join(sorted([d[c] for c in o]))]\n",
    "        digits.append(dig)\n",
    "    return int(''.join(str(i) for i in digits))\n"
   ]
  },
  {
   "cell_type": "code",
   "execution_count": 35,
   "id": "3fd3d54a-6d1f-407f-8578-7b8cc8b81cd9",
   "metadata": {},
   "outputs": [
    {
     "data": {
      "text/plain": [
       "5353"
      ]
     },
     "execution_count": 35,
     "metadata": {},
     "output_type": "execute_result"
    }
   ],
   "source": [
    "testline = 'acedgfb cdfbe gcdfa fbcad dab cefabd cdfgeb eafb cagedb ab | cdfeb fcadb cdfeb cdbaf'\n",
    "process_line(testline)"
   ]
  },
  {
   "cell_type": "code",
   "execution_count": 36,
   "id": "f88cf790-8fef-4c6c-8c3f-aabc86d459a3",
   "metadata": {},
   "outputs": [
    {
     "data": {
      "text/plain": [
       "61229"
      ]
     },
     "execution_count": 36,
     "metadata": {},
     "output_type": "execute_result"
    }
   ],
   "source": [
    "sum(process_line(line) for line in testdata)"
   ]
  },
  {
   "cell_type": "code",
   "execution_count": null,
   "id": "8b56e61d-94d1-470a-8649-a2ca24008526",
   "metadata": {},
   "outputs": [],
   "source": []
  }
 ],
 "metadata": {
  "kernelspec": {
   "display_name": "Python 3",
   "language": "python",
   "name": "python3"
  },
  "language_info": {
   "codemirror_mode": {
    "name": "ipython",
    "version": 3
   },
   "file_extension": ".py",
   "mimetype": "text/x-python",
   "name": "python",
   "nbconvert_exporter": "python",
   "pygments_lexer": "ipython3",
   "version": "3.9.9"
  }
 },
 "nbformat": 4,
 "nbformat_minor": 5
}
